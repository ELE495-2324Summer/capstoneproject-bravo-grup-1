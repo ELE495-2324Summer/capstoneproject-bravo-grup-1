{
 "cells": [
  {
   "cell_type": "code",
   "execution_count": 1,
   "id": "cardiovascular-framework",
   "metadata": {},
   "outputs": [
    {
     "name": "stdout",
     "output_type": "stream",
     "text": [
      "Waiting for input... * Serving Flask app '__main__' (lazy loading)\n",
      "\n",
      " * Environment: production\n",
      "\u001b[31m   WARNING: This is a development server. Do not use it in a production deployment.\u001b[0m\n",
      "\u001b[2m   Use a production WSGI server instead.\u001b[0m\n",
      " * Debug mode: off\n"
     ]
    },
    {
     "name": "stderr",
     "output_type": "stream",
     "text": [
      " * Running on all addresses.\n",
      "   WARNING: This is a development server. Do not use it in a production deployment.\n",
      " * Running on http://192.168.81.192:5002/ (Press CTRL+C to quit)\n",
      "192.168.81.161 - - [16/Jul/2024 04:40:47] \"\u001b[33mGET /get_status HTTP/1.1\u001b[0m\" 404 -\n",
      "192.168.81.161 - - [16/Jul/2024 04:40:48] \"\u001b[33mGET /get_status HTTP/1.1\u001b[0m\" 404 -\n",
      "192.168.81.161 - - [16/Jul/2024 04:40:49] \"\u001b[33mGET /get_status HTTP/1.1\u001b[0m\" 404 -\n",
      "192.168.81.161 - - [16/Jul/2024 04:40:49] \"POST /set_input HTTP/1.1\" 200 -\n"
     ]
    },
    {
     "name": "stdout",
     "output_type": "stream",
     "text": [
      "Input received: 5\n",
      "Input received, continuing with the rest of the code.\n",
      "Running the rest of the code...\n"
     ]
    }
   ],
   "source": [
    "from flask import Flask, request, jsonify\n",
    "import threading\n",
    "\n",
    "app = Flask(__name__)\n",
    "user_input = None\n",
    "parking_status = \"Not Started\"  # Global parking status\n",
    "\n",
    "# Bir threading.Event oluşturun\n",
    "input_received_event = threading.Event()\n",
    "\n",
    "@app.route('/set_input', methods=['POST'])\n",
    "def set_input():\n",
    "    global user_input, parking_status\n",
    "    data = request.json\n",
    "    user_input = data.get('input')\n",
    "    if user_input is not None and user_input.isdigit():\n",
    "        user_input = int(user_input)\n",
    "        print(\"Input received:\", user_input)\n",
    "        parking_status = \"Input Received\"\n",
    "        # Olayı tetikle\n",
    "        input_received_event.set()\n",
    "        response = {\n",
    "            \"message\": f\"Girdiğiniz sayı: {user_input}\"            \n",
    "        }\n",
    "        return jsonify(response), 200\n",
    "    else:\n",
    "        return jsonify({\"message\": \"Invalid input\"}), 400\n",
    "\n",
    "if __name__ == \"__main__\":\n",
    "    def run_flask():\n",
    "        app.run(host='0.0.0.0', port=5002)\n",
    "    \n",
    "    flask_thread = threading.Thread(target=run_flask)\n",
    "    flask_thread.start()\n",
    "    \n",
    "    # İstek gelene kadar bekle\n",
    "    print(\"Waiting for input...\")\n",
    "    input_received_event.wait()\n",
    "    \n",
    "    # İstek geldikten sonra devam eder\n",
    "    print(\"Input received, continuing with the rest of the code.\")\n",
    "    \n",
    "    # Ana kod burada devam eder\n",
    "    # Örneğin, JetBot kodu veya diğer işlemler\n",
    "    print(\"Running the rest of the code...\")\n"
   ]
  },
  {
   "cell_type": "code",
   "execution_count": 2,
   "id": "white-emerald",
   "metadata": {},
   "outputs": [
    {
     "name": "stderr",
     "output_type": "stream",
     "text": [
      "192.168.81.161 - - [16/Jul/2024 01:30:03] \"\u001b[33mGET /get_status HTTP/1.1\u001b[0m\" 404 -\n",
      "192.168.81.161 - - [16/Jul/2024 01:30:03] \"\u001b[33mGET /get_status HTTP/1.1\u001b[0m\" 404 -\n",
      "192.168.81.161 - - [16/Jul/2024 01:30:04] \"\u001b[33mGET /get_status HTTP/1.1\u001b[0m\" 404 -\n",
      "192.168.81.161 - - [16/Jul/2024 01:30:05] \"\u001b[33mGET /get_status HTTP/1.1\u001b[0m\" 404 -\n"
     ]
    }
   ],
   "source": [
    "import torch\n",
    "\n",
    "device = torch.device('cuda')\n",
    "gate=0"
   ]
  },
  {
   "cell_type": "code",
   "execution_count": 3,
   "id": "viral-tattoo",
   "metadata": {},
   "outputs": [],
   "source": [
    "plaka=user_input"
   ]
  },
  {
   "cell_type": "code",
   "execution_count": 4,
   "id": "comprehensive-bathroom",
   "metadata": {},
   "outputs": [
    {
     "name": "stderr",
     "output_type": "stream",
     "text": [
      "192.168.81.161 - - [16/Jul/2024 01:30:06] \"\u001b[33mGET /get_status HTTP/1.1\u001b[0m\" 404 -\n",
      "192.168.81.161 - - [16/Jul/2024 01:30:07] \"\u001b[33mGET /get_status HTTP/1.1\u001b[0m\" 404 -\n",
      "192.168.81.161 - - [16/Jul/2024 01:30:08] \"\u001b[33mGET /get_status HTTP/1.1\u001b[0m\" 404 -\n",
      "192.168.81.161 - - [16/Jul/2024 01:30:11] \"\u001b[33mGET /get_status HTTP/1.1\u001b[0m\" 404 -\n",
      "192.168.81.161 - - [16/Jul/2024 01:31:24] \"\u001b[33mGET /get_status HTTP/1.1\u001b[0m\" 404 -\n",
      "192.168.81.161 - - [16/Jul/2024 01:31:25] \"\u001b[33mGET /get_status HTTP/1.1\u001b[0m\" 404 -\n",
      "192.168.81.161 - - [16/Jul/2024 01:31:24] \"\u001b[33mGET /get_status HTTP/1.1\u001b[0m\" 404 -\n",
      "192.168.81.161 - - [16/Jul/2024 01:31:24] \"\u001b[33mGET /get_status HTTP/1.1\u001b[0m\" 404 -\n"
     ]
    },
    {
     "data": {
      "text/plain": [
       "<All keys matched successfully>"
      ]
     },
     "execution_count": 4,
     "metadata": {},
     "output_type": "execute_result"
    },
    {
     "name": "stderr",
     "output_type": "stream",
     "text": [
      "192.168.81.161 - - [16/Jul/2024 01:31:25] \"\u001b[33mGET /get_status HTTP/1.1\u001b[0m\" 404 -\n",
      "192.168.81.161 - - [16/Jul/2024 01:31:25] \"\u001b[33mGET /get_status HTTP/1.1\u001b[0m\" 404 -\n",
      "192.168.81.161 - - [16/Jul/2024 01:31:25] \"\u001b[33mGET /get_status HTTP/1.1\u001b[0m\" 404 -\n",
      "192.168.81.161 - - [16/Jul/2024 01:31:25] \"\u001b[33mGET /get_status HTTP/1.1\u001b[0m\" 404 -\n",
      "192.168.81.161 - - [16/Jul/2024 01:31:25] \"\u001b[33mGET /get_status HTTP/1.1\u001b[0m\" 404 -\n",
      "192.168.81.161 - - [16/Jul/2024 01:31:25] \"\u001b[33mGET /get_status HTTP/1.1\u001b[0m\" 404 -\n",
      "192.168.81.161 - - [16/Jul/2024 01:31:25] \"\u001b[33mGET /get_status HTTP/1.1\u001b[0m\" 404 -\n",
      "192.168.81.161 - - [16/Jul/2024 01:31:25] \"\u001b[33mGET /get_status HTTP/1.1\u001b[0m\" 404 -\n",
      "192.168.81.161 - - [16/Jul/2024 01:31:25] \"\u001b[33mGET /get_status HTTP/1.1\u001b[0m\" 404 -\n"
     ]
    }
   ],
   "source": [
    "import torch\n",
    "from torch2trt import TRTModule\n",
    "\n",
    "model_trt_1 = TRTModule()\n",
    "model_trt_1.load_state_dict(torch.load('best_steering_model_xy_yeni_trt.pth'))"
   ]
  },
  {
   "cell_type": "code",
   "execution_count": 5,
   "id": "demographic-lending",
   "metadata": {},
   "outputs": [
    {
     "name": "stderr",
     "output_type": "stream",
     "text": [
      "192.168.81.161 - - [16/Jul/2024 01:31:32] \"\u001b[33mGET /get_status HTTP/1.1\u001b[0m\" 404 -\n"
     ]
    }
   ],
   "source": [
    "import torchvision.transforms as transforms\n",
    "import torch.nn.functional as F\n",
    "import cv2\n",
    "import PIL.Image\n",
    "import numpy as np\n",
    "\n",
    "mean = torch.Tensor([0.485, 0.456, 0.406]).cuda().half()\n",
    "std = torch.Tensor([0.229, 0.224, 0.225]).cuda().half()\n",
    "\n",
    "def preprocess(image):\n",
    "    image = PIL.Image.fromarray(image)\n",
    "    image = transforms.functional.to_tensor(image).to(device).half()\n",
    "    image.sub_(mean[:, None, None]).div_(std[:, None, None])\n",
    "    return image[None, ...]"
   ]
  },
  {
   "cell_type": "code",
   "execution_count": 13,
   "id": "strong-garage",
   "metadata": {},
   "outputs": [],
   "source": [
    "from IPython.display import display\n",
    "import ipywidgets\n",
    "import traitlets\n",
    "from jetbot import Camera, bgr8_to_jpeg\n",
    "\n",
    "\n",
    "camera = Camera()"
   ]
  },
  {
   "cell_type": "code",
   "execution_count": 14,
   "id": "greenhouse-magnet",
   "metadata": {},
   "outputs": [
    {
     "data": {
      "application/vnd.jupyter.widget-view+json": {
       "model_id": "",
       "version_major": 2,
       "version_minor": 0
      },
      "text/plain": [
       "Image(value=b'\\xff\\xd8\\xff\\xe0\\x00\\x10JFIF\\x00\\x01\\x01\\x00\\x00\\x01\\x00\\x01\\x00\\x00\\xff\\xdb\\x00C\\x00\\x02\\x01\\x0…"
      ]
     },
     "metadata": {},
     "output_type": "display_data"
    }
   ],
   "source": [
    "image_widget = ipywidgets.Image()\n",
    "\n",
    "traitlets.dlink((camera, 'value'), (image_widget, 'value'), transform=bgr8_to_jpeg)\n",
    "\n",
    "display(image_widget)"
   ]
  },
  {
   "cell_type": "code",
   "execution_count": 15,
   "id": "recent-medicaid",
   "metadata": {},
   "outputs": [],
   "source": [
    "from jetbot import Robot\n",
    "\n",
    "robot = Robot()"
   ]
  },
  {
   "cell_type": "code",
   "execution_count": 16,
   "id": "compliant-detroit",
   "metadata": {},
   "outputs": [
    {
     "data": {
      "application/vnd.jupyter.widget-view+json": {
       "model_id": "91523ae6b09540629a9dacebf52620b2",
       "version_major": 2,
       "version_minor": 0
      },
      "text/plain": [
       "FloatSlider(value=0.12, description='speed gain', max=1.0, step=0.01)"
      ]
     },
     "metadata": {},
     "output_type": "display_data"
    },
    {
     "data": {
      "application/vnd.jupyter.widget-view+json": {
       "model_id": "89a611f0f3164c62b65fde6d3bd1bca0",
       "version_major": 2,
       "version_minor": 0
      },
      "text/plain": [
       "FloatSlider(value=0.005, description='steering gain', max=1.0, step=0.005)"
      ]
     },
     "metadata": {},
     "output_type": "display_data"
    },
    {
     "data": {
      "application/vnd.jupyter.widget-view+json": {
       "model_id": "a2bdfdab03084a28aaaf8f5b81ced32e",
       "version_major": 2,
       "version_minor": 0
      },
      "text/plain": [
       "FloatSlider(value=0.04, description='steering kd', max=0.5, step=0.001)"
      ]
     },
     "metadata": {},
     "output_type": "display_data"
    },
    {
     "data": {
      "application/vnd.jupyter.widget-view+json": {
       "model_id": "13e30f2be9db46e4900e3952a15fb42e",
       "version_major": 2,
       "version_minor": 0
      },
      "text/plain": [
       "FloatSlider(value=0.0, description='steering bias', max=0.3, min=-0.3, step=0.01)"
      ]
     },
     "metadata": {},
     "output_type": "display_data"
    }
   ],
   "source": [
    "speed_gain_slider = ipywidgets.FloatSlider(min=0.0, max=1.0, step=0.01, value=0.12, description='speed gain')\n",
    "steering_gain_slider = ipywidgets.FloatSlider(min=0.0, max=1.0, step=0.005, value=0.005, description='steering gain')\n",
    "steering_dgain_slider = ipywidgets.FloatSlider(min=0.0, max=0.5, step=0.001, value=0.04, description='steering kd')\n",
    "steering_bias_slider = ipywidgets.FloatSlider(min=-0.3, max=0.3, step=0.01, value=0.0, description='steering bias')\n",
    "\n",
    "display(speed_gain_slider, steering_gain_slider, steering_dgain_slider, steering_bias_slider)"
   ]
  },
  {
   "cell_type": "code",
   "execution_count": 17,
   "id": "loose-furniture",
   "metadata": {},
   "outputs": [
    {
     "data": {
      "application/vnd.jupyter.widget-view+json": {
       "model_id": "6ee05d8d374041539d62250859891a8a",
       "version_major": 2,
       "version_minor": 0
      },
      "text/plain": [
       "HBox(children=(FloatSlider(value=0.0, description='y', max=1.0, orientation='vertical'), FloatSlider(value=0.0…"
      ]
     },
     "metadata": {},
     "output_type": "display_data"
    },
    {
     "data": {
      "application/vnd.jupyter.widget-view+json": {
       "model_id": "e6d2cbfe13314492b5bed4e32d056a60",
       "version_major": 2,
       "version_minor": 0
      },
      "text/plain": [
       "FloatSlider(value=0.0, description='x', max=1.0, min=-1.0)"
      ]
     },
     "metadata": {},
     "output_type": "display_data"
    },
    {
     "data": {
      "application/vnd.jupyter.widget-view+json": {
       "model_id": "f06cb9f89d604af1a9441d21d143dc6f",
       "version_major": 2,
       "version_minor": 0
      },
      "text/plain": [
       "FloatSlider(value=0.0, description='steering', max=1.0, min=-1.0)"
      ]
     },
     "metadata": {},
     "output_type": "display_data"
    }
   ],
   "source": [
    "x_slider = ipywidgets.FloatSlider(min=-1.0, max=1.0, description='x')\n",
    "y_slider = ipywidgets.FloatSlider(min=0, max=1.0, orientation='vertical', description='y')\n",
    "steering_slider = ipywidgets.FloatSlider(min=-1.0, max=1.0, description='steering')\n",
    "speed_slider = ipywidgets.FloatSlider(min=0, max=1.0, orientation='vertical', description='speed')\n",
    "\n",
    "display(ipywidgets.HBox([y_slider, speed_slider]))\n",
    "display(x_slider, steering_slider)"
   ]
  },
  {
   "cell_type": "code",
   "execution_count": 18,
   "id": "stuffed-jacksonville",
   "metadata": {},
   "outputs": [],
   "source": [
    "import time\n",
    "import numpy as np\n",
    "\n",
    "\n",
    "angle = 0.0\n",
    "angle_last = 0.0\n",
    "\n",
    "def execute(change):\n",
    "    global angle, angle_last, a\n",
    "    image = change['new']\n",
    "    xy = model_trt_1(preprocess(image)).detach().float().cpu().numpy().flatten()\n",
    "    x = xy[0]\n",
    "    y = (0.5 - xy[1]) / 2.0\n",
    "\n",
    "    x_slider.value = x\n",
    "    y_slider.value = y\n",
    "\n",
    "    speed_slider.value = speed_gain_slider.value\n",
    "\n",
    "    angle = np.arctan2(x, y)\n",
    "    pid = angle * steering_gain_slider.value + (angle - angle_last) * steering_dgain_slider.value\n",
    "    angle_last = angle\n",
    "\n",
    "    steering_slider.value = pid + steering_bias_slider.value\n",
    "\n",
    "    \n",
    "    \n",
    "    angle_threshold = 0.05  # Define a small threshold for the angle to consider the robot as centered\n",
    "    if abs(angle) < angle_threshold:\n",
    "            # Move straight if the angle is within the threshold\n",
    "            robot.left_motor.value = speed_slider.value\n",
    "            robot.right_motor.value = speed_slider.value\n",
    "    else:\n",
    "            # Adjust motor speeds based on the calculated PID value\n",
    "            robot.left_motor.value = 1.05*max(min(speed_slider.value + steering_slider.value, 1.0), 0.0)\n",
    "            robot.right_motor.value = max(min(speed_slider.value - steering_slider.value, 1.0), 0.0)\n",
    "\n",
    "execute({'new': camera.value})\n",
    "camera.observe(execute, names='value')\n",
    "import time\n",
    "time.sleep(1.5)\n",
    "\n",
    "camera.unobserve(execute, names='value')\n",
    "\n",
    "\n",
    "\n",
    "time.sleep(0.1)  # add a small sleep to make sure frames have finished processing\n",
    "\n",
    "robot.stop()"
   ]
  },
  {
   "cell_type": "code",
   "execution_count": 12,
   "id": "arctic-washington",
   "metadata": {},
   "outputs": [],
   "source": [
    "camera.stop()"
   ]
  },
  {
   "cell_type": "code",
   "execution_count": 19,
   "id": "clean-wayne",
   "metadata": {},
   "outputs": [],
   "source": [
    "#sol\n",
    "import time\n",
    "robot.set_motors(-0.18,0.18)\n",
    "time.sleep(0.5)\n",
    "robot.set_motors(1,-1)\n",
    "\n",
    "robot.stop()"
   ]
  },
  {
   "cell_type": "code",
   "execution_count": 22,
   "id": "broken-understanding",
   "metadata": {},
   "outputs": [
    {
     "data": {
      "application/vnd.jupyter.widget-view+json": {
       "model_id": "7418645a2c124fd1a6b5d5bed4748e3d",
       "version_major": 2,
       "version_minor": 0
      },
      "text/plain": [
       "Image(value=b'', format='jpeg', height='480', width='640')"
      ]
     },
     "metadata": {},
     "output_type": "display_data"
    }
   ],
   "source": [
    "#calısan kod\n",
    "import time\n",
    "import pytesseract\n",
    "import cv2\n",
    "import numpy as np\n",
    "from jetbot import Camera,Robot\n",
    "import ipywidgets.widgets as widgets\n",
    "from IPython.display import display\n",
    "\n",
    "robot=Robot()\n",
    "camera=Camera.instance(width=640,height=480)\n",
    "# İleri gitmek için motorları belirli bir hızda çalıştırın\n",
    "\n",
    "# JetBot kamerasını başlat\n",
    "\n",
    "\n",
    "# Görüntüyü IPython widget'ında göstermek için widget oluştur\n",
    "image_widget=widgets.Image(format='jpeg',width=640,height=480)\n",
    "display(image_widget)\n",
    "\n",
    "# OCR ayarlarını tanımla\n",
    "custom_config = r'--oem 3 --psm 6 outputbase digits'\n",
    "start_time=time.time()\n",
    "# Ana döngü\n",
    "try:\n",
    "    while True:\n",
    "        if time.time()-start_time>4:\n",
    "            camera.stop()\n",
    "            break\n",
    "        frame = camera.value\n",
    "        \n",
    "    # Sağdan ve soldan belirli bir genişlikte kısmı kırp\n",
    "        crop_width_right = 260 # Sağdan kırpılacak genişlik\n",
    "        crop_width_left = 220 # Soldan kırpılacak genişlik\n",
    "        \n",
    "        frame = frame[:, crop_width_left:-crop_width_right]\n",
    "        \n",
    "    # Görüntüyü gri tonlamaya çevir\n",
    "        gray = cv2.cvtColor(frame, cv2.COLOR_BGR2GRAY)\n",
    "    # Görüntüyü bulanıklaştır\n",
    "        gray = cv2.GaussianBlur(gray, (5, 5), 0)\n",
    "    # Görüntüyü binarize et\n",
    "        _, binary_image = cv2.threshold(gray, 0, 255, cv2.THRESH_BINARY + cv2.THRESH_OTSU)\n",
    "    \n",
    "    # OCR ile metin çıkar\n",
    "        text = pytesseract.image_to_string(binary_image, config=custom_config)\n",
    "    # Sayıları filtrele\n",
    "        number = ''.join(filter(str.isdigit, text))\n",
    "        if number:  # Eğer sayı bulunduysa\n",
    "            digit_list = [int(digit) for digit in number] # number string'indeki her rakamı integer listesine dönüştür\n",
    "            if len(digit_list)==1:\n",
    "                num=digit_list[0]\n",
    "                \n",
    "                \n",
    "                    \n",
    "            else:\n",
    "                \n",
    "                num=digit_list[0]*10+digit_list[1]\n",
    "        else:\n",
    "            num=0\n",
    "            print('sayi yok')\n",
    "            \n",
    "            \n",
    "    # Widget güncellemesi için görüntüyü encode et\n",
    "        _, encoded_image = cv2.imencode('.jpg', frame)\n",
    "        image_widget.value = encoded_image.tobytes()\n",
    "\n",
    "    \n",
    "\n",
    "        \n",
    "except KeyboardInterrupt:\n",
    "    # Kamera durdurulduğunda döngüyü kes\n",
    "    camera.stop()\n",
    "    print(\"Kamera durduruldu\")"
   ]
  },
  {
   "cell_type": "code",
   "execution_count": 23,
   "id": "accompanied-protein",
   "metadata": {},
   "outputs": [],
   "source": [
    "camera.stop()"
   ]
  },
  {
   "cell_type": "code",
   "execution_count": 24,
   "id": "patient-triumph",
   "metadata": {},
   "outputs": [],
   "source": [
    "if num==plaka:\n",
    "    import torch\n",
    "    from torch2trt import TRTModule\n",
    "\n",
    "    model_trt = TRTModule()\n",
    "    model_trt.load_state_dict(torch.load('best_parking_model_xy_trt.pth'))\n",
    "    from IPython.display import display\n",
    "    import ipywidgets\n",
    "    import traitlets\n",
    "    from jetbot import Camera, bgr8_to_jpeg\n",
    "\n",
    "    camera = Camera()\n",
    "    speed_gain_slider = ipywidgets.FloatSlider(min=0.0, max=1.0, step=0.01, value=0.12, description='speed gain')\n",
    "    steering_gain_slider = ipywidgets.FloatSlider(min=0.0, max=1.0, step=0.005, value=0.005, description='steering gain')\n",
    "    steering_dgain_slider = ipywidgets.FloatSlider(min=0.0, max=0.5, step=0.001, value=0.04, description='steering kd')\n",
    "    steering_bias_slider = ipywidgets.FloatSlider(min=-0.3, max=0.3, step=0.01, value=0.0, description='steering bias')\n",
    "    \n",
    "    display(speed_gain_slider, steering_gain_slider, steering_dgain_slider, steering_bias_slider)\n",
    "    import time\n",
    "    from jetbot import Robot\n",
    "    robot=Robot()\n",
    "    angle = 0.0\n",
    "    angle_last = 0.0\n",
    "    \n",
    "    def execute(change):\n",
    "        global angle, angle_last,b\n",
    "        image = change['new']\n",
    "        xy = model_trt(preprocess(image)).detach().float().cpu().numpy().flatten()\n",
    "        x = xy[0]\n",
    "        y = (0.5 - xy[1]) / 2.0\n",
    "    \n",
    "        x_slider.value = x\n",
    "        y_slider.value = y\n",
    "    \n",
    "        speed_slider.value = speed_gain_slider.value\n",
    "    \n",
    "        angle = np.arctan2(x, y)\n",
    "        pid = angle * steering_gain_slider.value + (angle - angle_last) * steering_dgain_slider.value\n",
    "        angle_last = angle\n",
    "    \n",
    "        steering_slider.value = pid + steering_bias_slider.value\n",
    "    \n",
    "    \n",
    "        \n",
    "        \n",
    "        robot.left_motor.value = 1.10*max(min(speed_slider.value + steering_slider.value, 1.0), 0.0)\n",
    "        robot.right_motor.value = max(min(speed_slider.value - steering_slider.value, 1.0), 0.0)\n",
    "    execute({'new': camera.value})\n",
    "    camera.observe(execute, names='value')\n",
    "    import time\n",
    "    \n",
    "    time.sleep(2.85)\n",
    "    gate=1\n",
    "    camera.unobserve(execute, names='value')\n",
    "\n",
    "\n",
    "\n",
    "    time.sleep(0.1)  # add a small sleep to make sure frames have finished processing\n",
    "\n",
    "    robot.stop()\n",
    "    camera.stop()"
   ]
  },
  {
   "cell_type": "code",
   "execution_count": 25,
   "id": "sapphire-peninsula",
   "metadata": {},
   "outputs": [],
   "source": [
    "if gate == 1:\n",
    "    import smbus2\n",
    "    import time\n",
    "    import RPi.GPIO as GPIO\n",
    "\n",
    "    kirmizi_bas = 0\n",
    "    kirmizi = 0\n",
    "    kirmizi1 = 0\n",
    "    kirmizi2 = 0\n",
    "    hot = 0\n",
    "    beyaz1 = 0\n",
    "    beyaz2 = 0\n",
    "\n",
    "    # TCS34725 I2C adresi ve komut bitleri\n",
    "    TCS34725_ADDRESS = 0x29\n",
    "    TCS34725_COMMAND_BIT = 0x80\n",
    "\n",
    "    # TCS34725 register adresleri\n",
    "    TCS34725_ENABLE = 0x00\n",
    "    TCS34725_ATIME = 0x01\n",
    "    TCS34725_CONTROL = 0x0F\n",
    "    TCS34725_CDATAL = 0x14\n",
    "    TCS34725_RDATAL = 0x16\n",
    "    TCS34725_GDATAL = 0x18\n",
    "    TCS34725_BDATAL = 0x1A\n",
    "\n",
    "    # I2C bus numarası (Jetson Nano'da genellikle I2C bus 0 kullanılır)\n",
    "    I2C_BUS = 0\n",
    "\n",
    "    # Sensör güç kontrol pinleri\n",
    "    VCC1_PIN = 17  # GPIO 17\n",
    "    VCC2_PIN = 27  # GPIO 27\n",
    "\n",
    "    # I2C bus nesnesini oluştur\n",
    "    i2c = smbus2.SMBus(I2C_BUS)\n",
    "\n",
    "    # GPIO ayarları\n",
    "    GPIO.setmode(GPIO.BCM)\n",
    "    GPIO.setup(VCC1_PIN, GPIO.OUT)\n",
    "    GPIO.setup(VCC2_PIN, GPIO.OUT)\n",
    "\n",
    "    def power_on_sensor(sensor_pin):\n",
    "        GPIO.output(sensor_pin, GPIO.HIGH)\n",
    "        time.sleep(0.1)  # Sensörün güç alması için bekleyin\n",
    "\n",
    "    def power_off_sensor(sensor_pin):\n",
    "        GPIO.output(sensor_pin, GPIO.LOW)\n",
    "        time.sleep(0.1)  # Sensörün kapanması için bekleyin\n",
    "\n",
    "    def write_register(reg, value):\n",
    "        i2c.write_byte_data(TCS34725_ADDRESS, TCS34725_COMMAND_BIT | reg, value)\n",
    "\n",
    "    def read_register_16(reg):\n",
    "        data = i2c.read_i2c_block_data(TCS34725_ADDRESS, TCS34725_COMMAND_BIT | reg, 2)\n",
    "        return data[1] << 8 | data[0]\n",
    "\n",
    "    def initialize_sensor():\n",
    "        write_register(TCS34725_ENABLE, 0x01)\n",
    "        time.sleep(0.01)\n",
    "        write_register(TCS34725_ENABLE, 0x03)\n",
    "        write_register(TCS34725_ATIME, 0xFF)\n",
    "        write_register(TCS34725_CONTROL, 0x00)\n",
    "        time.sleep(0.7)  # Entegrasyon zamanı\n",
    "\n",
    "    def read_color_ratio():\n",
    "        r = read_register_16(TCS34725_RDATAL)\n",
    "        g = read_register_16(TCS34725_GDATAL)\n",
    "        b = read_register_16(TCS34725_BDATAL)\n",
    "        c = read_register_16(TCS34725_CDATAL)\n",
    "        if c == 0:\n",
    "            return 0\n",
    "        else:\n",
    "            return r / c\n",
    "\n",
    "    # Kırmızı renk algılama eşiği\n",
    "    RED_THRESHOLD = 0.43\n",
    "    \n",
    "    start_time = time.time()\n",
    "\n",
    "    try:\n",
    "        while hot == 0 and (time.time() - start_time) < 10:  # 10 saniye sınırı ekledik\n",
    "            # Sensör 1 için işlemler\n",
    "            power_on_sensor(VCC1_PIN)\n",
    "            initialize_sensor()\n",
    "            red_ratio_1 = read_color_ratio()\n",
    "            power_off_sensor(VCC1_PIN)\n",
    "\n",
    "            # Sensör 2 için işlemler\n",
    "            power_on_sensor(VCC2_PIN)\n",
    "            initialize_sensor()\n",
    "            red_ratio_2 = read_color_ratio()\n",
    "            power_off_sensor(VCC2_PIN)\n",
    "\n",
    "            print(f\"Red Ratio 1: {red_ratio_1}, Red Ratio 2: {red_ratio_2}\")\n",
    "\n",
    "            if red_ratio_1 > RED_THRESHOLD:\n",
    "                kirmizi1 += 1\n",
    "\n",
    "            if red_ratio_2 > RED_THRESHOLD:\n",
    "                kirmizi2 += 1\n",
    "\n",
    "            if red_ratio_1 < RED_THRESHOLD:\n",
    "                beyaz1 += 1\n",
    "\n",
    "            if red_ratio_2 < RED_THRESHOLD:\n",
    "                beyaz2 += 1\n",
    "\n",
    "            print(f\"Kirmizi1: {kirmizi1}, Kirmizi2: {kirmizi2}, Beyaz1: {beyaz1}, Beyaz2: {beyaz2}\")\n",
    "\n",
    "            if kirmizi1 + kirmizi2 > 4:\n",
    "                kirmizi_bas = 1\n",
    "\n",
    "            if beyaz1 + beyaz2 > 6 and kirmizi1 + kirmizi2 < 4:\n",
    "\n",
    "\n",
    "                time.sleep(1)\n",
    "\n",
    "        print(\"Döngü sona erdi.\")\n",
    "    finally:\n",
    "\n",
    "        GPIO.cleanup()  # GPIO pinlerini temizle\n"
   ]
  },
  {
   "cell_type": "code",
   "execution_count": 26,
   "id": "unlikely-bolivia",
   "metadata": {},
   "outputs": [],
   "source": [
    "if gate==1:\n",
    "    parking_status=\"Park Islemi Bitti\"\n",
    "    plate_status=\"Found\"\n",
    "    #geri yollama kodu\n",
    "    @app.route('/get_status', methods=['GET'])\n",
    "    def get_status():\n",
    "        global user_input\n",
    "        response = {\n",
    "                \"plateStatus\": plate_status,\n",
    "                \"parkingStatus\": parking_status,\n",
    "                \"redLineCount\": kirmizi_bas,\n",
    "                \"score\": (-1)*kirmizi_bas          \n",
    "            }\n",
    "        return jsonify(response)"
   ]
  },
  {
   "cell_type": "code",
   "execution_count": 27,
   "id": "enabling-semester",
   "metadata": {},
   "outputs": [],
   "source": [
    "if gate==0:\n",
    "    camera.stop()"
   ]
  },
  {
   "cell_type": "code",
   "execution_count": 28,
   "id": "responsible-sacrifice",
   "metadata": {},
   "outputs": [],
   "source": [
    "#sağ\n",
    "if gate==0:\n",
    "    robot.set_motors(0.18,-0.18)\n",
    "    time.sleep(0.5)\n",
    "    robot.set_motors(-1,1)\n",
    "\n",
    "    robot.stop()"
   ]
  },
  {
   "cell_type": "code",
   "execution_count": 29,
   "id": "abroad-edition",
   "metadata": {},
   "outputs": [
    {
     "data": {
      "application/vnd.jupyter.widget-view+json": {
       "model_id": "41cc4cb924af4cdb8cac613ca337328e",
       "version_major": 2,
       "version_minor": 0
      },
      "text/plain": [
       "FloatSlider(value=0.12, description='speed gain', max=1.0, step=0.01)"
      ]
     },
     "metadata": {},
     "output_type": "display_data"
    },
    {
     "data": {
      "application/vnd.jupyter.widget-view+json": {
       "model_id": "9ffd53891d4e4d1fbfe325bd2eed225d",
       "version_major": 2,
       "version_minor": 0
      },
      "text/plain": [
       "FloatSlider(value=0.005, description='steering gain', max=1.0, step=0.005)"
      ]
     },
     "metadata": {},
     "output_type": "display_data"
    },
    {
     "data": {
      "application/vnd.jupyter.widget-view+json": {
       "model_id": "b7d7246773f54e3d9e2c52e9bae774c5",
       "version_major": 2,
       "version_minor": 0
      },
      "text/plain": [
       "FloatSlider(value=0.04, description='steering kd', max=0.5, step=0.001)"
      ]
     },
     "metadata": {},
     "output_type": "display_data"
    },
    {
     "data": {
      "application/vnd.jupyter.widget-view+json": {
       "model_id": "714877811c634795814d21f887c38cd9",
       "version_major": 2,
       "version_minor": 0
      },
      "text/plain": [
       "FloatSlider(value=0.0, description='steering bias', max=0.3, min=-0.3, step=0.01)"
      ]
     },
     "metadata": {},
     "output_type": "display_data"
    }
   ],
   "source": [
    "if gate==0:\n",
    "    camera = Camera()\n",
    "    from jetbot import Robot\n",
    "\n",
    "    robot = Robot()\n",
    "    speed_gain_slider = ipywidgets.FloatSlider(min=0.0, max=1.0, step=0.01, value=0.12, description='speed gain')\n",
    "    steering_gain_slider = ipywidgets.FloatSlider(min=0.0, max=1.0, step=0.005, value=0.005, description='steering gain')\n",
    "    steering_dgain_slider = ipywidgets.FloatSlider(min=0.0, max=0.5, step=0.001, value=0.04, description='steering kd')\n",
    "    steering_bias_slider = ipywidgets.FloatSlider(min=-0.3, max=0.3, step=0.01, value=0.0, description='steering bias')\n",
    "\n",
    "    display(speed_gain_slider, steering_gain_slider, steering_dgain_slider, steering_bias_slider)"
   ]
  },
  {
   "cell_type": "code",
   "execution_count": 30,
   "id": "continuing-directory",
   "metadata": {},
   "outputs": [],
   "source": [
    "if gate==0:\n",
    "    import time\n",
    "    import numpy as np\n",
    "\n",
    "\n",
    "    angle = 0.0\n",
    "    angle_last = 0.0\n",
    "\n",
    "    def execute(change):\n",
    "        global angle, angle_last, a\n",
    "        image = change['new']\n",
    "        xy = model_trt_1(preprocess(image)).detach().float().cpu().numpy().flatten()\n",
    "        x = xy[0]\n",
    "        y = (0.5 - xy[1]) / 2.0\n",
    "\n",
    "        x_slider.value = x\n",
    "        y_slider.value = y\n",
    "\n",
    "        speed_slider.value = speed_gain_slider.value\n",
    "\n",
    "        angle = np.arctan2(x, y)\n",
    "        pid = angle * steering_gain_slider.value + (angle - angle_last) * steering_dgain_slider.value\n",
    "        angle_last = angle\n",
    "\n",
    "        steering_slider.value = pid + steering_bias_slider.value\n",
    "\n",
    "        \n",
    "        \n",
    "        angle_threshold = 0.05  # Define a small threshold for the angle to consider the robot as centered\n",
    "        if abs(angle) < angle_threshold:\n",
    "                # Move straight if the angle is within the threshold\n",
    "            robot.left_motor.value = speed_slider.value\n",
    "            robot.right_motor.value = speed_slider.value\n",
    "        else:\n",
    "                # Adjust motor speeds based on the calculated PID value\n",
    "            robot.left_motor.value = 1.05*max(min(speed_slider.value + steering_slider.value, 1.0), 0.0)\n",
    "            robot.right_motor.value = max(min(speed_slider.value - steering_slider.value, 1.0), 0.0)\n",
    "    \n",
    "    execute({'new': camera.value})\n",
    "    camera.observe(execute, names='value')\n",
    "    import time\n",
    "    time.sleep(1.2)\n",
    "\n",
    "    camera.unobserve(execute, names='value')\n",
    "\n",
    "\n",
    "\n",
    "    time.sleep(0.1)  # add a small sleep to make sure frames have finished processing\n",
    "\n",
    "    robot.stop()"
   ]
  },
  {
   "cell_type": "code",
   "execution_count": 31,
   "id": "saving-interstate",
   "metadata": {},
   "outputs": [],
   "source": [
    "if gate==0:\n",
    "    #sol\n",
    "    robot.set_motors(-0.18,0.18)\n",
    "    time.sleep(0.5)\n",
    "    robot.set_motors(1,-1)\n",
    "\n",
    "    robot.stop()"
   ]
  },
  {
   "cell_type": "code",
   "execution_count": 32,
   "id": "ambient-repair",
   "metadata": {},
   "outputs": [],
   "source": [
    "if gate==0:\n",
    "    camera.stop()"
   ]
  },
  {
   "cell_type": "code",
   "execution_count": 36,
   "id": "closing-marker",
   "metadata": {},
   "outputs": [
    {
     "name": "stderr",
     "output_type": "stream",
     "text": [
      "192.168.81.161 - - [16/Jul/2024 01:35:15] \"\u001b[33mGET /get_status HTTP/1.1\u001b[0m\" 404 -\n",
      "192.168.81.161 - - [16/Jul/2024 01:35:15] \"\u001b[33mGET /get_status HTTP/1.1\u001b[0m\" 404 -\n",
      "192.168.81.161 - - [16/Jul/2024 01:35:15] \"\u001b[33mGET /get_status HTTP/1.1\u001b[0m\" 404 -\n",
      "192.168.81.161 - - [16/Jul/2024 01:35:15] \"\u001b[33mGET /get_status HTTP/1.1\u001b[0m\" 404 -\n",
      "192.168.81.161 - - [16/Jul/2024 01:35:15] \"\u001b[33mGET /get_status HTTP/1.1\u001b[0m\" 404 -\n"
     ]
    },
    {
     "data": {
      "application/vnd.jupyter.widget-view+json": {
       "model_id": "8f81ec102d9240e9bee948ed8bc87e92",
       "version_major": 2,
       "version_minor": 0
      },
      "text/plain": [
       "Image(value=b'', format='jpeg', height='480', width='640')"
      ]
     },
     "metadata": {},
     "output_type": "display_data"
    },
    {
     "name": "stderr",
     "output_type": "stream",
     "text": [
      "192.168.81.161 - - [16/Jul/2024 01:35:16] \"\u001b[33mGET /get_status HTTP/1.1\u001b[0m\" 404 -\n",
      "192.168.81.161 - - [16/Jul/2024 01:35:16] \"\u001b[33mGET /get_status HTTP/1.1\u001b[0m\" 404 -\n",
      "192.168.81.161 - - [16/Jul/2024 01:35:16] \"\u001b[33mGET /get_status HTTP/1.1\u001b[0m\" 404 -\n",
      "192.168.81.161 - - [16/Jul/2024 01:35:16] \"\u001b[33mGET /get_status HTTP/1.1\u001b[0m\" 404 -\n",
      "192.168.81.161 - - [16/Jul/2024 01:35:17] \"\u001b[33mGET /get_status HTTP/1.1\u001b[0m\" 404 -\n",
      "192.168.81.161 - - [16/Jul/2024 01:35:17] \"\u001b[33mGET /get_status HTTP/1.1\u001b[0m\" 404 -\n",
      "192.168.81.161 - - [16/Jul/2024 01:35:17] \"\u001b[33mGET /get_status HTTP/1.1\u001b[0m\" 404 -\n"
     ]
    },
    {
     "name": "stdout",
     "output_type": "stream",
     "text": [
      "Bulunan sayı: 3\n"
     ]
    },
    {
     "name": "stderr",
     "output_type": "stream",
     "text": [
      "192.168.81.161 - - [16/Jul/2024 01:35:18] \"\u001b[33mGET /get_status HTTP/1.1\u001b[0m\" 404 -\n",
      "192.168.81.161 - - [16/Jul/2024 01:35:18] \"\u001b[33mGET /get_status HTTP/1.1\u001b[0m\" 404 -\n",
      "192.168.81.161 - - [16/Jul/2024 01:35:18] \"\u001b[33mGET /get_status HTTP/1.1\u001b[0m\" 404 -\n"
     ]
    },
    {
     "name": "stdout",
     "output_type": "stream",
     "text": [
      "Bulunan sayı: 3\n"
     ]
    },
    {
     "name": "stderr",
     "output_type": "stream",
     "text": [
      "192.168.81.161 - - [16/Jul/2024 01:35:19] \"\u001b[33mGET /get_status HTTP/1.1\u001b[0m\" 404 -\n",
      "192.168.81.161 - - [16/Jul/2024 01:35:20] \"\u001b[33mGET /get_status HTTP/1.1\u001b[0m\" 404 -\n"
     ]
    },
    {
     "name": "stdout",
     "output_type": "stream",
     "text": [
      "Bulunan sayı: 3\n"
     ]
    },
    {
     "name": "stderr",
     "output_type": "stream",
     "text": [
      "192.168.81.161 - - [16/Jul/2024 01:35:20] \"\u001b[33mGET /get_status HTTP/1.1\u001b[0m\" 404 -\n"
     ]
    },
    {
     "name": "stdout",
     "output_type": "stream",
     "text": [
      "Bulunan sayı: 3\n"
     ]
    }
   ],
   "source": [
    "if gate==0:\n",
    "    #calısan kod\n",
    "    import time\n",
    "    import pytesseract\n",
    "    import cv2\n",
    "    import numpy as np\n",
    "    from jetbot import Camera,Robot\n",
    "    import ipywidgets.widgets as widgets\n",
    "    from IPython.display import display\n",
    "    a=0\n",
    "    robot=Robot()\n",
    "\n",
    "    # İleri gitmek için motorları belirli bir hızda çalıştırın\n",
    "\n",
    "    # JetBot kamerasını başlat\n",
    "    camera = Camera.instance(width=640, height=480)\n",
    "\n",
    "    # Görüntüyü IPython widget'ında göstermek için widget oluştur\n",
    "    image_widget = widgets.Image(format='jpeg', width=640, height=480)\n",
    "    display(image_widget)\n",
    "\n",
    "    # OCR ayarlarını tanımla\n",
    "    custom_config = r'--oem 3 --psm 6 outputbase digits'\n",
    "    start_time=time.time()\n",
    "    # Ana döngü\n",
    "    try:\n",
    "        while True:\n",
    "            if time.time()-start_time>4:\n",
    "                camera.stop()\n",
    "                break\n",
    "            frame = camera.value\n",
    "\n",
    "        # Sağdan ve soldan belirli bir genişlikte kısmı kırp\n",
    "            crop_width_right = 260 # Sağdan kırpılacak genişlik\n",
    "            crop_width_left = 220  # Soldan kırpılacak genişlik\n",
    "\n",
    "            frame = frame[:, crop_width_left:-crop_width_right]\n",
    "\n",
    "        # Görüntüyü gri tonlamaya çevir\n",
    "            gray = cv2.cvtColor(frame, cv2.COLOR_BGR2GRAY)\n",
    "        # Görüntüyü bulanıklaştır\n",
    "            gray = cv2.GaussianBlur(gray, (5, 5), 0)\n",
    "        # Görüntüyü binarize et\n",
    "            _, binary_image = cv2.threshold(gray, 0, 255, cv2.THRESH_BINARY + cv2.THRESH_OTSU)\n",
    "\n",
    "        # OCR ile metin çıkar\n",
    "            text = pytesseract.image_to_string(binary_image, config=custom_config)\n",
    "        # Sayıları filtrele\n",
    "            number = ''.join(filter(str.isdigit, text))\n",
    "            if number:  # Eğer sayı bulunduysa\n",
    "                digit_list = [int(digit) for digit in number] # number string'indeki her rakamı integer listesine dönüştür\n",
    "                if len(digit_list)==1:\n",
    "                    num=digit_list[0]\n",
    "                    print(\"Bulunan sayı:\", num)\n",
    "                else:\n",
    "                    \n",
    "                    num=digit_list[0]\n",
    "            else:\n",
    "                print(\"sayi yok\")\n",
    "        # Widget güncellemesi için görüntüyü encode et\n",
    "            _, encoded_image = cv2.imencode('.jpg', frame)\n",
    "            image_widget.value = encoded_image.tobytes()\n",
    "\n",
    "\n",
    "\n",
    "\n",
    "    except KeyboardInterrupt:\n",
    "        # Kamera durdurulduğunda döngüyü kes\n",
    "        camera.stop()\n",
    "        print(\"Kamera durduruldu\")"
   ]
  },
  {
   "cell_type": "code",
   "execution_count": 37,
   "id": "miniature-fighter",
   "metadata": {},
   "outputs": [],
   "source": [
    "if gate==0:\n",
    "    camera.stop()"
   ]
  },
  {
   "cell_type": "code",
   "execution_count": 38,
   "id": "celtic-telling",
   "metadata": {},
   "outputs": [],
   "source": [
    "if gate==0:\n",
    "    if num==plaka:\n",
    "        import torch\n",
    "        from torch2trt import TRTModule\n",
    "\n",
    "        model_trt = TRTModule()\n",
    "        model_trt.load_state_dict(torch.load('best_parking_model_xy_trt.pth'))\n",
    "        from IPython.display import display\n",
    "        import ipywidgets\n",
    "        import traitlets\n",
    "        from jetbot import Camera, bgr8_to_jpeg\n",
    "\n",
    "        camera = Camera()\n",
    "        speed_gain_slider = ipywidgets.FloatSlider(min=0.0, max=1.0, step=0.01, value=0.12, description='speed gain')\n",
    "        steering_gain_slider = ipywidgets.FloatSlider(min=0.0, max=1.0, step=0.005, value=0.005, description='steering gain')\n",
    "        steering_dgain_slider = ipywidgets.FloatSlider(min=0.0, max=0.5, step=0.001, value=0.04, description='steering kd')\n",
    "        steering_bias_slider = ipywidgets.FloatSlider(min=-0.3, max=0.3, step=0.01, value=0.0, description='steering bias')\n",
    "\n",
    "        display(speed_gain_slider, steering_gain_slider, steering_dgain_slider, steering_bias_slider)\n",
    "        import time\n",
    "        from jetbot import Robot\n",
    "        robot=Robot()\n",
    "        angle = 0.0\n",
    "        angle_last = 0.0\n",
    "        \n",
    "        def execute(change):\n",
    "            global angle, angle_last,b\n",
    "            image = change['new']\n",
    "            xy = model_trt(preprocess(image)).detach().float().cpu().numpy().flatten()\n",
    "            x = xy[0]\n",
    "            y = (0.5 - xy[1]) / 2.0\n",
    "\n",
    "            x_slider.value = x\n",
    "            y_slider.value = y\n",
    "\n",
    "            speed_slider.value = speed_gain_slider.value\n",
    "\n",
    "            angle = np.arctan2(x, y)\n",
    "            pid = angle * steering_gain_slider.value + (angle - angle_last) * steering_dgain_slider.value\n",
    "            angle_last = angle\n",
    "\n",
    "            steering_slider.value = pid + steering_bias_slider.value\n",
    "\n",
    "\n",
    "            \n",
    "            \n",
    "            robot.left_motor.value = 1.10*max(min(speed_slider.value + steering_slider.value, 1.0), 0.0)\n",
    "            robot.right_motor.value = max(min(speed_slider.value - steering_slider.value, 1.0), 0.0)\n",
    "        execute({'new': camera.value})\n",
    "        camera.observe(execute, names='value')\n",
    "        import time\n",
    "        time.sleep(2.85)\n",
    "        gate=2\n",
    "        camera.unobserve(execute, names='value')\n",
    "\n",
    "\n",
    "\n",
    "        time.sleep(0.1)  # add a small sleep to make sure frames have finished processing\n",
    "\n",
    "        robot.stop()\n",
    "        camera.stop()"
   ]
  },
  {
   "cell_type": "code",
   "execution_count": 39,
   "id": "heard-burns",
   "metadata": {},
   "outputs": [
    {
     "name": "stderr",
     "output_type": "stream",
     "text": [
      "192.168.81.161 - - [16/Jul/2024 01:35:52] \"\u001b[33mGET /get_status HTTP/1.1\u001b[0m\" 404 -\n",
      "192.168.81.161 - - [16/Jul/2024 01:35:52] \"\u001b[33mGET /get_status HTTP/1.1\u001b[0m\" 404 -\n"
     ]
    }
   ],
   "source": [
    "if gate==2:\n",
    "    import smbus2\n",
    "    import time\n",
    "    import RPi.GPIO as GPIO\n",
    "\n",
    "    kirmizi_bas = 0\n",
    "    kirmizi = 0\n",
    "    kirmizi1 = 0\n",
    "    kirmizi2 = 0\n",
    "    hot = 0\n",
    "    beyaz1 = 0\n",
    "    beyaz2 = 0\n",
    "\n",
    "    # TCS34725 I2C adresi ve komut bitleri\n",
    "    TCS34725_ADDRESS = 0x29\n",
    "    TCS34725_COMMAND_BIT = 0x80\n",
    "\n",
    "    # TCS34725 register adresleri\n",
    "    TCS34725_ENABLE = 0x00\n",
    "    TCS34725_ATIME = 0x01\n",
    "    TCS34725_CONTROL = 0x0F\n",
    "    TCS34725_CDATAL = 0x14\n",
    "    TCS34725_RDATAL = 0x16\n",
    "    TCS34725_GDATAL = 0x18\n",
    "    TCS34725_BDATAL = 0x1A\n",
    "\n",
    "    # I2C bus numarası (Jetson Nano'da genellikle I2C bus 0 kullanılır)\n",
    "    I2C_BUS = 0\n",
    "\n",
    "    # Sensör güç kontrol pinleri\n",
    "    VCC1_PIN = 17  # GPIO 17\n",
    "    VCC2_PIN = 27  # GPIO 27\n",
    "\n",
    "    # I2C bus nesnesini oluştur\n",
    "    i2c = smbus2.SMBus(I2C_BUS)\n",
    "\n",
    "    # GPIO ayarları\n",
    "    GPIO.setmode(GPIO.BCM)\n",
    "    GPIO.setup(VCC1_PIN, GPIO.OUT)\n",
    "    GPIO.setup(VCC2_PIN, GPIO.OUT)\n",
    "\n",
    "    def power_on_sensor(sensor_pin):\n",
    "        GPIO.output(sensor_pin, GPIO.HIGH)\n",
    "        time.sleep(0.1)  # Sensörün güç alması için bekleyin\n",
    "\n",
    "    def power_off_sensor(sensor_pin):\n",
    "        GPIO.output(sensor_pin, GPIO.LOW)\n",
    "        time.sleep(0.1)  # Sensörün kapanması için bekleyin\n",
    "\n",
    "    def write_register(reg, value):\n",
    "        i2c.write_byte_data(TCS34725_ADDRESS, TCS34725_COMMAND_BIT | reg, value)\n",
    "\n",
    "    def read_register_16(reg):\n",
    "        data = i2c.read_i2c_block_data(TCS34725_ADDRESS, TCS34725_COMMAND_BIT | reg, 2)\n",
    "        return data[1] << 8 | data[0]\n",
    "\n",
    "    def initialize_sensor():\n",
    "        write_register(TCS34725_ENABLE, 0x01)\n",
    "        time.sleep(0.01)\n",
    "        write_register(TCS34725_ENABLE, 0x03)\n",
    "        write_register(TCS34725_ATIME, 0xFF)\n",
    "        write_register(TCS34725_CONTROL, 0x00)\n",
    "        time.sleep(0.7)  # Entegrasyon zamanı\n",
    "\n",
    "    def read_color_ratio():\n",
    "        r = read_register_16(TCS34725_RDATAL)\n",
    "        g = read_register_16(TCS34725_GDATAL)\n",
    "        b = read_register_16(TCS34725_BDATAL)\n",
    "        c = read_register_16(TCS34725_CDATAL)\n",
    "        if c == 0:\n",
    "            return 0\n",
    "        else:\n",
    "            return r / c\n",
    "\n",
    "    # Kırmızı renk algılama eşiği\n",
    "    RED_THRESHOLD = 0.43\n",
    "    \n",
    "    # Başlangıç zamanını al\n",
    "    start_time = time.time()\n",
    "\n",
    "    try:\n",
    "        while hot == 0 and (time.time() - start_time) < 10:  # 10 saniye sınırı ekledik\n",
    "            # Sensör 1 için işlemler\n",
    "            power_on_sensor(VCC1_PIN)\n",
    "            initialize_sensor()\n",
    "            red_ratio_1 = read_color_ratio()\n",
    "            power_off_sensor(VCC1_PIN)\n",
    "\n",
    "            # Sensör 2 için işlemler\n",
    "            power_on_sensor(VCC2_PIN)\n",
    "            initialize_sensor()\n",
    "            red_ratio_2 = read_color_ratio()\n",
    "            power_off_sensor(VCC2_PIN)\n",
    "\n",
    "            print(f\"Red Ratio 1: {red_ratio_1}, Red Ratio 2: {red_ratio_2}\")\n",
    "\n",
    "            if red_ratio_1 > RED_THRESHOLD:\n",
    "                kirmizi1 += 1\n",
    "\n",
    "            if red_ratio_2 > RED_THRESHOLD:\n",
    "                kirmizi2 += 1\n",
    "\n",
    "            if red_ratio_1 < RED_THRESHOLD:\n",
    "                beyaz1 += 1\n",
    "\n",
    "            if red_ratio_2 < RED_THRESHOLD:\n",
    "                beyaz2 += 1\n",
    "\n",
    "            print(f\"Kirmizi1: {kirmizi1}, Kirmizi2: {kirmizi2}, Beyaz1: {beyaz1}, Beyaz2: {beyaz2}\")\n",
    "\n",
    "            if kirmizi1 + kirmizi2 > 4:\n",
    "                kirmizi_bas = 1\n",
    "\n",
    "            if beyaz1 + beyaz2 > 6 and kirmizi1 + kirmizi2 < 4:\n",
    "\n",
    "\n",
    "                time.sleep(1)\n",
    "\n",
    "        print(\"Döngü sona erdi.\")\n",
    "    finally:\n",
    "\n",
    "        GPIO.cleanup()  # GPIO pinlerini temizle\n",
    "\n"
   ]
  },
  {
   "cell_type": "code",
   "execution_count": 40,
   "id": "acting-hazard",
   "metadata": {},
   "outputs": [],
   "source": [
    "if gate==2:\n",
    "    parking_status=\"Park Islemi Bitti\"\n",
    "    plate_status=\"Found\"\n",
    "    #geri yollama kodu\n",
    "    @app.route('/get_status', methods=['GET'])\n",
    "    def get_status():\n",
    "        global user_input\n",
    "        response = {\n",
    "                \"plateStatus\": plate_status,\n",
    "                \"parkingStatus\": parking_status,\n",
    "                \"redLineCount\": kirmizi_bas,\n",
    "                \"score\": (-1)*kirmizi_bas          \n",
    "            }\n",
    "        return jsonify(response)"
   ]
  },
  {
   "cell_type": "code",
   "execution_count": 41,
   "id": "colored-casting",
   "metadata": {},
   "outputs": [],
   "source": [
    "if gate==0:\n",
    "        #sağ\n",
    "    robot.set_motors(0.18,-0.18)\n",
    "    time.sleep(0.5)\n",
    "    robot.set_motors(-1,1)\n",
    "\n",
    "    robot.stop()"
   ]
  },
  {
   "cell_type": "code",
   "execution_count": 42,
   "id": "flush-donor",
   "metadata": {},
   "outputs": [
    {
     "data": {
      "application/vnd.jupyter.widget-view+json": {
       "model_id": "edecf55b03cd4d81b896140e6483a83f",
       "version_major": 2,
       "version_minor": 0
      },
      "text/plain": [
       "FloatSlider(value=0.12, description='speed gain', max=1.0, step=0.01)"
      ]
     },
     "metadata": {},
     "output_type": "display_data"
    },
    {
     "data": {
      "application/vnd.jupyter.widget-view+json": {
       "model_id": "a8cf039d22d6417891fca6c4582a9dd2",
       "version_major": 2,
       "version_minor": 0
      },
      "text/plain": [
       "FloatSlider(value=0.005, description='steering gain', max=1.0, step=0.005)"
      ]
     },
     "metadata": {},
     "output_type": "display_data"
    },
    {
     "data": {
      "application/vnd.jupyter.widget-view+json": {
       "model_id": "0c3187e928664e43a046439b729a0188",
       "version_major": 2,
       "version_minor": 0
      },
      "text/plain": [
       "FloatSlider(value=0.04, description='steering kd', max=0.5, step=0.001)"
      ]
     },
     "metadata": {},
     "output_type": "display_data"
    },
    {
     "data": {
      "application/vnd.jupyter.widget-view+json": {
       "model_id": "0913f6ccbb4f471f9cb1cd256b0e4f11",
       "version_major": 2,
       "version_minor": 0
      },
      "text/plain": [
       "FloatSlider(value=0.0, description='steering bias', max=0.3, min=-0.3, step=0.01)"
      ]
     },
     "metadata": {},
     "output_type": "display_data"
    }
   ],
   "source": [
    "if gate==0:\n",
    "    camera = Camera()\n",
    "    from jetbot import Robot\n",
    "\n",
    "    robot = Robot()\n",
    "    speed_gain_slider = ipywidgets.FloatSlider(min=0.0, max=1.0, step=0.01, value=0.12, description='speed gain')\n",
    "    steering_gain_slider = ipywidgets.FloatSlider(min=0.0, max=1.0, step=0.005, value=0.005, description='steering gain')\n",
    "    steering_dgain_slider = ipywidgets.FloatSlider(min=0.0, max=0.5, step=0.001, value=0.04, description='steering kd')\n",
    "    steering_bias_slider = ipywidgets.FloatSlider(min=-0.3, max=0.3, step=0.01, value=0.0, description='steering bias')\n",
    "\n",
    "    display(speed_gain_slider, steering_gain_slider, steering_dgain_slider, steering_bias_slider)"
   ]
  },
  {
   "cell_type": "code",
   "execution_count": 43,
   "id": "ready-compression",
   "metadata": {},
   "outputs": [],
   "source": [
    "if gate==0:\n",
    "    import time\n",
    "    import numpy as np\n",
    "\n",
    "\n",
    "    angle = 0.0\n",
    "    angle_last = 0.0\n",
    "\n",
    "    def execute(change):\n",
    "        global angle, angle_last, a\n",
    "        image = change['new']\n",
    "        xy = model_trt_1(preprocess(image)).detach().float().cpu().numpy().flatten()\n",
    "        x = xy[0]\n",
    "        y = (0.5 - xy[1]) / 2.0\n",
    "\n",
    "        x_slider.value = x\n",
    "        y_slider.value = y\n",
    "\n",
    "        speed_slider.value = speed_gain_slider.value\n",
    "\n",
    "        angle = np.arctan2(x, y)\n",
    "        pid = angle * steering_gain_slider.value + (angle - angle_last) * steering_dgain_slider.value\n",
    "        angle_last = angle\n",
    "\n",
    "        steering_slider.value = pid + steering_bias_slider.value\n",
    "\n",
    "       \n",
    "        \n",
    "        angle_threshold = 0.05  # Define a small threshold for the angle to consider the robot as centered\n",
    "        if abs(angle) < angle_threshold:\n",
    "                # Move straight if the angle is within the threshold\n",
    "            robot.left_motor.value = speed_slider.value\n",
    "            robot.right_motor.value = speed_slider.value\n",
    "        else:\n",
    "                # Adjust motor speeds based on the calculated PID value\n",
    "            robot.left_motor.value = 1.05*max(min(speed_slider.value + steering_slider.value, 1.0), 0.0)\n",
    "            robot.right_motor.value = max(min(speed_slider.value - steering_slider.value, 1.0), 0.0)\n",
    "   \n",
    "    execute({'new': camera.value})\n",
    "    camera.observe(execute, names='value')\n",
    "    import time\n",
    "    time.sleep(1.2)\n",
    "\n",
    "    camera.unobserve(execute, names='value')\n",
    "\n",
    "\n",
    "    time.sleep(0.1)\n",
    "    # add a small sleep to make sure frames have finished processing\n",
    "\n",
    "    robot.stop()\n",
    "    "
   ]
  },
  {
   "cell_type": "code",
   "execution_count": 44,
   "id": "adaptive-workstation",
   "metadata": {},
   "outputs": [],
   "source": [
    "if gate==0:\n",
    "    camera.stop()"
   ]
  },
  {
   "cell_type": "code",
   "execution_count": 45,
   "id": "leading-advocate",
   "metadata": {},
   "outputs": [],
   "source": [
    "if gate==0:\n",
    "    #sol\n",
    "    robot.set_motors(-0.18,0.18)\n",
    "    time.sleep(0.5)\n",
    "    robot.set_motors(1,-1)\n",
    "\n",
    "    robot.stop()"
   ]
  },
  {
   "cell_type": "code",
   "execution_count": 46,
   "id": "caring-familiar",
   "metadata": {},
   "outputs": [
    {
     "data": {
      "application/vnd.jupyter.widget-view+json": {
       "model_id": "e30a9d9c85714604a7c9b799a0548733",
       "version_major": 2,
       "version_minor": 0
      },
      "text/plain": [
       "Image(value=b'', format='jpeg', height='480', width='640')"
      ]
     },
     "metadata": {},
     "output_type": "display_data"
    },
    {
     "name": "stdout",
     "output_type": "stream",
     "text": [
      "Bulunan sayı: 1\n",
      "sayi yok\n",
      "Bulunan sayı: 1\n",
      "sayi yok\n",
      "Bulunan sayı: 1\n",
      "sayi yok\n",
      "Bulunan sayı: 1\n",
      "sayi yok\n",
      "Bulunan sayı: 1\n",
      "sayi yok\n",
      "Bulunan sayı: 1\n",
      "sayi yok\n",
      "Bulunan sayı: 1\n",
      "sayi yok\n"
     ]
    }
   ],
   "source": [
    "if gate==0:\n",
    "    #calısan kod\n",
    "    import time\n",
    "    import pytesseract\n",
    "    import cv2\n",
    "    import numpy as np\n",
    "    from jetbot import Camera,Robot\n",
    "    import ipywidgets.widgets as widgets\n",
    "    from IPython.display import display\n",
    "    a=0\n",
    "    robot=Robot()\n",
    "\n",
    "    # İleri gitmek için motorları belirli bir hızda çalıştırın\n",
    "\n",
    "    # JetBot kamerasını başlat\n",
    "    camera = Camera.instance(width=640, height=480)\n",
    "\n",
    "    # Görüntüyü IPython widget'ında göstermek için widget oluştur\n",
    "    image_widget = widgets.Image(format='jpeg', width=640, height=480)\n",
    "    display(image_widget)\n",
    "\n",
    "    # OCR ayarlarını tanımla\n",
    "    custom_config = r'--oem 3 --psm 6 outputbase digits'\n",
    "    start_time=time.time()\n",
    "    # Ana döngü\n",
    "    try:\n",
    "        while True:\n",
    "            if time.time()-start_time>4:\n",
    "                camera.stop()\n",
    "                break\n",
    "            frame = camera.value\n",
    "\n",
    "        # Sağdan ve soldan belirli bir genişlikte kısmı kırp\n",
    "            crop_width_right = 220 # Sağdan kırpılacak genişlik\n",
    "            crop_width_left = 260  # Soldan kırpılacak genişlik\n",
    "\n",
    "            frame = frame[:, crop_width_left:-crop_width_right]\n",
    "\n",
    "        # Görüntüyü gri tonlamaya çevir\n",
    "            gray = cv2.cvtColor(frame, cv2.COLOR_BGR2GRAY)\n",
    "        # Görüntüyü bulanıklaştır\n",
    "            gray = cv2.GaussianBlur(gray, (5, 5), 0)\n",
    "        # Görüntüyü binarize et\n",
    "            _, binary_image = cv2.threshold(gray, 0, 255, cv2.THRESH_BINARY + cv2.THRESH_OTSU)\n",
    "\n",
    "        # OCR ile metin çıkar\n",
    "            text = pytesseract.image_to_string(binary_image, config=custom_config)\n",
    "        # Sayıları filtrele\n",
    "            number = ''.join(filter(str.isdigit, text))\n",
    "            if number:  # Eğer sayı bulunduysa\n",
    "                digit_list = [int(digit) for digit in number] # number string'indeki her rakamı integer listesine dönüştür\n",
    "                if len(digit_list)==1:\n",
    "                    num=digit_list[0]\n",
    "                    print(\"Bulunan sayı:\", num)\n",
    "                else:\n",
    "\n",
    "                    num=digit_list[0]\n",
    "\n",
    "                print(\"sayi yok\")\n",
    "        # Widget güncellemesi için görüntüyü encode et\n",
    "            _, encoded_image = cv2.imencode('.jpg', frame)\n",
    "            image_widget.value = encoded_image.tobytes()\n",
    "\n",
    "\n",
    "\n",
    "\n",
    "    except KeyboardInterrupt:\n",
    "        # Kamera durdurulduğunda döngüyü kes\n",
    "        camera.stop()\n",
    "        print(\"Kamera durduruldu\")"
   ]
  },
  {
   "cell_type": "code",
   "execution_count": 47,
   "id": "deluxe-creation",
   "metadata": {},
   "outputs": [],
   "source": [
    "if gate==0:\n",
    "    camera.stop()"
   ]
  },
  {
   "cell_type": "code",
   "execution_count": 48,
   "id": "conventional-convenience",
   "metadata": {},
   "outputs": [
    {
     "data": {
      "application/vnd.jupyter.widget-view+json": {
       "model_id": "2181fd8540f94ce8aa39c0cd9e3586b7",
       "version_major": 2,
       "version_minor": 0
      },
      "text/plain": [
       "FloatSlider(value=0.12, description='speed gain', max=1.0, step=0.01)"
      ]
     },
     "metadata": {},
     "output_type": "display_data"
    },
    {
     "data": {
      "application/vnd.jupyter.widget-view+json": {
       "model_id": "5d3c8ba3403445a98b2c59c4e4fa3e66",
       "version_major": 2,
       "version_minor": 0
      },
      "text/plain": [
       "FloatSlider(value=0.005, description='steering gain', max=1.0, step=0.005)"
      ]
     },
     "metadata": {},
     "output_type": "display_data"
    },
    {
     "data": {
      "application/vnd.jupyter.widget-view+json": {
       "model_id": "c16466cd131746c697f71f6d661272e3",
       "version_major": 2,
       "version_minor": 0
      },
      "text/plain": [
       "FloatSlider(value=0.04, description='steering kd', max=0.5, step=0.001)"
      ]
     },
     "metadata": {},
     "output_type": "display_data"
    },
    {
     "data": {
      "application/vnd.jupyter.widget-view+json": {
       "model_id": "abe36014b8184a7aafb24e8c1c4d64a5",
       "version_major": 2,
       "version_minor": 0
      },
      "text/plain": [
       "FloatSlider(value=0.0, description='steering bias', max=0.3, min=-0.3, step=0.01)"
      ]
     },
     "metadata": {},
     "output_type": "display_data"
    }
   ],
   "source": [
    "if gate==0:\n",
    "    if num==plaka:\n",
    "        import torch\n",
    "        from torch2trt import TRTModule\n",
    "\n",
    "        model_trt = TRTModule()\n",
    "        model_trt.load_state_dict(torch.load('best_parking_model_xy_trt.pth'))\n",
    "        from IPython.display import display\n",
    "        import ipywidgets\n",
    "        import traitlets\n",
    "        from jetbot import Camera, bgr8_to_jpeg\n",
    "\n",
    "        camera = Camera()\n",
    "        speed_gain_slider = ipywidgets.FloatSlider(min=0.0, max=1.0, step=0.01, value=0.12, description='speed gain')\n",
    "        steering_gain_slider = ipywidgets.FloatSlider(min=0.0, max=1.0, step=0.005, value=0.005, description='steering gain')\n",
    "        steering_dgain_slider = ipywidgets.FloatSlider(min=0.0, max=0.5, step=0.001, value=0.04, description='steering kd')\n",
    "        steering_bias_slider = ipywidgets.FloatSlider(min=-0.3, max=0.3, step=0.01, value=0.0, description='steering bias')\n",
    "\n",
    "        display(speed_gain_slider, steering_gain_slider, steering_dgain_slider, steering_bias_slider)\n",
    "        import time\n",
    "        from jetbot import Robot\n",
    "        robot=Robot()\n",
    "        angle = 0.0\n",
    "        angle_last = 0.0\n",
    "        \n",
    "        def execute(change):\n",
    "            global angle, angle_last,b\n",
    "            image = change['new']\n",
    "            xy = model_trt(preprocess(image)).detach().float().cpu().numpy().flatten()\n",
    "            x = xy[0]\n",
    "            y = (0.5 - xy[1]) / 2.0\n",
    "\n",
    "            x_slider.value = x\n",
    "            y_slider.value = y\n",
    "\n",
    "            speed_slider.value = speed_gain_slider.value\n",
    "\n",
    "            angle = np.arctan2(x, y)\n",
    "            pid = angle * steering_gain_slider.value + (angle - angle_last) * steering_dgain_slider.value\n",
    "            angle_last = angle\n",
    "\n",
    "            steering_slider.value = pid + steering_bias_slider.value\n",
    "\n",
    "\n",
    "            \n",
    "            \n",
    "            robot.left_motor.value = 1.10*max(min(speed_slider.value + steering_slider.value, 1.0), 0.0)\n",
    "            robot.right_motor.value = max(min(speed_slider.value - steering_slider.value, 1.0), 0.0)\n",
    "        execute({'new': camera.value})\n",
    "        camera.observe(execute, names='value')\n",
    "        import time\n",
    "        gate=3\n",
    "        time.sleep(2.85)\n",
    "        \n",
    "        camera.unobserve(execute,names='value')\n",
    "        time.sleep(0.1)\n",
    "        camera.stop()\n",
    "        robot.stop()"
   ]
  },
  {
   "cell_type": "code",
   "execution_count": 49,
   "id": "acoustic-moscow",
   "metadata": {},
   "outputs": [
    {
     "name": "stderr",
     "output_type": "stream",
     "text": [
      "192.168.81.161 - - [16/Jul/2024 01:37:12] \"\u001b[33mGET /get_status HTTP/1.1\u001b[0m\" 404 -\n"
     ]
    },
    {
     "name": "stdout",
     "output_type": "stream",
     "text": [
      "Red Ratio 1: 0.4, Red Ratio 2: 0.4\n",
      "Kirmizi1: 0, Kirmizi2: 0, Beyaz1: 1, Beyaz2: 1\n",
      "Red Ratio 1: 0.4, Red Ratio 2: 0.4\n",
      "Kirmizi1: 0, Kirmizi2: 0, Beyaz1: 2, Beyaz2: 2\n"
     ]
    },
    {
     "name": "stderr",
     "output_type": "stream",
     "text": [
      "192.168.81.161 - - [16/Jul/2024 01:37:17] \"\u001b[33mGET /get_status HTTP/1.1\u001b[0m\" 404 -\n"
     ]
    },
    {
     "name": "stdout",
     "output_type": "stream",
     "text": [
      "Red Ratio 1: 0.4, Red Ratio 2: 0.4\n",
      "Kirmizi1: 0, Kirmizi2: 0, Beyaz1: 3, Beyaz2: 3\n"
     ]
    },
    {
     "name": "stderr",
     "output_type": "stream",
     "text": [
      "192.168.81.161 - - [16/Jul/2024 01:37:18] \"\u001b[33mGET /get_status HTTP/1.1\u001b[0m\" 404 -\n",
      "192.168.81.161 - - [16/Jul/2024 01:37:18] \"\u001b[33mGET /get_status HTTP/1.1\u001b[0m\" 404 -\n",
      "192.168.81.161 - - [16/Jul/2024 01:37:19] \"\u001b[33mGET /get_status HTTP/1.1\u001b[0m\" 404 -\n"
     ]
    },
    {
     "name": "stdout",
     "output_type": "stream",
     "text": [
      "Red Ratio 1: 0.4, Red Ratio 2: 0.4444444444444444\n",
      "Kirmizi1: 0, Kirmizi2: 1, Beyaz1: 4, Beyaz2: 3\n"
     ]
    },
    {
     "name": "stderr",
     "output_type": "stream",
     "text": [
      "192.168.81.161 - - [16/Jul/2024 01:37:20] \"\u001b[33mGET /get_status HTTP/1.1\u001b[0m\" 404 -\n",
      "192.168.81.161 - - [16/Jul/2024 01:37:21] \"\u001b[33mGET /get_status HTTP/1.1\u001b[0m\" 404 -\n",
      "192.168.81.161 - - [16/Jul/2024 01:37:22] \"\u001b[33mGET /get_status HTTP/1.1\u001b[0m\" 404 -\n"
     ]
    },
    {
     "name": "stdout",
     "output_type": "stream",
     "text": [
      "Red Ratio 1: 0.4444444444444444, Red Ratio 2: 0.4444444444444444\n",
      "Kirmizi1: 1, Kirmizi2: 2, Beyaz1: 4, Beyaz2: 3\n"
     ]
    },
    {
     "name": "stderr",
     "output_type": "stream",
     "text": [
      "192.168.81.161 - - [16/Jul/2024 01:37:23] \"\u001b[33mGET /get_status HTTP/1.1\u001b[0m\" 404 -\n"
     ]
    },
    {
     "name": "stdout",
     "output_type": "stream",
     "text": [
      "Döngü sona erdi.\n"
     ]
    }
   ],
   "source": [
    "if gate==3:\n",
    "    import smbus2\n",
    "    import time\n",
    "    import RPi.GPIO as GPIO\n",
    "\n",
    "    kirmizi_bas = 0\n",
    "    kirmizi = 0\n",
    "    kirmizi1 = 0\n",
    "    kirmizi2 = 0\n",
    "    hot = 0\n",
    "    beyaz1 = 0\n",
    "    beyaz2 = 0\n",
    "\n",
    "    # TCS34725 I2C adresi ve komut bitleri\n",
    "    TCS34725_ADDRESS = 0x29\n",
    "    TCS34725_COMMAND_BIT = 0x80\n",
    "\n",
    "    # TCS34725 register adresleri\n",
    "    TCS34725_ENABLE = 0x00\n",
    "    TCS34725_ATIME = 0x01\n",
    "    TCS34725_CONTROL = 0x0F\n",
    "    TCS34725_CDATAL = 0x14\n",
    "    TCS34725_RDATAL = 0x16\n",
    "    TCS34725_GDATAL = 0x18\n",
    "    TCS34725_BDATAL = 0x1A\n",
    "\n",
    "    # I2C bus numarası (Jetson Nano'da genellikle I2C bus 0 kullanılır)\n",
    "    I2C_BUS = 0\n",
    "\n",
    "    # Sensör güç kontrol pinleri\n",
    "    VCC1_PIN = 17  # GPIO 17\n",
    "    VCC2_PIN = 27  # GPIO 27\n",
    "\n",
    "    # I2C bus nesnesini oluştur\n",
    "    i2c = smbus2.SMBus(I2C_BUS)\n",
    "\n",
    "    # GPIO ayarları\n",
    "    GPIO.setmode(GPIO.BCM)\n",
    "    GPIO.setup(VCC1_PIN, GPIO.OUT)\n",
    "    GPIO.setup(VCC2_PIN, GPIO.OUT)\n",
    "\n",
    "    def power_on_sensor(sensor_pin):\n",
    "        GPIO.output(sensor_pin, GPIO.HIGH)\n",
    "        time.sleep(0.1)  # Sensörün güç alması için bekleyin\n",
    "\n",
    "    def power_off_sensor(sensor_pin):\n",
    "        GPIO.output(sensor_pin, GPIO.LOW)\n",
    "        time.sleep(0.1)  # Sensörün kapanması için bekleyin\n",
    "\n",
    "    def write_register(reg, value):\n",
    "        i2c.write_byte_data(TCS34725_ADDRESS, TCS34725_COMMAND_BIT | reg, value)\n",
    "\n",
    "    def read_register_16(reg):\n",
    "        data = i2c.read_i2c_block_data(TCS34725_ADDRESS, TCS34725_COMMAND_BIT | reg, 2)\n",
    "        return data[1] << 8 | data[0]\n",
    "\n",
    "    def initialize_sensor():\n",
    "        write_register(TCS34725_ENABLE, 0x01)\n",
    "        time.sleep(0.01)\n",
    "        write_register(TCS34725_ENABLE, 0x03)\n",
    "        write_register(TCS34725_ATIME, 0xFF)\n",
    "        write_register(TCS34725_CONTROL, 0x00)\n",
    "        time.sleep(0.7)  # Entegrasyon zamanı\n",
    "\n",
    "    def read_color_ratio():\n",
    "        r = read_register_16(TCS34725_RDATAL)\n",
    "        g = read_register_16(TCS34725_GDATAL)\n",
    "        b = read_register_16(TCS34725_BDATAL)\n",
    "        c = read_register_16(TCS34725_CDATAL)\n",
    "        if c == 0:\n",
    "            return 0\n",
    "        else:\n",
    "            return r / c\n",
    "\n",
    "    # Kırmızı renk algılama eşiği\n",
    "    RED_THRESHOLD = 0.43\n",
    "    \n",
    "    # Başlangıç zamanını al\n",
    "    start_time = time.time()\n",
    "\n",
    "    try:\n",
    "        while hot == 0 and (time.time() - start_time) < 10:  # 10 saniye sınırı ekledik\n",
    "            # Sensör 1 için işlemler\n",
    "            power_on_sensor(VCC1_PIN)\n",
    "            initialize_sensor()\n",
    "            red_ratio_1 = read_color_ratio()\n",
    "            power_off_sensor(VCC1_PIN)\n",
    "\n",
    "            # Sensör 2 için işlemler\n",
    "            power_on_sensor(VCC2_PIN)\n",
    "            initialize_sensor()\n",
    "            red_ratio_2 = read_color_ratio()\n",
    "            power_off_sensor(VCC2_PIN)\n",
    "\n",
    "            print(f\"Red Ratio 1: {red_ratio_1}, Red Ratio 2: {red_ratio_2}\")\n",
    "\n",
    "            if red_ratio_1 > RED_THRESHOLD:\n",
    "                kirmizi1 += 1\n",
    "\n",
    "            if red_ratio_2 > RED_THRESHOLD:\n",
    "                kirmizi2 += 1\n",
    "\n",
    "            if red_ratio_1 < RED_THRESHOLD:\n",
    "                beyaz1 += 1\n",
    "\n",
    "            if red_ratio_2 < RED_THRESHOLD:\n",
    "                beyaz2 += 1\n",
    "\n",
    "            print(f\"Kirmizi1: {kirmizi1}, Kirmizi2: {kirmizi2}, Beyaz1: {beyaz1}, Beyaz2: {beyaz2}\")\n",
    "\n",
    "            if kirmizi1 + kirmizi2 > 4:\n",
    "                kirmizi_bas = 1\n",
    "\n",
    "            if beyaz1 + beyaz2 > 6 and kirmizi1 + kirmizi2 < 4:\n",
    "\n",
    "\n",
    "                time.sleep(1)\n",
    "\n",
    "        print(\"Döngü sona erdi.\")\n",
    "    finally:\n",
    "\n",
    "        GPIO.cleanup()  # GPIO pinlerini temizle\n"
   ]
  },
  {
   "cell_type": "code",
   "execution_count": 50,
   "id": "neutral-holder",
   "metadata": {},
   "outputs": [],
   "source": [
    "if gate==3:\n",
    "    parking_status=\"Park Islemi Bitti\"\n",
    "    plate_status=\"Found\"\n",
    "    #geri yollama kodu\n",
    "    @app.route('/get_status', methods=['GET'])\n",
    "    def get_status():\n",
    "        global user_input\n",
    "        response = {\n",
    "                \"plateStatus\": plate_status,\n",
    "                \"parkingStatus\": parking_status,\n",
    "                \"redLineCount\": kirmizi_bas,\n",
    "                \"score\": (-1)*kirmizi_bas          \n",
    "            }\n",
    "        return jsonify(response)"
   ]
  },
  {
   "cell_type": "code",
   "execution_count": 103,
   "id": "christian-tutorial",
   "metadata": {},
   "outputs": [],
   "source": [
    "if gate==0:\n",
    "    #sağ\n",
    "    robot.set_motors(0.18,-0.18)\n",
    "    time.sleep(0.5)\n",
    "    robot.set_motors(-1,1)\n",
    "\n",
    "    robot.stop()"
   ]
  },
  {
   "cell_type": "code",
   "execution_count": 104,
   "id": "affected-homework",
   "metadata": {},
   "outputs": [
    {
     "data": {
      "application/vnd.jupyter.widget-view+json": {
       "model_id": "5d869e1ed99c463fbb945867d60875e4",
       "version_major": 2,
       "version_minor": 0
      },
      "text/plain": [
       "FloatSlider(value=0.12, description='speed gain', max=1.0, step=0.01)"
      ]
     },
     "metadata": {},
     "output_type": "display_data"
    },
    {
     "data": {
      "application/vnd.jupyter.widget-view+json": {
       "model_id": "291c2c5e6ecc454bb7d651b45a670c65",
       "version_major": 2,
       "version_minor": 0
      },
      "text/plain": [
       "FloatSlider(value=0.005, description='steering gain', max=1.0, step=0.005)"
      ]
     },
     "metadata": {},
     "output_type": "display_data"
    },
    {
     "data": {
      "application/vnd.jupyter.widget-view+json": {
       "model_id": "2764e068cbb543a1883f9c9bd84027ad",
       "version_major": 2,
       "version_minor": 0
      },
      "text/plain": [
       "FloatSlider(value=0.04, description='steering kd', max=0.5, step=0.001)"
      ]
     },
     "metadata": {},
     "output_type": "display_data"
    },
    {
     "data": {
      "application/vnd.jupyter.widget-view+json": {
       "model_id": "6d28fb8066904d33bb39c7b8d741fae9",
       "version_major": 2,
       "version_minor": 0
      },
      "text/plain": [
       "FloatSlider(value=0.0, description='steering bias', max=0.3, min=-0.3, step=0.01)"
      ]
     },
     "metadata": {},
     "output_type": "display_data"
    }
   ],
   "source": [
    "if gate==0:\n",
    "    camera = Camera()\n",
    "    from jetbot import Robot\n",
    "\n",
    "    robot = Robot()\n",
    "    speed_gain_slider = ipywidgets.FloatSlider(min=0.0, max=1.0, step=0.01, value=0.12, description='speed gain')\n",
    "    steering_gain_slider = ipywidgets.FloatSlider(min=0.0, max=1.0, step=0.005, value=0.005, description='steering gain')\n",
    "    steering_dgain_slider = ipywidgets.FloatSlider(min=0.0, max=0.5, step=0.001, value=0.04, description='steering kd')\n",
    "    steering_bias_slider = ipywidgets.FloatSlider(min=-0.3, max=0.3, step=0.01, value=0.0, description='steering bias')\n",
    "\n",
    "    display(speed_gain_slider, steering_gain_slider, steering_dgain_slider, steering_bias_slider)"
   ]
  },
  {
   "cell_type": "code",
   "execution_count": 105,
   "id": "pending-ideal",
   "metadata": {},
   "outputs": [],
   "source": [
    "if gate==0:\n",
    "    import time\n",
    "    import numpy as np\n",
    "\n",
    "\n",
    "    angle = 0.0\n",
    "    angle_last = 0.0\n",
    "\n",
    "    def execute(change):\n",
    "        global angle, angle_last, a\n",
    "        image = change['new']\n",
    "        xy = model_trt_1(preprocess(image)).detach().float().cpu().numpy().flatten()\n",
    "        x = xy[0]\n",
    "        y = (0.5 - xy[1]) / 2.0\n",
    "\n",
    "        x_slider.value = x\n",
    "        y_slider.value = y\n",
    "\n",
    "        speed_slider.value = speed_gain_slider.value\n",
    "\n",
    "        angle = np.arctan2(x, y)\n",
    "        pid = angle * steering_gain_slider.value + (angle - angle_last) * steering_dgain_slider.value\n",
    "        angle_last = angle\n",
    "\n",
    "        steering_slider.value = pid + steering_bias_slider.value\n",
    "\n",
    "       \n",
    "        \n",
    "        angle_threshold = 0.05  # Define a small threshold for the angle to consider the robot as centered\n",
    "        if abs(angle) < angle_threshold:\n",
    "                # Move straight if the angle is within the threshold\n",
    "            robot.left_motor.value = speed_slider.value\n",
    "            robot.right_motor.value = speed_slider.value\n",
    "        else:\n",
    "                # Adjust motor speeds based on the calculated PID value\n",
    "            robot.left_motor.value = 1.05*max(min(speed_slider.value + steering_slider.value, 1.0), 0.0)\n",
    "            robot.right_motor.value = max(min(speed_slider.value - steering_slider.value, 1.0), 0.0)\n",
    "   \n",
    "    execute({'new': camera.value})\n",
    "    camera.observe(execute, names='value')\n",
    "    import time\n",
    "    time.sleep(1.2)\n",
    "\n",
    "    camera.unobserve(execute, names='value')\n",
    "    time.sleep(0.1)\n",
    "\n",
    "\n",
    "    # add a small sleep to make sure frames have finished processing\n",
    "    robot.stop()"
   ]
  },
  {
   "cell_type": "code",
   "execution_count": 106,
   "id": "smaller-marks",
   "metadata": {},
   "outputs": [],
   "source": [
    "if gate==0:\n",
    "    camera.stop()"
   ]
  },
  {
   "cell_type": "code",
   "execution_count": 107,
   "id": "senior-cornell",
   "metadata": {},
   "outputs": [],
   "source": [
    "if gate==0:\n",
    "    #sol\n",
    "    robot.set_motors(-0.18,0.18)\n",
    "    time.sleep(0.5)\n",
    "    robot.set_motors(1,-1)\n",
    "\n",
    "    robot.stop()"
   ]
  },
  {
   "cell_type": "code",
   "execution_count": 108,
   "id": "valuable-retirement",
   "metadata": {},
   "outputs": [
    {
     "data": {
      "application/vnd.jupyter.widget-view+json": {
       "model_id": "dedadddb94104912868fbe6c6fab75aa",
       "version_major": 2,
       "version_minor": 0
      },
      "text/plain": [
       "Image(value=b'', format='jpeg', height='480', width='640')"
      ]
     },
     "metadata": {},
     "output_type": "display_data"
    },
    {
     "name": "stdout",
     "output_type": "stream",
     "text": [
      "Bulunan sayı: 2\n",
      "Bulunan sayı: 2\n",
      "Bulunan sayı: 2\n",
      "Bulunan sayı: 2\n",
      "Bulunan sayı: 2\n",
      "Bulunan sayı: 2\n",
      "Bulunan sayı: 2\n"
     ]
    }
   ],
   "source": [
    "if gate==0:\n",
    "    #calısan kod\n",
    "    import time\n",
    "    import pytesseract\n",
    "    import cv2\n",
    "    import numpy as np\n",
    "    from jetbot import Camera,Robot\n",
    "    import ipywidgets.widgets as widgets\n",
    "    from IPython.display import display\n",
    "    a=0\n",
    "    robot=Robot()\n",
    "\n",
    "    # İleri gitmek için motorları belirli bir hızda çalıştırın\n",
    "\n",
    "    # JetBot kamerasını başlat\n",
    "    camera = Camera.instance(width=640, height=480)\n",
    "\n",
    "    # Görüntüyü IPython widget'ında göstermek için widget oluştur\n",
    "    image_widget = widgets.Image(format='jpeg', width=640, height=480)\n",
    "    display(image_widget)\n",
    "\n",
    "    # OCR ayarlarını tanımla\n",
    "    custom_config = r'--oem 3 --psm 6 outputbase digits'\n",
    "    start_time=time.time()\n",
    "    # Ana döngü\n",
    "    try:\n",
    "        while True:\n",
    "            if time.time()-start_time>4:\n",
    "                camera.stop()\n",
    "                break\n",
    "            frame = camera.value\n",
    "\n",
    "        # Sağdan ve soldan belirli bir genişlikte kısmı kırp\n",
    "            crop_width_right = 220 # Sağdan kırpılacak genişlik\n",
    "            crop_width_left = 240  # Soldan kırpılacak genişlik\n",
    "\n",
    "            frame = frame[:, crop_width_left:-crop_width_right]\n",
    "\n",
    "        # Görüntüyü gri tonlamaya çevir\n",
    "            gray = cv2.cvtColor(frame, cv2.COLOR_BGR2GRAY)\n",
    "        # Görüntüyü bulanıklaştır\n",
    "            gray = cv2.GaussianBlur(gray, (5, 5), 0)\n",
    "        # Görüntüyü binarize et\n",
    "            _, binary_image = cv2.threshold(gray, 0, 255, cv2.THRESH_BINARY + cv2.THRESH_OTSU)\n",
    "\n",
    "        # OCR ile metin çıkar\n",
    "            text = pytesseract.image_to_string(binary_image, config=custom_config)\n",
    "        # Sayıları filtrele\n",
    "            number = ''.join(filter(str.isdigit, text))\n",
    "            if number:  # Eğer sayı bulunduysa\n",
    "                digit_list = [int(digit) for digit in number] # number string'indeki her rakamı integer listesine dönüştür\n",
    "                if len(digit_list)==1:\n",
    "                    num=digit_list[0]\n",
    "                    print(\"Bulunan sayı:\", num)\n",
    "                else:\n",
    "\n",
    "                    num=digit_list[0]\n",
    "            else:\n",
    "                print(\"sayi yok\")\n",
    "\n",
    "        # Widget güncellemesi için görüntüyü encode et\n",
    "            _, encoded_image = cv2.imencode('.jpg', frame)\n",
    "            image_widget.value = encoded_image.tobytes()\n",
    "\n",
    "\n",
    "\n",
    "\n",
    "    except KeyboardInterrupt:\n",
    "        # Kamera durdurulduğunda döngüyü kes\n",
    "        camera.stop()\n",
    "        print(\"Kamera durduruldu\")"
   ]
  },
  {
   "cell_type": "code",
   "execution_count": 109,
   "id": "legitimate-interstate",
   "metadata": {},
   "outputs": [],
   "source": [
    "if gate==0:\n",
    "    camera.stop()"
   ]
  },
  {
   "cell_type": "code",
   "execution_count": 110,
   "id": "continent-donor",
   "metadata": {},
   "outputs": [],
   "source": [
    "if gate==0:\n",
    "    if num==plaka:\n",
    "        import torch\n",
    "        from torch2trt import TRTModule\n",
    "\n",
    "        model_trt = TRTModule()\n",
    "        model_trt.load_state_dict(torch.load('best_parking_model_xy_trt.pth'))\n",
    "        from IPython.display import display\n",
    "        import ipywidgets\n",
    "        import traitlets\n",
    "        from jetbot import Camera, bgr8_to_jpeg\n",
    "\n",
    "        camera = Camera()\n",
    "        speed_gain_slider = ipywidgets.FloatSlider(min=0.0, max=1.0, step=0.01, value=0.12, description='speed gain')\n",
    "        steering_gain_slider = ipywidgets.FloatSlider(min=0.0, max=1.0, step=0.005, value=0.005, description='steering gain')\n",
    "        steering_dgain_slider = ipywidgets.FloatSlider(min=0.0, max=0.5, step=0.001, value=0.04, description='steering kd')\n",
    "        steering_bias_slider = ipywidgets.FloatSlider(min=-0.3, max=0.3, step=0.01, value=0.0, description='steering bias')\n",
    "\n",
    "        display(speed_gain_slider, steering_gain_slider, steering_dgain_slider, steering_bias_slider)\n",
    "        import time\n",
    "        from jetbot import Robot\n",
    "        robot=Robot()\n",
    "        angle = 0.0\n",
    "        angle_last = 0.0\n",
    "        \n",
    "        def execute(change):\n",
    "            global angle, angle_last,b\n",
    "            image = change['new']\n",
    "            xy = model_trt(preprocess(image)).detach().float().cpu().numpy().flatten()\n",
    "            x = xy[0]\n",
    "            y = (0.5 - xy[1]) / 2.0\n",
    "\n",
    "            x_slider.value = x\n",
    "            y_slider.value = y\n",
    "\n",
    "            speed_slider.value = speed_gain_slider.value\n",
    "\n",
    "            angle = np.arctan2(x, y)\n",
    "            pid = angle * steering_gain_slider.value + (angle - angle_last) * steering_dgain_slider.value\n",
    "            angle_last = angle\n",
    "\n",
    "            steering_slider.value = pid + steering_bias_slider.value\n",
    "\n",
    "\n",
    "            \n",
    "            \n",
    "            robot.left_motor.value = 1.10*max(min(speed_slider.value + steering_slider.value, 1.0), 0.0)\n",
    "            robot.right_motor.value = max(min(speed_slider.value - steering_slider.value, 1.0), 0.0)\n",
    "        execute({'new': camera.value})\n",
    "        camera.observe(execute, names='value')\n",
    "        import time\n",
    "        gate=4\n",
    "        time.sleep(2.85)\n",
    "       \n",
    "        camera.unobserve(execute, names='value')\n",
    "        \n",
    "\n",
    "\n",
    "        time.sleep(0.1)  # add a small sleep to make sure frames have finished processing\n",
    "        robot.stop()\n",
    "        camera.stop()\n",
    "        \n",
    "\n",
    "\n",
    "    \n",
    "    "
   ]
  },
  {
   "cell_type": "code",
   "execution_count": 111,
   "id": "rotary-minneapolis",
   "metadata": {},
   "outputs": [],
   "source": [
    "if gate==4:\n",
    "    import smbus2\n",
    "    import time\n",
    "    import RPi.GPIO as GPIO\n",
    "\n",
    "    kirmizi_bas = 0\n",
    "    kirmizi = 0\n",
    "    kirmizi1 = 0\n",
    "    kirmizi2 = 0\n",
    "    hot = 0\n",
    "    beyaz1 = 0\n",
    "    beyaz2 = 0\n",
    "\n",
    "    # TCS34725 I2C adresi ve komut bitleri\n",
    "    TCS34725_ADDRESS = 0x29\n",
    "    TCS34725_COMMAND_BIT = 0x80\n",
    "\n",
    "    # TCS34725 register adresleri\n",
    "    TCS34725_ENABLE = 0x00\n",
    "    TCS34725_ATIME = 0x01\n",
    "    TCS34725_CONTROL = 0x0F\n",
    "    TCS34725_CDATAL = 0x14\n",
    "    TCS34725_RDATAL = 0x16\n",
    "    TCS34725_GDATAL = 0x18\n",
    "    TCS34725_BDATAL = 0x1A\n",
    "\n",
    "    # I2C bus numarası (Jetson Nano'da genellikle I2C bus 0 kullanılır)\n",
    "    I2C_BUS = 0\n",
    "\n",
    "    # Sensör güç kontrol pinleri\n",
    "    VCC1_PIN = 17  # GPIO 17\n",
    "    VCC2_PIN = 27  # GPIO 27\n",
    "\n",
    "    # I2C bus nesnesini oluştur\n",
    "    i2c = smbus2.SMBus(I2C_BUS)\n",
    "\n",
    "    # GPIO ayarları\n",
    "    GPIO.setmode(GPIO.BCM)\n",
    "    GPIO.setup(VCC1_PIN, GPIO.OUT)\n",
    "    GPIO.setup(VCC2_PIN, GPIO.OUT)\n",
    "\n",
    "    def power_on_sensor(sensor_pin):\n",
    "        GPIO.output(sensor_pin, GPIO.HIGH)\n",
    "        time.sleep(0.1)  # Sensörün güç alması için bekleyin\n",
    "\n",
    "    def power_off_sensor(sensor_pin):\n",
    "        GPIO.output(sensor_pin, GPIO.LOW)\n",
    "        time.sleep(0.1)  # Sensörün kapanması için bekleyin\n",
    "\n",
    "    def write_register(reg, value):\n",
    "        i2c.write_byte_data(TCS34725_ADDRESS, TCS34725_COMMAND_BIT | reg, value)\n",
    "\n",
    "    def read_register_16(reg):\n",
    "        data = i2c.read_i2c_block_data(TCS34725_ADDRESS, TCS34725_COMMAND_BIT | reg, 2)\n",
    "        return data[1] << 8 | data[0]\n",
    "\n",
    "    def initialize_sensor():\n",
    "        write_register(TCS34725_ENABLE, 0x01)\n",
    "        time.sleep(0.01)\n",
    "        write_register(TCS34725_ENABLE, 0x03)\n",
    "        write_register(TCS34725_ATIME, 0xFF)\n",
    "        write_register(TCS34725_CONTROL, 0x00)\n",
    "        time.sleep(0.7)  # Entegrasyon zamanı\n",
    "\n",
    "    def read_color_ratio():\n",
    "        r = read_register_16(TCS34725_RDATAL)\n",
    "        g = read_register_16(TCS34725_GDATAL)\n",
    "        b = read_register_16(TCS34725_BDATAL)\n",
    "        c = read_register_16(TCS34725_CDATAL)\n",
    "        if c == 0:\n",
    "            return 0\n",
    "        else:\n",
    "            return r / c\n",
    "\n",
    "    # Kırmızı renk algılama eşiği\n",
    "    RED_THRESHOLD = 0.43\n",
    "    \n",
    "    # Başlangıç zamanını al\n",
    "    start_time = time.time()\n",
    "\n",
    "    try:\n",
    "        while hot == 0 and (time.time() - start_time) < 10:  # 10 saniye sınırı ekledik\n",
    "            # Sensör 1 için işlemler\n",
    "            power_on_sensor(VCC1_PIN)\n",
    "            initialize_sensor()\n",
    "            red_ratio_1 = read_color_ratio()\n",
    "            power_off_sensor(VCC1_PIN)\n",
    "\n",
    "            # Sensör 2 için işlemler\n",
    "            power_on_sensor(VCC2_PIN)\n",
    "            initialize_sensor()\n",
    "            red_ratio_2 = read_color_ratio()\n",
    "            power_off_sensor(VCC2_PIN)\n",
    "\n",
    "            print(f\"Red Ratio 1: {red_ratio_1}, Red Ratio 2: {red_ratio_2}\")\n",
    "\n",
    "            if red_ratio_1 > RED_THRESHOLD:\n",
    "                kirmizi1 += 1\n",
    "\n",
    "            if red_ratio_2 > RED_THRESHOLD:\n",
    "                kirmizi2 += 1\n",
    "\n",
    "            if red_ratio_1 < RED_THRESHOLD:\n",
    "                beyaz1 += 1\n",
    "\n",
    "            if red_ratio_2 < RED_THRESHOLD:\n",
    "                beyaz2 += 1\n",
    "\n",
    "            print(f\"Kirmizi1: {kirmizi1}, Kirmizi2: {kirmizi2}, Beyaz1: {beyaz1}, Beyaz2: {beyaz2}\")\n",
    "\n",
    "            if kirmizi1 + kirmizi2 > 4:\n",
    "                kirmizi_bas = 1\n",
    "\n",
    "            if beyaz1 + beyaz2 > 6 and kirmizi1 + kirmizi2 < 4:\n",
    "\n",
    "\n",
    "                time.sleep(1)\n",
    "\n",
    "        print(\"Döngü sona erdi.\")\n",
    "    finally:\n",
    "\n",
    "        GPIO.cleanup()  # GPIO pinlerini temizle\n"
   ]
  },
  {
   "cell_type": "code",
   "execution_count": 112,
   "id": "instrumental-worth",
   "metadata": {},
   "outputs": [],
   "source": [
    "if gate==4:\n",
    "    parking_status=\"Park Islemi Bitti\"\n",
    "    plate_status=\"Found\"\n",
    "    #geri yollama kodu\n",
    "    @app.route('/get_status', methods=['GET'])\n",
    "    def get_status():\n",
    "        global user_input\n",
    "        response = {\n",
    "                \"plateStatus\": plate_status,\n",
    "                \"parkingStatus\": parking_status,\n",
    "                \"redLineCount\": kirmizi_bas,\n",
    "                \"score\": (-1)*kirmizi_bas          \n",
    "            }\n",
    "        return jsonify(response)"
   ]
  },
  {
   "cell_type": "code",
   "execution_count": 113,
   "id": "received-knight",
   "metadata": {},
   "outputs": [],
   "source": [
    "if gate==0:\n",
    "    #sağ\n",
    "    robot.set_motors(0.18,-0.18)\n",
    "    time.sleep(0.5)\n",
    "    robot.set_motors(-1,1)\n",
    "\n",
    "    robot.stop()"
   ]
  },
  {
   "cell_type": "code",
   "execution_count": 114,
   "id": "signal-backup",
   "metadata": {},
   "outputs": [
    {
     "data": {
      "application/vnd.jupyter.widget-view+json": {
       "model_id": "5254a6bba2e841d8bfdb3e3473810bc0",
       "version_major": 2,
       "version_minor": 0
      },
      "text/plain": [
       "FloatSlider(value=0.12, description='speed gain', max=1.0, step=0.01)"
      ]
     },
     "metadata": {},
     "output_type": "display_data"
    },
    {
     "data": {
      "application/vnd.jupyter.widget-view+json": {
       "model_id": "3fecc53ba55e49aab59b8c626051b0ef",
       "version_major": 2,
       "version_minor": 0
      },
      "text/plain": [
       "FloatSlider(value=0.005, description='steering gain', max=1.0, step=0.005)"
      ]
     },
     "metadata": {},
     "output_type": "display_data"
    },
    {
     "data": {
      "application/vnd.jupyter.widget-view+json": {
       "model_id": "7c46257814a148c89cf49532d0cef866",
       "version_major": 2,
       "version_minor": 0
      },
      "text/plain": [
       "FloatSlider(value=0.04, description='steering kd', max=0.5, step=0.001)"
      ]
     },
     "metadata": {},
     "output_type": "display_data"
    },
    {
     "data": {
      "application/vnd.jupyter.widget-view+json": {
       "model_id": "b925cce91bce4db88a7e203c5ceb7133",
       "version_major": 2,
       "version_minor": 0
      },
      "text/plain": [
       "FloatSlider(value=0.0, description='steering bias', max=0.3, min=-0.3, step=0.01)"
      ]
     },
     "metadata": {},
     "output_type": "display_data"
    }
   ],
   "source": [
    "if gate==0:\n",
    "    camera = Camera()\n",
    "    from jetbot import Robot\n",
    "\n",
    "    robot = Robot()\n",
    "    speed_gain_slider = ipywidgets.FloatSlider(min=0.0, max=1.0, step=0.01, value=0.12, description='speed gain')\n",
    "    steering_gain_slider = ipywidgets.FloatSlider(min=0.0, max=1.0, step=0.005, value=0.005, description='steering gain')\n",
    "    steering_dgain_slider = ipywidgets.FloatSlider(min=0.0, max=0.5, step=0.001, value=0.04, description='steering kd')\n",
    "    steering_bias_slider = ipywidgets.FloatSlider(min=-0.3, max=0.3, step=0.01, value=0.0, description='steering bias')\n",
    "\n",
    "    display(speed_gain_slider, steering_gain_slider, steering_dgain_slider, steering_bias_slider)"
   ]
  },
  {
   "cell_type": "code",
   "execution_count": 115,
   "id": "accepted-cable",
   "metadata": {},
   "outputs": [],
   "source": [
    "if gate==0:\n",
    "    import time\n",
    "    import numpy as np\n",
    "\n",
    "\n",
    "    angle = 0.0\n",
    "    angle_last = 0.0\n",
    "\n",
    "    def execute(change):\n",
    "        global angle, angle_last, a\n",
    "        image = change['new']\n",
    "        xy = model_trt_1(preprocess(image)).detach().float().cpu().numpy().flatten()\n",
    "        x = xy[0]\n",
    "        y = (0.5 - xy[1]) / 2.0\n",
    "\n",
    "        x_slider.value = x\n",
    "        y_slider.value = y\n",
    "\n",
    "        speed_slider.value = speed_gain_slider.value\n",
    "\n",
    "        angle = np.arctan2(x, y)\n",
    "        pid = angle * steering_gain_slider.value + (angle - angle_last) * steering_dgain_slider.value\n",
    "        angle_last = angle\n",
    "\n",
    "        steering_slider.value = pid + steering_bias_slider.value\n",
    "\n",
    "       \n",
    "        \n",
    "        angle_threshold = 0.05  # Define a small threshold for the angle to consider the robot as centered\n",
    "        if abs(angle) < angle_threshold:\n",
    "                # Move straight if the angle is within the threshold\n",
    "            robot.left_motor.value = speed_slider.value\n",
    "            robot.right_motor.value = speed_slider.value\n",
    "        else:\n",
    "                # Adjust motor speeds based on the calculated PID value\n",
    "            robot.left_motor.value = 1.05*max(min(speed_slider.value + steering_slider.value, 1.0), 0.0)\n",
    "            robot.right_motor.value = max(min(speed_slider.value - steering_slider.value, 1.0), 0.0)\n",
    "   \n",
    "    execute({'new': camera.value})\n",
    "    camera.observe(execute, names='value')\n",
    "    import time\n",
    "    time.sleep(1.2)\n",
    "\n",
    "    camera.unobserve(execute, names='value')\n",
    "\n",
    "\n",
    "\n",
    "    time.sleep(0.1)  # add a small sleep to make sure frames have finished processing\n",
    "    robot.stop()"
   ]
  },
  {
   "cell_type": "code",
   "execution_count": 116,
   "id": "attached-horror",
   "metadata": {},
   "outputs": [],
   "source": [
    "if gate==0:\n",
    "    camera.stop()"
   ]
  },
  {
   "cell_type": "code",
   "execution_count": 117,
   "id": "stainless-swaziland",
   "metadata": {},
   "outputs": [],
   "source": [
    "if gate==0:\n",
    "    #sol\n",
    "    robot.set_motors(-0.18,0.18)\n",
    "    time.sleep(0.5)\n",
    "    robot.set_motors(1,-1)\n",
    "\n",
    "    robot.stop()"
   ]
  },
  {
   "cell_type": "code",
   "execution_count": 123,
   "id": "elementary-reverse",
   "metadata": {},
   "outputs": [
    {
     "data": {
      "application/vnd.jupyter.widget-view+json": {
       "model_id": "df2b64a1df694f07978cf80008435339",
       "version_major": 2,
       "version_minor": 0
      },
      "text/plain": [
       "Image(value=b'', format='jpeg', height='480', width='640')"
      ]
     },
     "metadata": {},
     "output_type": "display_data"
    },
    {
     "name": "stdout",
     "output_type": "stream",
     "text": [
      "Bulunan sayı: 1\n",
      "Bulunan sayı: 1\n",
      "Bulunan sayı: 1\n",
      "sayi yok\n",
      "sayi yok\n",
      "sayi yok\n"
     ]
    }
   ],
   "source": [
    "if gate==0:\n",
    "    #calısan kod\n",
    "    import time\n",
    "    import pytesseract\n",
    "    import cv2\n",
    "    import numpy as np\n",
    "    from jetbot import Camera,Robot\n",
    "    import ipywidgets.widgets as widgets\n",
    "    from IPython.display import display\n",
    "    a=0\n",
    "    robot=Robot()\n",
    "\n",
    "    # İleri gitmek için motorları belirli bir hızda çalıştırın\n",
    "\n",
    "    # JetBot kamerasını başlat\n",
    "    camera = Camera.instance(width=640, height=480)\n",
    "\n",
    "    # Görüntüyü IPython widget'ında göstermek için widget oluştur\n",
    "    image_widget = widgets.Image(format='jpeg', width=640, height=480)\n",
    "    display(image_widget)\n",
    "\n",
    "    # OCR ayarlarını tanımla\n",
    "    custom_config = r'--oem 3 --psm 6 outputbase digits'\n",
    "    start_time=time.time()\n",
    "    # Ana döngü\n",
    "    try:\n",
    "        while True:\n",
    "            if time.time()-start_time>4:\n",
    "                camera.stop()\n",
    "                break\n",
    "            frame = camera.value\n",
    "\n",
    "        # Sağdan ve soldan belirli bir genişlikte kısmı kırp\n",
    "            crop_width_right = 240 # Sağdan kırpılacak genişlik\n",
    "            crop_width_left = 220  # Soldan kırpılacak genişlik\n",
    "\n",
    "            frame = frame[:, crop_width_left:-crop_width_right]\n",
    "\n",
    "        # Görüntüyü gri tonlamaya çevir\n",
    "            gray = cv2.cvtColor(frame, cv2.COLOR_BGR2GRAY)\n",
    "        # Görüntüyü bulanıklaştır\n",
    "            gray = cv2.GaussianBlur(gray, (5, 5), 0)\n",
    "        # Görüntüyü binarize et\n",
    "            _, binary_image = cv2.threshold(gray, 0, 255, cv2.THRESH_BINARY + cv2.THRESH_OTSU)\n",
    "\n",
    "        # OCR ile metin çıkar\n",
    "            text = pytesseract.image_to_string(binary_image, config=custom_config)\n",
    "        # Sayıları filtrele\n",
    "            number = ''.join(filter(str.isdigit, text))\n",
    "            if number:  # Eğer sayı bulunduysa\n",
    "                digit_list = [int(digit) for digit in number] # number string'indeki her rakamı integer listesine dönüştür\n",
    "                if len(digit_list)==1:\n",
    "                    num=digit_list[0]\n",
    "                    print(\"Bulunan sayı:\", num)\n",
    "                else:\n",
    "\n",
    "                    num=digit_list[0]\n",
    "            else:\n",
    "                print(\"sayi yok\")\n",
    "\n",
    "        # Widget güncellemesi için görüntüyü encode et\n",
    "            _, encoded_image = cv2.imencode('.jpg', frame)\n",
    "            image_widget.value = encoded_image.tobytes()\n",
    "\n",
    "\n",
    "\n",
    "\n",
    "    except KeyboardInterrupt:\n",
    "        # Kamera durdurulduğunda döngüyü kes\n",
    "        camera.stop()\n",
    "        print(\"Kamera durduruldu\")"
   ]
  },
  {
   "cell_type": "code",
   "execution_count": 124,
   "id": "removable-agenda",
   "metadata": {},
   "outputs": [],
   "source": [
    "if gate==0:\n",
    "    camera.stop()"
   ]
  },
  {
   "cell_type": "code",
   "execution_count": 125,
   "id": "blond-security",
   "metadata": {},
   "outputs": [
    {
     "data": {
      "application/vnd.jupyter.widget-view+json": {
       "model_id": "27c1061306364e638387716505d6d6bd",
       "version_major": 2,
       "version_minor": 0
      },
      "text/plain": [
       "FloatSlider(value=0.12, description='speed gain', max=1.0, step=0.01)"
      ]
     },
     "metadata": {},
     "output_type": "display_data"
    },
    {
     "data": {
      "application/vnd.jupyter.widget-view+json": {
       "model_id": "186032a1fe4c49a0a0d14511c930c657",
       "version_major": 2,
       "version_minor": 0
      },
      "text/plain": [
       "FloatSlider(value=0.005, description='steering gain', max=1.0, step=0.005)"
      ]
     },
     "metadata": {},
     "output_type": "display_data"
    },
    {
     "data": {
      "application/vnd.jupyter.widget-view+json": {
       "model_id": "f7a656025ad94c4484840f77ae5ae7d7",
       "version_major": 2,
       "version_minor": 0
      },
      "text/plain": [
       "FloatSlider(value=0.04, description='steering kd', max=0.5, step=0.001)"
      ]
     },
     "metadata": {},
     "output_type": "display_data"
    },
    {
     "data": {
      "application/vnd.jupyter.widget-view+json": {
       "model_id": "7dbfa075a5644258afd85248d0c61dbd",
       "version_major": 2,
       "version_minor": 0
      },
      "text/plain": [
       "FloatSlider(value=0.0, description='steering bias', max=0.3, min=-0.3, step=0.01)"
      ]
     },
     "metadata": {},
     "output_type": "display_data"
    }
   ],
   "source": [
    "#parkin dogru kodu\n",
    "if gate==0:\n",
    "     if num==plaka:\n",
    "        import torch\n",
    "        from torch2trt import TRTModule\n",
    "\n",
    "        model_trt = TRTModule()\n",
    "        model_trt.load_state_dict(torch.load('best_parking_model_xy_trt.pth'))\n",
    "        from IPython.display import display\n",
    "        import ipywidgets\n",
    "        import traitlets\n",
    "        from jetbot import Camera, bgr8_to_jpeg\n",
    "\n",
    "        camera = Camera()\n",
    "        speed_gain_slider = ipywidgets.FloatSlider(min=0.0, max=1.0, step=0.01, value=0.12, description='speed gain')\n",
    "        steering_gain_slider = ipywidgets.FloatSlider(min=0.0, max=1.0, step=0.005, value=0.005, description='steering gain')\n",
    "        steering_dgain_slider = ipywidgets.FloatSlider(min=0.0, max=0.5, step=0.001, value=0.04, description='steering kd')\n",
    "        steering_bias_slider = ipywidgets.FloatSlider(min=-0.3, max=0.3, step=0.01, value=0.0, description='steering bias')\n",
    "\n",
    "        display(speed_gain_slider, steering_gain_slider, steering_dgain_slider, steering_bias_slider)\n",
    "        import time\n",
    "        from jetbot import Robot\n",
    "        robot=Robot()\n",
    "        angle = 0.0\n",
    "        angle_last = 0.0\n",
    "\n",
    "        def execute(change):\n",
    "            global angle, angle_last,b\n",
    "            image = change['new']\n",
    "            xy = model_trt(preprocess(image)).detach().float().cpu().numpy().flatten()\n",
    "            x = xy[0]\n",
    "            y = (0.5 - xy[1]) / 2.0\n",
    "\n",
    "            x_slider.value = x\n",
    "            y_slider.value = y\n",
    "\n",
    "            speed_slider.value = speed_gain_slider.value\n",
    "\n",
    "            angle = np.arctan2(x, y)\n",
    "            pid = angle * steering_gain_slider.value + (angle - angle_last) * steering_dgain_slider.value\n",
    "            angle_last = angle\n",
    "\n",
    "            steering_slider.value = pid + steering_bias_slider.value\n",
    "\n",
    "\n",
    "\n",
    "            robot.left_motor.value = 1.10*max(min(speed_slider.value + steering_slider.value, 1.0), 0.0)\n",
    "            robot.right_motor.value = max(min(speed_slider.value - steering_slider.value, 1.0), 0.0)\n",
    "        execute({'new': camera.value})\n",
    "        camera.observe(execute, names='value')\n",
    "        import time\n",
    "        gate=5\n",
    "        time.sleep(2.85)\n",
    "        camera.unobserve(execute, names='value')\n",
    "        \n",
    "        time.sleep(0.1)  # add a small sleep to make sure frames have finished processing\n",
    "\n",
    "\n",
    "        robot.stop()\n",
    "        camera.stop()"
   ]
  },
  {
   "cell_type": "code",
   "execution_count": null,
   "id": "patient-plane",
   "metadata": {},
   "outputs": [],
   "source": [
    "if gate==5:\n",
    "    import smbus2\n",
    "    import time\n",
    "    import RPi.GPIO as GPIO\n",
    "\n",
    "    kirmizi_bas = 0\n",
    "    kirmizi = 0\n",
    "    kirmizi1 = 0\n",
    "    kirmizi2 = 0\n",
    "    hot = 0\n",
    "    beyaz1 = 0\n",
    "    beyaz2 = 0\n",
    "\n",
    "    # TCS34725 I2C adresi ve komut bitleri\n",
    "    TCS34725_ADDRESS = 0x29\n",
    "    TCS34725_COMMAND_BIT = 0x80\n",
    "\n",
    "    # TCS34725 register adresleri\n",
    "    TCS34725_ENABLE = 0x00\n",
    "    TCS34725_ATIME = 0x01\n",
    "    TCS34725_CONTROL = 0x0F\n",
    "    TCS34725_CDATAL = 0x14\n",
    "    TCS34725_RDATAL = 0x16\n",
    "    TCS34725_GDATAL = 0x18\n",
    "    TCS34725_BDATAL = 0x1A\n",
    "\n",
    "    # I2C bus numarası (Jetson Nano'da genellikle I2C bus 0 kullanılır)\n",
    "    I2C_BUS = 0\n",
    "\n",
    "    # Sensör güç kontrol pinleri\n",
    "    VCC1_PIN = 17  # GPIO 17\n",
    "    VCC2_PIN = 27  # GPIO 27\n",
    "\n",
    "    # I2C bus nesnesini oluştur\n",
    "    i2c = smbus2.SMBus(I2C_BUS)\n",
    "\n",
    "    # GPIO ayarları\n",
    "    GPIO.setmode(GPIO.BCM)\n",
    "    GPIO.setup(VCC1_PIN, GPIO.OUT)\n",
    "    GPIO.setup(VCC2_PIN, GPIO.OUT)\n",
    "\n",
    "    def power_on_sensor(sensor_pin):\n",
    "        GPIO.output(sensor_pin, GPIO.HIGH)\n",
    "        time.sleep(0.1)  # Sensörün güç alması için bekleyin\n",
    "\n",
    "    def power_off_sensor(sensor_pin):\n",
    "        GPIO.output(sensor_pin, GPIO.LOW)\n",
    "        time.sleep(0.1)  # Sensörün kapanması için bekleyin\n",
    "\n",
    "    def write_register(reg, value):\n",
    "        i2c.write_byte_data(TCS34725_ADDRESS, TCS34725_COMMAND_BIT | reg, value)\n",
    "\n",
    "    def read_register_16(reg):\n",
    "        data = i2c.read_i2c_block_data(TCS34725_ADDRESS, TCS34725_COMMAND_BIT | reg, 2)\n",
    "        return data[1] << 8 | data[0]\n",
    "\n",
    "    def initialize_sensor():\n",
    "        write_register(TCS34725_ENABLE, 0x01)\n",
    "        time.sleep(0.01)\n",
    "        write_register(TCS34725_ENABLE, 0x03)\n",
    "        write_register(TCS34725_ATIME, 0xFF)\n",
    "        write_register(TCS34725_CONTROL, 0x00)\n",
    "        time.sleep(0.7)  # Entegrasyon zamanı\n",
    "\n",
    "    def read_color_ratio():\n",
    "        r = read_register_16(TCS34725_RDATAL)\n",
    "        g = read_register_16(TCS34725_GDATAL)\n",
    "        b = read_register_16(TCS34725_BDATAL)\n",
    "        c = read_register_16(TCS34725_CDATAL)\n",
    "        if c == 0:\n",
    "            return 0\n",
    "        else:\n",
    "            return r / c\n",
    "\n",
    "    # Kırmızı renk algılama eşiği\n",
    "    RED_THRESHOLD = 0.43\n",
    "    \n",
    "    # Başlangıç zamanını al\n",
    "    start_time = time.time()\n",
    "\n",
    "    try:\n",
    "        while hot == 0 and (time.time() - start_time) < 10:  # 10 saniye sınırı ekledik\n",
    "            # Sensör 1 için işlemler\n",
    "            power_on_sensor(VCC1_PIN)\n",
    "            initialize_sensor()\n",
    "            red_ratio_1 = read_color_ratio()\n",
    "            power_off_sensor(VCC1_PIN)\n",
    "\n",
    "            # Sensör 2 için işlemler\n",
    "            power_on_sensor(VCC2_PIN)\n",
    "            initialize_sensor()\n",
    "            red_ratio_2 = read_color_ratio()\n",
    "            power_off_sensor(VCC2_PIN)\n",
    "\n",
    "            print(f\"Red Ratio 1: {red_ratio_1}, Red Ratio 2: {red_ratio_2}\")\n",
    "\n",
    "            if red_ratio_1 > RED_THRESHOLD:\n",
    "                kirmizi1 += 1\n",
    "\n",
    "            if red_ratio_2 > RED_THRESHOLD:\n",
    "                kirmizi2 += 1\n",
    "\n",
    "            if red_ratio_1 < RED_THRESHOLD:\n",
    "                beyaz1 += 1\n",
    "\n",
    "            if red_ratio_2 < RED_THRESHOLD:\n",
    "                beyaz2 += 1\n",
    "\n",
    "            print(f\"Kirmizi1: {kirmizi1}, Kirmizi2: {kirmizi2}, Beyaz1: {beyaz1}, Beyaz2: {beyaz2}\")\n",
    "\n",
    "            if kirmizi1 + kirmizi2 > 4:\n",
    "                kirmizi_bas = 1\n",
    "\n",
    "            if beyaz1 + beyaz2 > 6 and kirmizi1 + kirmizi2 < 4:\n",
    "\n",
    "\n",
    "                time.sleep(1)\n",
    "\n",
    "        print(\"Döngü sona erdi.\")\n",
    "    finally:\n",
    "\n",
    "        GPIO.cleanup()  # GPIO pinlerini temizle\n"
   ]
  },
  {
   "cell_type": "code",
   "execution_count": null,
   "id": "complicated-faculty",
   "metadata": {},
   "outputs": [],
   "source": [
    "if gate==5:\n",
    "    parking_status=\"Park Islemi Bitti\"\n",
    "    plate_status=\"Found\"\n",
    "    #geri yollama kodu\n",
    "    @app.route('/get_status', methods=['GET'])\n",
    "    def get_status():\n",
    "        global user_input\n",
    "        response = {\n",
    "                \"plateStatus\": plate_status,\n",
    "                \"parkingStatus\": parking_status,\n",
    "                \"redLineCount\": kirmizi_bas,\n",
    "                \"score\": (-1)*kirmizi_bas          \n",
    "            }\n",
    "        return jsonify(response)"
   ]
  },
  {
   "cell_type": "code",
   "execution_count": 189,
   "id": "improving-orbit",
   "metadata": {},
   "outputs": [],
   "source": [
    "if gate==0:\n",
    "    #sağ\n",
    "    robot.set_motors(0.18,-0.18)\n",
    "    time.sleep(0.5)\n",
    "    robot.set_motors(-1,1)\n",
    "\n",
    "    robot.stop()"
   ]
  },
  {
   "cell_type": "code",
   "execution_count": 190,
   "id": "extraordinary-assurance",
   "metadata": {},
   "outputs": [
    {
     "data": {
      "application/vnd.jupyter.widget-view+json": {
       "model_id": "32b5b8dfd49b4d7a98f154184cb81456",
       "version_major": 2,
       "version_minor": 0
      },
      "text/plain": [
       "FloatSlider(value=0.12, description='speed gain', max=1.0, step=0.01)"
      ]
     },
     "metadata": {},
     "output_type": "display_data"
    },
    {
     "data": {
      "application/vnd.jupyter.widget-view+json": {
       "model_id": "6b32f243bc5a42d3a839a5853ef1fe1f",
       "version_major": 2,
       "version_minor": 0
      },
      "text/plain": [
       "FloatSlider(value=0.005, description='steering gain', max=1.0, step=0.005)"
      ]
     },
     "metadata": {},
     "output_type": "display_data"
    },
    {
     "data": {
      "application/vnd.jupyter.widget-view+json": {
       "model_id": "baea4e8aa08c46dca944c39168ac3cb9",
       "version_major": 2,
       "version_minor": 0
      },
      "text/plain": [
       "FloatSlider(value=0.04, description='steering kd', max=0.5, step=0.001)"
      ]
     },
     "metadata": {},
     "output_type": "display_data"
    },
    {
     "data": {
      "application/vnd.jupyter.widget-view+json": {
       "model_id": "69bb66d6c68a4a649b6e4d4b5c8e0d96",
       "version_major": 2,
       "version_minor": 0
      },
      "text/plain": [
       "FloatSlider(value=0.0, description='steering bias', max=0.3, min=-0.3, step=0.01)"
      ]
     },
     "metadata": {},
     "output_type": "display_data"
    }
   ],
   "source": [
    "if gate==0:\n",
    "    camera = Camera()\n",
    "    from jetbot import Robot\n",
    "\n",
    "    robot = Robot()\n",
    "    speed_gain_slider = ipywidgets.FloatSlider(min=0.0, max=1.0, step=0.01, value=0.12, description='speed gain')\n",
    "    steering_gain_slider = ipywidgets.FloatSlider(min=0.0, max=1.0, step=0.005, value=0.005, description='steering gain')\n",
    "    steering_dgain_slider = ipywidgets.FloatSlider(min=0.0, max=0.5, step=0.001, value=0.04, description='steering kd')\n",
    "    steering_bias_slider = ipywidgets.FloatSlider(min=-0.3, max=0.3, step=0.01, value=0.0, description='steering bias')\n",
    "\n",
    "    display(speed_gain_slider, steering_gain_slider, steering_dgain_slider, steering_bias_slider)"
   ]
  },
  {
   "cell_type": "code",
   "execution_count": 191,
   "id": "grand-separate",
   "metadata": {},
   "outputs": [],
   "source": [
    "if gate==0:\n",
    "    import time\n",
    "    import numpy as np\n",
    "\n",
    "\n",
    "    angle = 0.0\n",
    "    angle_last = 0.0\n",
    "\n",
    "    def execute(change):\n",
    "        global angle, angle_last, a\n",
    "        image = change['new']\n",
    "        xy = model_trt_1(preprocess(image)).detach().float().cpu().numpy().flatten()\n",
    "        x = xy[0]\n",
    "        y = (0.5 - xy[1]) / 2.0\n",
    "\n",
    "        x_slider.value = x\n",
    "        y_slider.value = y\n",
    "\n",
    "        speed_slider.value = speed_gain_slider.value\n",
    "\n",
    "        angle = np.arctan2(x, y)\n",
    "        pid = angle * steering_gain_slider.value + (angle - angle_last) * steering_dgain_slider.value\n",
    "        angle_last = angle\n",
    "\n",
    "        steering_slider.value = pid + steering_bias_slider.value\n",
    "\n",
    "       \n",
    "        \n",
    "        angle_threshold = 0.05  # Define a small threshold for the angle to consider the robot as centered\n",
    "        if abs(angle) < angle_threshold:\n",
    "            # Move straight if the angle is within the threshold\n",
    "            robot.left_motor.value = speed_slider.value\n",
    "            robot.right_motor.value = speed_slider.value\n",
    "        else:\n",
    "                # Adjust motor speeds based on the calculated PID value\n",
    "            robot.left_motor.value = 1.05*max(min(speed_slider.value + steering_slider.value, 1.0), 0.0)\n",
    "            robot.right_motor.value = max(min(speed_slider.value - steering_slider.value, 1.0), 0.0)\n",
    "    \n",
    "    execute({'new': camera.value})\n",
    "    camera.observe(execute, names='value')\n",
    "    \n",
    "\n",
    "    import time\n",
    "    time.sleep(1.4)\n",
    "\n",
    "    camera.unobserve(execute, names='value')\n",
    "\n",
    "\n",
    "\n",
    "    time.sleep(0.1)  # add a small sleep to make sure frames have finished processing\n",
    "    robot.stop()"
   ]
  },
  {
   "cell_type": "code",
   "execution_count": 193,
   "id": "generic-background",
   "metadata": {},
   "outputs": [],
   "source": [
    "if gate==0:\n",
    "    camera.stop()"
   ]
  },
  {
   "cell_type": "code",
   "execution_count": 194,
   "id": "killing-million",
   "metadata": {},
   "outputs": [],
   "source": [
    "if gate==0:\n",
    "    #sağ\n",
    "    robot.set_motors(0.18,-0.18)\n",
    "    time.sleep(0.5)\n",
    "    robot.set_motors(-1,1)\n",
    "\n",
    "    robot.stop()"
   ]
  },
  {
   "cell_type": "code",
   "execution_count": 195,
   "id": "owned-sentence",
   "metadata": {},
   "outputs": [],
   "source": [
    "if gate==0:\n",
    "    #sağ\n",
    "    robot.set_motors(0.18,-0.18)\n",
    "    time.sleep(0.5)\n",
    "    robot.set_motors(-1,1)\n",
    "\n",
    "    robot.stop()"
   ]
  },
  {
   "cell_type": "code",
   "execution_count": 196,
   "id": "seven-fitness",
   "metadata": {},
   "outputs": [
    {
     "data": {
      "application/vnd.jupyter.widget-view+json": {
       "model_id": "5d4472204d3d4b1f85d32aaff5f06cf7",
       "version_major": 2,
       "version_minor": 0
      },
      "text/plain": [
       "FloatSlider(value=0.12, description='speed gain', max=1.0, step=0.01)"
      ]
     },
     "metadata": {},
     "output_type": "display_data"
    },
    {
     "data": {
      "application/vnd.jupyter.widget-view+json": {
       "model_id": "c1355278fae045188468a59d902bc052",
       "version_major": 2,
       "version_minor": 0
      },
      "text/plain": [
       "FloatSlider(value=0.005, description='steering gain', max=1.0, step=0.005)"
      ]
     },
     "metadata": {},
     "output_type": "display_data"
    },
    {
     "data": {
      "application/vnd.jupyter.widget-view+json": {
       "model_id": "7aa4ccc1235a4f04b88d7acf720541a5",
       "version_major": 2,
       "version_minor": 0
      },
      "text/plain": [
       "FloatSlider(value=0.04, description='steering kd', max=0.5, step=0.001)"
      ]
     },
     "metadata": {},
     "output_type": "display_data"
    },
    {
     "data": {
      "application/vnd.jupyter.widget-view+json": {
       "model_id": "f62d7d0329284e73bc4f942ee4c9fcd0",
       "version_major": 2,
       "version_minor": 0
      },
      "text/plain": [
       "FloatSlider(value=0.0, description='steering bias', max=0.3, min=-0.3, step=0.01)"
      ]
     },
     "metadata": {},
     "output_type": "display_data"
    }
   ],
   "source": [
    "if gate==0:\n",
    "    camera = Camera()\n",
    "    from jetbot import Robot\n",
    "\n",
    "    robot = Robot()\n",
    "    speed_gain_slider = ipywidgets.FloatSlider(min=0.0, max=1.0, step=0.01, value=0.12, description='speed gain')\n",
    "    steering_gain_slider = ipywidgets.FloatSlider(min=0.0, max=1.0, step=0.005, value=0.005, description='steering gain')\n",
    "    steering_dgain_slider = ipywidgets.FloatSlider(min=0.0, max=0.5, step=0.001, value=0.04, description='steering kd')\n",
    "    steering_bias_slider = ipywidgets.FloatSlider(min=-0.3, max=0.3, step=0.01, value=0.0, description='steering bias')\n",
    "\n",
    "    display(speed_gain_slider, steering_gain_slider, steering_dgain_slider, steering_bias_slider)"
   ]
  },
  {
   "cell_type": "code",
   "execution_count": 197,
   "id": "handy-kingdom",
   "metadata": {},
   "outputs": [],
   "source": [
    "if gate==0:\n",
    "    import time\n",
    "    import numpy as np\n",
    "\n",
    "\n",
    "    angle = 0.0\n",
    "    angle_last = 0.0\n",
    "\n",
    "    def execute(change):\n",
    "        global angle, angle_last, a\n",
    "        image = change['new']\n",
    "        xy = model_trt_1(preprocess(image)).detach().float().cpu().numpy().flatten()\n",
    "        x = xy[0]\n",
    "        y = (0.5 - xy[1]) / 2.0\n",
    "\n",
    "        x_slider.value = x\n",
    "        y_slider.value = y\n",
    "\n",
    "        speed_slider.value = speed_gain_slider.value\n",
    "\n",
    "        angle = np.arctan2(x, y)\n",
    "        pid = angle * steering_gain_slider.value + (angle - angle_last) * steering_dgain_slider.value\n",
    "        angle_last = angle\n",
    "\n",
    "        steering_slider.value = pid + steering_bias_slider.value\n",
    "\n",
    "        \n",
    "       \n",
    "        angle_threshold = 0.05  # Define a small threshold for the angle to consider the robot as centered\n",
    "        if abs(angle) < angle_threshold:\n",
    "                # Move straight if the angle is within the threshold\n",
    "            robot.left_motor.value = speed_slider.value\n",
    "            robot.right_motor.value = speed_slider.value\n",
    "        else:\n",
    "                # Adjust motor speeds based on the calculated PID value\n",
    "            robot.left_motor.value = 1.05*max(min(speed_slider.value + steering_slider.value, 1.0), 0.0)\n",
    "            robot.right_motor.value = max(min(speed_slider.value - steering_slider.value, 1.0), 0.0)\n",
    "    \n",
    "    execute({'new': camera.value})\n",
    "    camera.observe(execute, names='value')\n",
    "    import time\n",
    "    time.sleep(1.4)\n",
    "    camera.unobserve(execute,names='value')\n",
    "    time.sleep(0.1)\n",
    "    robot.stop()"
   ]
  },
  {
   "cell_type": "code",
   "execution_count": 199,
   "id": "ideal-summer",
   "metadata": {},
   "outputs": [],
   "source": [
    "if gate==0:\n",
    "    camera.stop()"
   ]
  },
  {
   "cell_type": "code",
   "execution_count": 200,
   "id": "delayed-connection",
   "metadata": {},
   "outputs": [],
   "source": [
    "if gate==0:\n",
    "    #sol\n",
    "    robot.set_motors(-0.18,0.18)\n",
    "    time.sleep(0.5)\n",
    "    robot.set_motors(1,-1)\n",
    "\n",
    "    robot.stop()"
   ]
  },
  {
   "cell_type": "code",
   "execution_count": 201,
   "id": "bacterial-console",
   "metadata": {},
   "outputs": [
    {
     "data": {
      "application/vnd.jupyter.widget-view+json": {
       "model_id": "b493a5cdb62149cf835f0e2ab0b3c7b0",
       "version_major": 2,
       "version_minor": 0
      },
      "text/plain": [
       "Image(value=b'', format='jpeg', height='480', width='640')"
      ]
     },
     "metadata": {},
     "output_type": "display_data"
    },
    {
     "name": "stdout",
     "output_type": "stream",
     "text": [
      "Bulunan sayi: 98\n",
      "Bulunan sayi: 98\n",
      "Bulunan sayi: 98\n",
      "Bulunan sayi: 98\n",
      "Bulunan sayi: 98\n",
      "Bulunan sayi: 98\n"
     ]
    }
   ],
   "source": [
    "if gate==0:\n",
    "    #calısan kod\n",
    "    import time\n",
    "    import pytesseract\n",
    "    import cv2\n",
    "    import numpy as np\n",
    "    from jetbot import Camera,Robot\n",
    "    import ipywidgets.widgets as widgets\n",
    "    from IPython.display import display\n",
    "    a=0\n",
    "    robot=Robot()\n",
    "\n",
    "    # İleri gitmek için motorları belirli bir hızda çalıştırın\n",
    "\n",
    "    # JetBot kamerasını başlat\n",
    "    camera = Camera.instance(width=640, height=480)\n",
    "\n",
    "    # Görüntüyü IPython widget'ında göstermek için widget oluştur\n",
    "    image_widget = widgets.Image(format='jpeg', width=640, height=480)\n",
    "    display(image_widget)\n",
    "\n",
    "    # OCR ayarlarını tanımla\n",
    "    custom_config = r'--oem 3 --psm 6 outputbase digits'\n",
    "    start_time=time.time()\n",
    "    # Ana döngü\n",
    "    try:\n",
    "        while True:\n",
    "            if time.time()-start_time>4:\n",
    "                camera.stop()\n",
    "                break\n",
    "            frame = camera.value\n",
    "\n",
    "        # Sağdan ve soldan belirli bir genişlikte kısmı kırp\n",
    "            crop_width_right = 220 # Sağdan kırpılacak genişlik\n",
    "            crop_width_left = 240  # Soldan kırpılacak genişlik\n",
    "\n",
    "            frame = frame[:, crop_width_left:-crop_width_right]\n",
    "\n",
    "        # Görüntüyü gri tonlamaya çevir\n",
    "            gray = cv2.cvtColor(frame, cv2.COLOR_BGR2GRAY)\n",
    "        # Görüntüyü bulanıklaştır\n",
    "            gray = cv2.GaussianBlur(gray, (5, 5), 0)\n",
    "        # Görüntüyü binarize et\n",
    "            _, binary_image = cv2.threshold(gray, 0, 255, cv2.THRESH_BINARY + cv2.THRESH_OTSU)\n",
    "\n",
    "        # OCR ile metin çıkar\n",
    "            text = pytesseract.image_to_string(binary_image, config=custom_config)\n",
    "        # Sayıları filtrele\n",
    "            number = ''.join(filter(str.isdigit, text))\n",
    "            if number:  # Eğer sayı bulunduysa\n",
    "                digit_list = [int(digit) for digit in number] # number string'indeki her rakamı integer listesine dönüştür\n",
    "                if len(digit_list)==1:\n",
    "                    num=digit_list[0]\n",
    "                    print(\"Bulunan sayı:\", num)\n",
    "                else:\n",
    "                    num=digit_list[0]*10+digit_list[1]\n",
    "                    print(\"Bulunan sayi:\",num)\n",
    "            else:\n",
    "                print(\"sayi yok\")\n",
    "\n",
    "        # Widget güncellemesi için görüntüyü encode et\n",
    "            _, encoded_image = cv2.imencode('.jpg', frame)\n",
    "            image_widget.value = encoded_image.tobytes()\n",
    "\n",
    "\n",
    "\n",
    "\n",
    "    except KeyboardInterrupt:\n",
    "        # Kamera durdurulduğunda döngüyü kes\n",
    "        camera.stop()\n",
    "        print(\"Kamera durduruldu\")"
   ]
  },
  {
   "cell_type": "code",
   "execution_count": 202,
   "id": "primary-statement",
   "metadata": {},
   "outputs": [],
   "source": [
    "if gate==0:\n",
    "    camera.stop()"
   ]
  },
  {
   "cell_type": "code",
   "execution_count": 203,
   "id": "legendary-escape",
   "metadata": {},
   "outputs": [],
   "source": [
    "if gate==0:\n",
    "    if num==plaka:\n",
    "        import torch\n",
    "        from torch2trt import TRTModule\n",
    "\n",
    "        model_trt = TRTModule()\n",
    "        model_trt.load_state_dict(torch.load('best_parking_model_xy_trt.pth'))\n",
    "        from IPython.display import display\n",
    "        import ipywidgets\n",
    "        import traitlets\n",
    "        from jetbot import Camera, bgr8_to_jpeg\n",
    "\n",
    "        camera = Camera()\n",
    "        speed_gain_slider = ipywidgets.FloatSlider(min=0.0, max=1.0, step=0.01, value=0.12, description='speed gain')\n",
    "        steering_gain_slider = ipywidgets.FloatSlider(min=0.0, max=1.0, step=0.005, value=0.005, description='steering gain')\n",
    "        steering_dgain_slider = ipywidgets.FloatSlider(min=0.0, max=0.5, step=0.001, value=0.04, description='steering kd')\n",
    "        steering_bias_slider = ipywidgets.FloatSlider(min=-0.3, max=0.3, step=0.01, value=0.0, description='steering bias')\n",
    "\n",
    "        display(speed_gain_slider, steering_gain_slider, steering_dgain_slider, steering_bias_slider)\n",
    "        import time\n",
    "        from jetbot import Robot\n",
    "        robot=Robot()\n",
    "        angle = 0.0\n",
    "        angle_last = 0.0\n",
    "        \n",
    "        def execute(change):\n",
    "            global angle, angle_last,b\n",
    "            image = change['new']\n",
    "            xy = model_trt(preprocess(image)).detach().float().cpu().numpy().flatten()\n",
    "            x = xy[0]\n",
    "            y = (0.5 - xy[1]) / 2.0\n",
    "\n",
    "            x_slider.value = x\n",
    "            y_slider.value = y\n",
    "\n",
    "            speed_slider.value = speed_gain_slider.value\n",
    "\n",
    "            angle = np.arctan2(x, y)\n",
    "            pid = angle * steering_gain_slider.value + (angle - angle_last) * steering_dgain_slider.value\n",
    "            angle_last = angle\n",
    "\n",
    "            steering_slider.value = pid + steering_bias_slider.value\n",
    "\n",
    "\n",
    "           \n",
    "            \n",
    "            robot.left_motor.value = 1.10*max(min(speed_slider.value + steering_slider.value, 1.0), 0.0)\n",
    "            robot.right_motor.value = max(min(speed_slider.value - steering_slider.value, 1.0), 0.0)\n",
    "        execute({'new': camera.value})\n",
    "        camera.observe(execute, names='value')\n",
    "        import time \n",
    "        gate=6\n",
    "        time.sleep(2.85)\n",
    "        \n",
    "        camera.unobserve(execute,names='value')\n",
    "        time.sleep(0.1)\n",
    "        robot.stop()\n",
    "        camera.stop()"
   ]
  },
  {
   "cell_type": "code",
   "execution_count": null,
   "id": "overall-crawford",
   "metadata": {},
   "outputs": [],
   "source": [
    "if gate==6:\n",
    "    import smbus2\n",
    "    import time\n",
    "    import RPi.GPIO as GPIO\n",
    "\n",
    "    kirmizi_bas = 0\n",
    "    kirmizi = 0\n",
    "    kirmizi1 = 0\n",
    "    kirmizi2 = 0\n",
    "    hot = 0\n",
    "    beyaz1 = 0\n",
    "    beyaz2 = 0\n",
    "\n",
    "    # TCS34725 I2C adresi ve komut bitleri\n",
    "    TCS34725_ADDRESS = 0x29\n",
    "    TCS34725_COMMAND_BIT = 0x80\n",
    "\n",
    "    # TCS34725 register adresleri\n",
    "    TCS34725_ENABLE = 0x00\n",
    "    TCS34725_ATIME = 0x01\n",
    "    TCS34725_CONTROL = 0x0F\n",
    "    TCS34725_CDATAL = 0x14\n",
    "    TCS34725_RDATAL = 0x16\n",
    "    TCS34725_GDATAL = 0x18\n",
    "    TCS34725_BDATAL = 0x1A\n",
    "\n",
    "    # I2C bus numarası (Jetson Nano'da genellikle I2C bus 0 kullanılır)\n",
    "    I2C_BUS = 0\n",
    "\n",
    "    # Sensör güç kontrol pinleri\n",
    "    VCC1_PIN = 17  # GPIO 17\n",
    "    VCC2_PIN = 27  # GPIO 27\n",
    "\n",
    "    # I2C bus nesnesini oluştur\n",
    "    i2c = smbus2.SMBus(I2C_BUS)\n",
    "\n",
    "    # GPIO ayarları\n",
    "    GPIO.setmode(GPIO.BCM)\n",
    "    GPIO.setup(VCC1_PIN, GPIO.OUT)\n",
    "    GPIO.setup(VCC2_PIN, GPIO.OUT)\n",
    "\n",
    "    def power_on_sensor(sensor_pin):\n",
    "        GPIO.output(sensor_pin, GPIO.HIGH)\n",
    "        time.sleep(0.1)  # Sensörün güç alması için bekleyin\n",
    "\n",
    "    def power_off_sensor(sensor_pin):\n",
    "        GPIO.output(sensor_pin, GPIO.LOW)\n",
    "        time.sleep(0.1)  # Sensörün kapanması için bekleyin\n",
    "\n",
    "    def write_register(reg, value):\n",
    "        i2c.write_byte_data(TCS34725_ADDRESS, TCS34725_COMMAND_BIT | reg, value)\n",
    "\n",
    "    def read_register_16(reg):\n",
    "        data = i2c.read_i2c_block_data(TCS34725_ADDRESS, TCS34725_COMMAND_BIT | reg, 2)\n",
    "        return data[1] << 8 | data[0]\n",
    "\n",
    "    def initialize_sensor():\n",
    "        write_register(TCS34725_ENABLE, 0x01)\n",
    "        time.sleep(0.01)\n",
    "        write_register(TCS34725_ENABLE, 0x03)\n",
    "        write_register(TCS34725_ATIME, 0xFF)\n",
    "        write_register(TCS34725_CONTROL, 0x00)\n",
    "        time.sleep(0.7)  # Entegrasyon zamanı\n",
    "\n",
    "    def read_color_ratio():\n",
    "        r = read_register_16(TCS34725_RDATAL)\n",
    "        g = read_register_16(TCS34725_GDATAL)\n",
    "        b = read_register_16(TCS34725_BDATAL)\n",
    "        c = read_register_16(TCS34725_CDATAL)\n",
    "        if c == 0:\n",
    "            return 0\n",
    "        else:\n",
    "            return r / c\n",
    "\n",
    "    # Kırmızı renk algılama eşiği\n",
    "    RED_THRESHOLD = 0.43\n",
    "   \n",
    "    # Başlangıç zamanını al\n",
    "    start_time = time.time()\n",
    "\n",
    "    try:\n",
    "        while hot == 0 and (time.time() - start_time) < 10:  # 10 saniye sınırı ekledik\n",
    "            # Sensör 1 için işlemler\n",
    "            power_on_sensor(VCC1_PIN)\n",
    "            initialize_sensor()\n",
    "            red_ratio_1 = read_color_ratio()\n",
    "            power_off_sensor(VCC1_PIN)\n",
    "\n",
    "            # Sensör 2 için işlemler\n",
    "            power_on_sensor(VCC2_PIN)\n",
    "            initialize_sensor()\n",
    "            red_ratio_2 = read_color_ratio()\n",
    "            power_off_sensor(VCC2_PIN)\n",
    "\n",
    "            print(f\"Red Ratio 1: {red_ratio_1}, Red Ratio 2: {red_ratio_2}\")\n",
    "\n",
    "            if red_ratio_1 > RED_THRESHOLD:\n",
    "                kirmizi1 += 1\n",
    "\n",
    "            if red_ratio_2 > RED_THRESHOLD:\n",
    "                kirmizi2 += 1\n",
    "\n",
    "            if red_ratio_1 < RED_THRESHOLD:\n",
    "                beyaz1 += 1\n",
    "\n",
    "            if red_ratio_2 < RED_THRESHOLD:\n",
    "                beyaz2 += 1\n",
    "\n",
    "            print(f\"Kirmizi1: {kirmizi1}, Kirmizi2: {kirmizi2}, Beyaz1: {beyaz1}, Beyaz2: {beyaz2}\")\n",
    "\n",
    "            if kirmizi1 + kirmizi2 > 4:\n",
    "                kirmizi_bas = 1\n",
    "\n",
    "            if beyaz1 + beyaz2 > 6 and kirmizi1 + kirmizi2 < 4:\n",
    "\n",
    "\n",
    "                time.sleep(1)\n",
    "\n",
    "        print(\"Döngü sona erdi.\")\n",
    "    finally:\n",
    "\n",
    "        GPIO.cleanup()  # GPIO pinlerini temizle\n"
   ]
  },
  {
   "cell_type": "code",
   "execution_count": null,
   "id": "least-founder",
   "metadata": {},
   "outputs": [],
   "source": [
    "if gate==6:\n",
    "    parking_status=\"Park Islemi Bitti\"\n",
    "    plate_status=\"Found\"\n",
    "    #geri yollama kodu\n",
    "    @app.route('/get_status', methods=['GET'])\n",
    "    def get_status():\n",
    "        global user_input\n",
    "        response = {\n",
    "                \"plateStatus\": plate_status,\n",
    "                \"parkingStatus\": parking_status,\n",
    "                \"redLineCount\": kirmizi_bas,\n",
    "                \"score\": (-1)*kirmizi_bas          \n",
    "            }\n",
    "        return jsonify(response)"
   ]
  },
  {
   "cell_type": "code",
   "execution_count": 204,
   "id": "afraid-growing",
   "metadata": {},
   "outputs": [],
   "source": [
    "if gate==0:\n",
    "    #sağ\n",
    "    robot.set_motors(0.18,-0.18)\n",
    "    time.sleep(0.5)\n",
    "    robot.set_motors(-1,1)\n",
    "\n",
    "    robot.stop()"
   ]
  },
  {
   "cell_type": "code",
   "execution_count": 205,
   "id": "regional-roads",
   "metadata": {},
   "outputs": [
    {
     "data": {
      "application/vnd.jupyter.widget-view+json": {
       "model_id": "82df2a88c0284a77a31c4f6a1a0f40a5",
       "version_major": 2,
       "version_minor": 0
      },
      "text/plain": [
       "FloatSlider(value=0.12, description='speed gain', max=1.0, step=0.01)"
      ]
     },
     "metadata": {},
     "output_type": "display_data"
    },
    {
     "data": {
      "application/vnd.jupyter.widget-view+json": {
       "model_id": "471a3c56884540a6b27307e10478899e",
       "version_major": 2,
       "version_minor": 0
      },
      "text/plain": [
       "FloatSlider(value=0.005, description='steering gain', max=1.0, step=0.005)"
      ]
     },
     "metadata": {},
     "output_type": "display_data"
    },
    {
     "data": {
      "application/vnd.jupyter.widget-view+json": {
       "model_id": "778e32aabf7a451cb982f65cd6499eea",
       "version_major": 2,
       "version_minor": 0
      },
      "text/plain": [
       "FloatSlider(value=0.04, description='steering kd', max=0.5, step=0.001)"
      ]
     },
     "metadata": {},
     "output_type": "display_data"
    },
    {
     "data": {
      "application/vnd.jupyter.widget-view+json": {
       "model_id": "7185c39eddfc42cd8b8317421efac187",
       "version_major": 2,
       "version_minor": 0
      },
      "text/plain": [
       "FloatSlider(value=0.0, description='steering bias', max=0.3, min=-0.3, step=0.01)"
      ]
     },
     "metadata": {},
     "output_type": "display_data"
    }
   ],
   "source": [
    "if gate==0:\n",
    "    camera = Camera()\n",
    "    from jetbot import Robot\n",
    "\n",
    "    robot = Robot()\n",
    "    speed_gain_slider = ipywidgets.FloatSlider(min=0.0, max=1.0, step=0.01, value=0.12, description='speed gain')\n",
    "    steering_gain_slider = ipywidgets.FloatSlider(min=0.0, max=1.0, step=0.005, value=0.005, description='steering gain')\n",
    "    steering_dgain_slider = ipywidgets.FloatSlider(min=0.0, max=0.5, step=0.001, value=0.04, description='steering kd')\n",
    "    steering_bias_slider = ipywidgets.FloatSlider(min=-0.3, max=0.3, step=0.01, value=0.0, description='steering bias')\n",
    "\n",
    "    display(speed_gain_slider, steering_gain_slider, steering_dgain_slider, steering_bias_slider)"
   ]
  },
  {
   "cell_type": "code",
   "execution_count": 206,
   "id": "higher-riding",
   "metadata": {},
   "outputs": [],
   "source": [
    "if gate==0:\n",
    "    import time\n",
    "    import numpy as np\n",
    "\n",
    "\n",
    "    angle = 0.0\n",
    "    angle_last = 0.0\n",
    "\n",
    "    def execute(change):\n",
    "        global angle, angle_last, a\n",
    "        image = change['new']\n",
    "        xy = model_trt_1(preprocess(image)).detach().float().cpu().numpy().flatten()\n",
    "        x = xy[0]\n",
    "        y = (0.5 - xy[1]) / 2.0\n",
    "\n",
    "        x_slider.value = x\n",
    "        y_slider.value = y\n",
    "\n",
    "        speed_slider.value = speed_gain_slider.value\n",
    "\n",
    "        angle = np.arctan2(x, y)\n",
    "        pid = angle * steering_gain_slider.value + (angle - angle_last) * steering_dgain_slider.value\n",
    "        angle_last = angle\n",
    "\n",
    "        steering_slider.value = pid + steering_bias_slider.value\n",
    "\n",
    "        \n",
    "        \n",
    "        angle_threshold = 0.05  # Define a small threshold for the angle to consider the robot as centered\n",
    "        if abs(angle) < angle_threshold:\n",
    "                # Move straight if the angle is within the threshold\n",
    "            robot.left_motor.value = speed_slider.value\n",
    "            robot.right_motor.value = speed_slider.value\n",
    "        else:\n",
    "            # Adjust motor speeds based on the calculated PID value\n",
    "            robot.left_motor.value = 1.05*max(min(speed_slider.value + steering_slider.value, 1.0), 0.0)\n",
    "            robot.right_motor.value = max(min(speed_slider.value - steering_slider.value, 1.0), 0.0)\n",
    "    \n",
    "    execute({'new': camera.value})\n",
    "    camera.observe(execute, names='value')\n",
    "    import time\n",
    "    time.sleep(1.2)\n",
    "    camera.unobserve(execute,names='value')\n",
    "    time.sleep(0.1)\n",
    "    robot.stop()\n",
    "    "
   ]
  },
  {
   "cell_type": "code",
   "execution_count": 208,
   "id": "hybrid-colleague",
   "metadata": {},
   "outputs": [],
   "source": [
    "if gate==0:\n",
    "    camera.stop()"
   ]
  },
  {
   "cell_type": "code",
   "execution_count": 209,
   "id": "radio-hello",
   "metadata": {},
   "outputs": [],
   "source": [
    "if gate==0:\n",
    "    #sol\n",
    "    robot.set_motors(-0.18,0.18)\n",
    "    time.sleep(0.5)\n",
    "    robot.set_motors(1,-1)\n",
    "\n",
    "    robot.stop()"
   ]
  },
  {
   "cell_type": "code",
   "execution_count": 212,
   "id": "trained-death",
   "metadata": {},
   "outputs": [
    {
     "data": {
      "application/vnd.jupyter.widget-view+json": {
       "model_id": "6ccbc82dcee64d53b1e5f889b441451b",
       "version_major": 2,
       "version_minor": 0
      },
      "text/plain": [
       "Image(value=b'', format='jpeg', height='480', width='640')"
      ]
     },
     "metadata": {},
     "output_type": "display_data"
    },
    {
     "name": "stdout",
     "output_type": "stream",
     "text": [
      "sayi yok\n",
      "sayi yok\n",
      "Bulunan sayi: 87\n",
      "Bulunan sayi: 87\n",
      "Bulunan sayi: 87\n",
      "Bulunan sayi: 87\n"
     ]
    }
   ],
   "source": [
    "if gate==0:\n",
    "    #calısan kod\n",
    "    import time\n",
    "    import pytesseract\n",
    "    import cv2\n",
    "    import numpy as np\n",
    "    from jetbot import Camera,Robot\n",
    "    import ipywidgets.widgets as widgets\n",
    "    from IPython.display import display\n",
    "    a=0\n",
    "    robot=Robot()\n",
    "\n",
    "    # İleri gitmek için motorları belirli bir hızda çalıştırın\n",
    "\n",
    "    # JetBot kamerasını başlat\n",
    "    camera = Camera.instance(width=640, height=480)\n",
    "\n",
    "    # Görüntüyü IPython widget'ında göstermek için widget oluştur\n",
    "    image_widget = widgets.Image(format='jpeg', width=640, height=480)\n",
    "    display(image_widget)\n",
    "\n",
    "    # OCR ayarlarını tanımla\n",
    "    custom_config = r'--oem 3 --psm 6 outputbase digits'\n",
    "    start_time=time.time()\n",
    "    # Ana döngü\n",
    "    try:\n",
    "        while True:\n",
    "            if time.time()-start_time>4:\n",
    "                camera.stop()\n",
    "                break\n",
    "            frame = camera.value\n",
    "\n",
    "        # Sağdan ve soldan belirli bir genişlikte kısmı kırp\n",
    "            crop_width_right = 220 # Sağdan kırpılacak genişlik\n",
    "            crop_width_left = 240  # Soldan kırpılacak genişlik\n",
    "\n",
    "            frame = frame[:, crop_width_left:-crop_width_right]\n",
    "\n",
    "        # Görüntüyü gri tonlamaya çevir\n",
    "            gray = cv2.cvtColor(frame, cv2.COLOR_BGR2GRAY)\n",
    "        # Görüntüyü bulanıklaştır\n",
    "            gray = cv2.GaussianBlur(gray, (5, 5), 0)\n",
    "        # Görüntüyü binarize et\n",
    "            _, binary_image = cv2.threshold(gray, 0, 255, cv2.THRESH_BINARY + cv2.THRESH_OTSU)\n",
    "\n",
    "        # OCR ile metin çıkar\n",
    "            text = pytesseract.image_to_string(binary_image, config=custom_config)\n",
    "        # Sayıları filtrele\n",
    "            number = ''.join(filter(str.isdigit, text))\n",
    "            if number:  # Eğer sayı bulunduysa\n",
    "                digit_list = [int(digit) for digit in number] # number string'indeki her rakamı integer listesine dönüştür\n",
    "                if len(digit_list)==1:\n",
    "                    num=digit_list[0]\n",
    "                    print(\"Bulunan sayı:\", num)\n",
    "                else:\n",
    "                    num=digit_list[0]*10+digit_list[1]\n",
    "                    print(\"Bulunan sayi:\",num)\n",
    "            else:\n",
    "                print(\"sayi yok\")\n",
    "\n",
    "        # Widget güncellemesi için görüntüyü encode et\n",
    "            _, encoded_image = cv2.imencode('.jpg', frame)\n",
    "            image_widget.value = encoded_image.tobytes()\n",
    "\n",
    "\n",
    "\n",
    "\n",
    "    except KeyboardInterrupt:\n",
    "        # Kamera durdurulduğunda döngüyü kes\n",
    "        camera.stop()\n",
    "        print(\"Kamera durduruldu\")"
   ]
  },
  {
   "cell_type": "code",
   "execution_count": 213,
   "id": "recent-plate",
   "metadata": {},
   "outputs": [],
   "source": [
    "if gate==0:\n",
    "    camera.stop()"
   ]
  },
  {
   "cell_type": "code",
   "execution_count": 214,
   "id": "affecting-parallel",
   "metadata": {},
   "outputs": [],
   "source": [
    "if gate==0:\n",
    "    if num==plaka:\n",
    "        import torch\n",
    "        from torch2trt import TRTModule\n",
    "\n",
    "        model_trt = TRTModule()\n",
    "        model_trt.load_state_dict(torch.load('best_parking_model_xy_trt.pth'))\n",
    "        from IPython.display import display\n",
    "        import ipywidgets\n",
    "        import traitlets\n",
    "        from jetbot import Camera, bgr8_to_jpeg\n",
    "\n",
    "        camera = Camera()\n",
    "        speed_gain_slider = ipywidgets.FloatSlider(min=0.0, max=1.0, step=0.01, value=0.12, description='speed gain')\n",
    "        steering_gain_slider = ipywidgets.FloatSlider(min=0.0, max=1.0, step=0.005, value=0.005, description='steering gain')\n",
    "        steering_dgain_slider = ipywidgets.FloatSlider(min=0.0, max=0.5, step=0.001, value=0.04, description='steering kd')\n",
    "        steering_bias_slider = ipywidgets.FloatSlider(min=-0.3, max=0.3, step=0.01, value=0.0, description='steering bias')\n",
    "\n",
    "        display(speed_gain_slider, steering_gain_slider, steering_dgain_slider, steering_bias_slider)\n",
    "        import time\n",
    "        from jetbot import Robot\n",
    "        robot=Robot()\n",
    "        angle = 0.0\n",
    "        angle_last = 0.0\n",
    "        \n",
    "        def execute(change):\n",
    "            global angle, angle_last,b\n",
    "            image = change['new']\n",
    "            xy = model_trt(preprocess(image)).detach().float().cpu().numpy().flatten()\n",
    "            x = xy[0]\n",
    "            y = (0.5 - xy[1]) / 2.0\n",
    "\n",
    "            x_slider.value = x\n",
    "            y_slider.value = y\n",
    "\n",
    "            speed_slider.value = speed_gain_slider.value\n",
    "\n",
    "            angle = np.arctan2(x, y)\n",
    "            pid = angle * steering_gain_slider.value + (angle - angle_last) * steering_dgain_slider.value\n",
    "            angle_last = angle\n",
    "\n",
    "            steering_slider.value = pid + steering_bias_slider.value\n",
    "\n",
    "\n",
    "            \n",
    "            \n",
    "            robot.left_motor.value = 1.10*max(min(speed_slider.value + steering_slider.value, 1.0), 0.0)\n",
    "            robot.right_motor.value = max(min(speed_slider.value - steering_slider.value, 1.0), 0.0)\n",
    "        execute({'new': camera.value})\n",
    "        camera.observe(execute, names='value')\n",
    "        import time\n",
    "        gate=7\n",
    "        time.sleep(2.85)\n",
    "        \n",
    "        camera.unobserve(execute,names='value')\n",
    "        time.sleep(0.1)\n",
    "        robot.stop()\n",
    "        camera.stop()"
   ]
  },
  {
   "cell_type": "code",
   "execution_count": null,
   "id": "enabling-fever",
   "metadata": {},
   "outputs": [],
   "source": [
    "if gate==7:\n",
    "    import smbus2\n",
    "    import time\n",
    "    import RPi.GPIO as GPIO\n",
    "\n",
    "    kirmizi_bas = 0\n",
    "    kirmizi = 0\n",
    "    kirmizi1 = 0\n",
    "    kirmizi2 = 0\n",
    "    hot = 0\n",
    "    beyaz1 = 0\n",
    "    beyaz2 = 0\n",
    "\n",
    "    # TCS34725 I2C adresi ve komut bitleri\n",
    "    TCS34725_ADDRESS = 0x29\n",
    "    TCS34725_COMMAND_BIT = 0x80\n",
    "\n",
    "    # TCS34725 register adresleri\n",
    "    TCS34725_ENABLE = 0x00\n",
    "    TCS34725_ATIME = 0x01\n",
    "    TCS34725_CONTROL = 0x0F\n",
    "    TCS34725_CDATAL = 0x14\n",
    "    TCS34725_RDATAL = 0x16\n",
    "    TCS34725_GDATAL = 0x18\n",
    "    TCS34725_BDATAL = 0x1A\n",
    "\n",
    "    # I2C bus numarası (Jetson Nano'da genellikle I2C bus 0 kullanılır)\n",
    "    I2C_BUS = 0\n",
    "\n",
    "    # Sensör güç kontrol pinleri\n",
    "    VCC1_PIN = 17  # GPIO 17\n",
    "    VCC2_PIN = 27  # GPIO 27\n",
    "\n",
    "    # I2C bus nesnesini oluştur\n",
    "    i2c = smbus2.SMBus(I2C_BUS)\n",
    "\n",
    "    # GPIO ayarları\n",
    "    GPIO.setmode(GPIO.BCM)\n",
    "    GPIO.setup(VCC1_PIN, GPIO.OUT)\n",
    "    GPIO.setup(VCC2_PIN, GPIO.OUT)\n",
    "\n",
    "    def power_on_sensor(sensor_pin):\n",
    "        GPIO.output(sensor_pin, GPIO.HIGH)\n",
    "        time.sleep(0.1)  # Sensörün güç alması için bekleyin\n",
    "\n",
    "    def power_off_sensor(sensor_pin):\n",
    "        GPIO.output(sensor_pin, GPIO.LOW)\n",
    "        time.sleep(0.1)  # Sensörün kapanması için bekleyin\n",
    "\n",
    "    def write_register(reg, value):\n",
    "        i2c.write_byte_data(TCS34725_ADDRESS, TCS34725_COMMAND_BIT | reg, value)\n",
    "\n",
    "    def read_register_16(reg):\n",
    "        data = i2c.read_i2c_block_data(TCS34725_ADDRESS, TCS34725_COMMAND_BIT | reg, 2)\n",
    "        return data[1] << 8 | data[0]\n",
    "\n",
    "    def initialize_sensor():\n",
    "        write_register(TCS34725_ENABLE, 0x01)\n",
    "        time.sleep(0.01)\n",
    "        write_register(TCS34725_ENABLE, 0x03)\n",
    "        write_register(TCS34725_ATIME, 0xFF)\n",
    "        write_register(TCS34725_CONTROL, 0x00)\n",
    "        time.sleep(0.7)  # Entegrasyon zamanı\n",
    "\n",
    "    def read_color_ratio():\n",
    "        r = read_register_16(TCS34725_RDATAL)\n",
    "        g = read_register_16(TCS34725_GDATAL)\n",
    "        b = read_register_16(TCS34725_BDATAL)\n",
    "        c = read_register_16(TCS34725_CDATAL)\n",
    "        if c == 0:\n",
    "            return 0\n",
    "        else:\n",
    "            return r / c\n",
    "\n",
    "    # Kırmızı renk algılama eşiği\n",
    "    RED_THRESHOLD = 0.43\n",
    "    \n",
    "    # Başlangıç zamanını al\n",
    "    start_time = time.time()\n",
    "\n",
    "    try:\n",
    "        while hot == 0 and (time.time() - start_time) < 10:  # 10 saniye sınırı ekledik\n",
    "            # Sensör 1 için işlemler\n",
    "            power_on_sensor(VCC1_PIN)\n",
    "            initialize_sensor()\n",
    "            red_ratio_1 = read_color_ratio()\n",
    "            power_off_sensor(VCC1_PIN)\n",
    "\n",
    "            # Sensör 2 için işlemler\n",
    "            power_on_sensor(VCC2_PIN)\n",
    "            initialize_sensor()\n",
    "            red_ratio_2 = read_color_ratio()\n",
    "            power_off_sensor(VCC2_PIN)\n",
    "\n",
    "            print(f\"Red Ratio 1: {red_ratio_1}, Red Ratio 2: {red_ratio_2}\")\n",
    "\n",
    "            if red_ratio_1 > RED_THRESHOLD:\n",
    "                kirmizi1 += 1\n",
    "\n",
    "            if red_ratio_2 > RED_THRESHOLD:\n",
    "                kirmizi2 += 1\n",
    "\n",
    "            if red_ratio_1 < RED_THRESHOLD:\n",
    "                beyaz1 += 1\n",
    "\n",
    "            if red_ratio_2 < RED_THRESHOLD:\n",
    "                beyaz2 += 1\n",
    "\n",
    "            print(f\"Kirmizi1: {kirmizi1}, Kirmizi2: {kirmizi2}, Beyaz1: {beyaz1}, Beyaz2: {beyaz2}\")\n",
    "\n",
    "            if kirmizi1 + kirmizi2 > 4:\n",
    "                kirmizi_bas = 1\n",
    "\n",
    "            if beyaz1 + beyaz2 > 6 and kirmizi1 + kirmizi2 < 4:\n",
    "\n",
    "\n",
    "                time.sleep(1)\n",
    "\n",
    "        print(\"Döngü sona erdi.\")\n",
    "    finally:\n",
    "\n",
    "        GPIO.cleanup()  # GPIO pinlerini temizle\n",
    "\n"
   ]
  },
  {
   "cell_type": "code",
   "execution_count": null,
   "id": "naked-language",
   "metadata": {},
   "outputs": [],
   "source": [
    "if gate==7:\n",
    "    parking_status=\"Park Islemi Bitti\"\n",
    "    plate_status=\"Found\"\n",
    "    #geri yollama kodu\n",
    "    @app.route('/get_status', methods=['GET'])\n",
    "    def get_status():\n",
    "        global user_input\n",
    "        response = {\n",
    "                \"plateStatus\": plate_status,\n",
    "                \"parkingStatus\": parking_status,\n",
    "                \"redLineCount\": kirmizi_bas,\n",
    "                \"score\": (-1)*kirmizi_bas          \n",
    "            }\n",
    "        return jsonify(response)"
   ]
  },
  {
   "cell_type": "code",
   "execution_count": 215,
   "id": "banned-architect",
   "metadata": {},
   "outputs": [],
   "source": [
    "if gate==0:\n",
    "    #sağ\n",
    "    robot.set_motors(0.18,-0.18)\n",
    "    time.sleep(0.5)\n",
    "    robot.set_motors(-1,1)\n",
    "\n",
    "    robot.stop()"
   ]
  },
  {
   "cell_type": "code",
   "execution_count": 216,
   "id": "graphic-failing",
   "metadata": {},
   "outputs": [
    {
     "data": {
      "application/vnd.jupyter.widget-view+json": {
       "model_id": "015116e1064f462e9609e11309597d97",
       "version_major": 2,
       "version_minor": 0
      },
      "text/plain": [
       "FloatSlider(value=0.12, description='speed gain', max=1.0, step=0.01)"
      ]
     },
     "metadata": {},
     "output_type": "display_data"
    },
    {
     "data": {
      "application/vnd.jupyter.widget-view+json": {
       "model_id": "724002f6aee04ed4bd6a95c46bf232f8",
       "version_major": 2,
       "version_minor": 0
      },
      "text/plain": [
       "FloatSlider(value=0.005, description='steering gain', max=1.0, step=0.005)"
      ]
     },
     "metadata": {},
     "output_type": "display_data"
    },
    {
     "data": {
      "application/vnd.jupyter.widget-view+json": {
       "model_id": "42a49630723a4622b2ec0968b3050122",
       "version_major": 2,
       "version_minor": 0
      },
      "text/plain": [
       "FloatSlider(value=0.04, description='steering kd', max=0.5, step=0.001)"
      ]
     },
     "metadata": {},
     "output_type": "display_data"
    },
    {
     "data": {
      "application/vnd.jupyter.widget-view+json": {
       "model_id": "9fd5257180fd407bb9c662aa42f965e5",
       "version_major": 2,
       "version_minor": 0
      },
      "text/plain": [
       "FloatSlider(value=0.0, description='steering bias', max=0.3, min=-0.3, step=0.01)"
      ]
     },
     "metadata": {},
     "output_type": "display_data"
    }
   ],
   "source": [
    "if gate==0:\n",
    "    camera = Camera()\n",
    "    from jetbot import Robot\n",
    "\n",
    "    robot = Robot()\n",
    "    speed_gain_slider = ipywidgets.FloatSlider(min=0.0, max=1.0, step=0.01, value=0.12, description='speed gain')\n",
    "    steering_gain_slider = ipywidgets.FloatSlider(min=0.0, max=1.0, step=0.005, value=0.005, description='steering gain')\n",
    "    steering_dgain_slider = ipywidgets.FloatSlider(min=0.0, max=0.5, step=0.001, value=0.04, description='steering kd')\n",
    "    steering_bias_slider = ipywidgets.FloatSlider(min=-0.3, max=0.3, step=0.01, value=0.0, description='steering bias')\n",
    "\n",
    "    display(speed_gain_slider, steering_gain_slider, steering_dgain_slider, steering_bias_slider)"
   ]
  },
  {
   "cell_type": "code",
   "execution_count": 217,
   "id": "current-visit",
   "metadata": {},
   "outputs": [],
   "source": [
    "if gate==0:\n",
    "    import time\n",
    "    import numpy as np\n",
    "\n",
    "\n",
    "    angle = 0.0\n",
    "    angle_last = 0.0\n",
    "\n",
    "    def execute(change):\n",
    "        global angle, angle_last, a\n",
    "        image = change['new']\n",
    "        xy = model_trt_1(preprocess(image)).detach().float().cpu().numpy().flatten()\n",
    "        x = xy[0]\n",
    "        y = (0.5 - xy[1]) / 2.0\n",
    "\n",
    "        x_slider.value = x\n",
    "        y_slider.value = y\n",
    "\n",
    "        speed_slider.value = speed_gain_slider.value\n",
    "\n",
    "        angle = np.arctan2(x, y)\n",
    "        pid = angle * steering_gain_slider.value + (angle - angle_last) * steering_dgain_slider.value\n",
    "        angle_last = angle\n",
    "\n",
    "        steering_slider.value = pid + steering_bias_slider.value\n",
    "\n",
    "        \n",
    "        \n",
    "        angle_threshold = 0.05  # Define a small threshold for the angle to consider the robot as centered\n",
    "        if abs(angle) < angle_threshold:\n",
    "                # Move straight if the angle is within the threshold\n",
    "            robot.left_motor.value = speed_slider.value\n",
    "            robot.right_motor.value = speed_slider.value\n",
    "        else:\n",
    "                # Adjust motor speeds based on the calculated PID value\n",
    "            robot.left_motor.value = 1.05*max(min(speed_slider.value + steering_slider.value, 1.0), 0.0)\n",
    "            robot.right_motor.value = max(min(speed_slider.value - steering_slider.value, 1.0), 0.0)\n",
    "   \n",
    "    execute({'new': camera.value})\n",
    "    camera.observe(execute, names='value')\n",
    "    import time\n",
    "    time.sleep(1.2)\n",
    "    camera.unobserve(execute,names='value')\n",
    "    time.sleep(0.1)\n",
    "    robot.stop()"
   ]
  },
  {
   "cell_type": "code",
   "execution_count": 219,
   "id": "first-rolling",
   "metadata": {},
   "outputs": [],
   "source": [
    "if gate==0:\n",
    "    camera.stop()"
   ]
  },
  {
   "cell_type": "code",
   "execution_count": 220,
   "id": "reasonable-stadium",
   "metadata": {},
   "outputs": [],
   "source": [
    "if gate==0:\n",
    "    #sol\n",
    "    robot.set_motors(-0.18,0.18)\n",
    "    time.sleep(0.5)\n",
    "    robot.set_motors(1,-1)\n",
    "\n",
    "    robot.stop()"
   ]
  },
  {
   "cell_type": "code",
   "execution_count": 221,
   "id": "massive-simpson",
   "metadata": {},
   "outputs": [
    {
     "data": {
      "application/vnd.jupyter.widget-view+json": {
       "model_id": "910cdc9b499a4178a531fc487ff60f86",
       "version_major": 2,
       "version_minor": 0
      },
      "text/plain": [
       "Image(value=b'', format='jpeg', height='480', width='640')"
      ]
     },
     "metadata": {},
     "output_type": "display_data"
    },
    {
     "name": "stdout",
     "output_type": "stream",
     "text": [
      "sayi yok\n",
      "sayi yok\n",
      "Bulunan sayi: 77\n",
      "sayi yok\n",
      "Bulunan sayı: 7\n",
      "sayi yok\n",
      "Bulunan sayı: 7\n"
     ]
    }
   ],
   "source": [
    "if gate==0:\n",
    "    #calısan kod\n",
    "    import time\n",
    "    import pytesseract\n",
    "    import cv2\n",
    "    import numpy as np\n",
    "    from jetbot import Camera,Robot\n",
    "    import ipywidgets.widgets as widgets\n",
    "    from IPython.display import display\n",
    "    a=0\n",
    "    robot=Robot()\n",
    "\n",
    "    # İleri gitmek için motorları belirli bir hızda çalıştırın\n",
    "\n",
    "    # JetBot kamerasını başlat\n",
    "    camera = Camera.instance(width=640, height=480)\n",
    "\n",
    "    # Görüntüyü IPython widget'ında göstermek için widget oluştur\n",
    "    image_widget = widgets.Image(format='jpeg', width=640, height=480)\n",
    "    display(image_widget)\n",
    "\n",
    "    # OCR ayarlarını tanımla\n",
    "    custom_config = r'--oem 3 --psm 6 outputbase digits'\n",
    "    start_time=time.time()\n",
    "    # Ana döngü\n",
    "    try:\n",
    "        while True:\n",
    "            if time.time()-start_time>4:\n",
    "                camera.stop()\n",
    "                break\n",
    "            frame = camera.value\n",
    "\n",
    "        # Sağdan ve soldan belirli bir genişlikte kısmı kırp\n",
    "            crop_width_right = 220 # Sağdan kırpılacak genişlik\n",
    "            crop_width_left = 240  # Soldan kırpılacak genişlik\n",
    "\n",
    "            frame = frame[:, crop_width_left:-crop_width_right]\n",
    "\n",
    "        # Görüntüyü gri tonlamaya çevir\n",
    "            gray = cv2.cvtColor(frame, cv2.COLOR_BGR2GRAY)\n",
    "        # Görüntüyü bulanıklaştır\n",
    "            gray = cv2.GaussianBlur(gray, (5, 5), 0)\n",
    "        # Görüntüyü binarize et\n",
    "            _, binary_image = cv2.threshold(gray, 0, 255, cv2.THRESH_BINARY + cv2.THRESH_OTSU)\n",
    "\n",
    "        # OCR ile metin çıkar\n",
    "            text = pytesseract.image_to_string(binary_image, config=custom_config)\n",
    "        # Sayıları filtrele\n",
    "            number = ''.join(filter(str.isdigit, text))\n",
    "            if number:  # Eğer sayı bulunduysa\n",
    "                digit_list = [int(digit) for digit in number] # number string'indeki her rakamı integer listesine dönüştür\n",
    "                if len(digit_list)==1:\n",
    "                    num=digit_list[0]\n",
    "                    print(\"Bulunan sayı:\", num)\n",
    "                else:\n",
    "                    num=digit_list[0]*10+digit_list[1]\n",
    "                    print(\"Bulunan sayi:\",num)\n",
    "            else:\n",
    "                print(\"sayi yok\")\n",
    "\n",
    "        # Widget güncellemesi için görüntüyü encode et\n",
    "            _, encoded_image = cv2.imencode('.jpg', frame)\n",
    "            image_widget.value = encoded_image.tobytes()\n",
    "\n",
    "\n",
    "\n",
    "\n",
    "    except KeyboardInterrupt:\n",
    "        # Kamera durdurulduğunda döngüyü kes\n",
    "        camera.stop()\n",
    "        print(\"Kamera durduruldu\")"
   ]
  },
  {
   "cell_type": "code",
   "execution_count": 222,
   "id": "incoming-reality",
   "metadata": {},
   "outputs": [],
   "source": [
    "if gate==0:\n",
    "    camera.stop()"
   ]
  },
  {
   "cell_type": "code",
   "execution_count": 223,
   "id": "vanilla-status",
   "metadata": {},
   "outputs": [],
   "source": [
    "if gate==0:\n",
    "    if num==plaka:\n",
    "        import torch\n",
    "        from torch2trt import TRTModule\n",
    "\n",
    "        model_trt = TRTModule()\n",
    "        model_trt.load_state_dict(torch.load('best_parking_model_xy_trt.pth'))\n",
    "        from IPython.display import display\n",
    "        import ipywidgets\n",
    "        import traitlets\n",
    "        from jetbot import Camera, bgr8_to_jpeg\n",
    "\n",
    "        camera = Camera()\n",
    "        speed_gain_slider = ipywidgets.FloatSlider(min=0.0, max=1.0, step=0.01, value=0.12, description='speed gain')\n",
    "        steering_gain_slider = ipywidgets.FloatSlider(min=0.0, max=1.0, step=0.005, value=0.005, description='steering gain')\n",
    "        steering_dgain_slider = ipywidgets.FloatSlider(min=0.0, max=0.5, step=0.001, value=0.04, description='steering kd')\n",
    "        steering_bias_slider = ipywidgets.FloatSlider(min=-0.3, max=0.3, step=0.01, value=0.0, description='steering bias')\n",
    "\n",
    "        display(speed_gain_slider, steering_gain_slider, steering_dgain_slider, steering_bias_slider)\n",
    "        import time\n",
    "        from jetbot import Robot\n",
    "        robot=Robot()\n",
    "        angle = 0.0\n",
    "        angle_last = 0.0\n",
    "        \n",
    "        def execute(change):\n",
    "            global angle, angle_last,b\n",
    "            image = change['new']\n",
    "            xy = model_trt(preprocess(image)).detach().float().cpu().numpy().flatten()\n",
    "            x = xy[0]\n",
    "            y = (0.5 - xy[1]) / 2.0\n",
    "\n",
    "            x_slider.value = x\n",
    "            y_slider.value = y\n",
    "\n",
    "            speed_slider.value = speed_gain_slider.value\n",
    "\n",
    "            angle = np.arctan2(x, y)\n",
    "            pid = angle * steering_gain_slider.value + (angle - angle_last) * steering_dgain_slider.value\n",
    "            angle_last = angle\n",
    "\n",
    "            steering_slider.value = pid + steering_bias_slider.value\n",
    "\n",
    "\n",
    "            \n",
    "            \n",
    "            robot.left_motor.value = 1.10*max(min(speed_slider.value + steering_slider.value, 1.0), 0.0)\n",
    "            robot.right_motor.value = max(min(speed_slider.value - steering_slider.value, 1.0), 0.0)\n",
    "        execute({'new': camera.value})\n",
    "        camera.observe(execute, names='value')\n",
    "        import time\n",
    "        gate=8\n",
    "        time.sleep(2.85)\n",
    "        \n",
    "        camera.unobserve(execute,names='value')\n",
    "        time.sleep(0.1)\n",
    "        robot.stop()\n",
    "        camera.stop()"
   ]
  },
  {
   "cell_type": "code",
   "execution_count": null,
   "id": "boxed-lottery",
   "metadata": {},
   "outputs": [],
   "source": [
    "if gate==8:\n",
    "    import smbus2\n",
    "    import time\n",
    "    import RPi.GPIO as GPIO\n",
    "\n",
    "    kirmizi_bas = 0\n",
    "    kirmizi = 0\n",
    "    kirmizi1 = 0\n",
    "    kirmizi2 = 0\n",
    "    hot = 0\n",
    "    beyaz1 = 0\n",
    "    beyaz2 = 0\n",
    "\n",
    "    # TCS34725 I2C adresi ve komut bitleri\n",
    "    TCS34725_ADDRESS = 0x29\n",
    "    TCS34725_COMMAND_BIT = 0x80\n",
    "\n",
    "    # TCS34725 register adresleri\n",
    "    TCS34725_ENABLE = 0x00\n",
    "    TCS34725_ATIME = 0x01\n",
    "    TCS34725_CONTROL = 0x0F\n",
    "    TCS34725_CDATAL = 0x14\n",
    "    TCS34725_RDATAL = 0x16\n",
    "    TCS34725_GDATAL = 0x18\n",
    "    TCS34725_BDATAL = 0x1A\n",
    "\n",
    "    # I2C bus numarası (Jetson Nano'da genellikle I2C bus 0 kullanılır)\n",
    "    I2C_BUS = 0\n",
    "\n",
    "    # Sensör güç kontrol pinleri\n",
    "    VCC1_PIN = 17  # GPIO 17\n",
    "    VCC2_PIN = 27  # GPIO 27\n",
    "\n",
    "    # I2C bus nesnesini oluştur\n",
    "    i2c = smbus2.SMBus(I2C_BUS)\n",
    "\n",
    "    # GPIO ayarları\n",
    "    GPIO.setmode(GPIO.BCM)\n",
    "    GPIO.setup(VCC1_PIN, GPIO.OUT)\n",
    "    GPIO.setup(VCC2_PIN, GPIO.OUT)\n",
    "\n",
    "    def power_on_sensor(sensor_pin):\n",
    "        GPIO.output(sensor_pin, GPIO.HIGH)\n",
    "        time.sleep(0.1)  # Sensörün güç alması için bekleyin\n",
    "\n",
    "    def power_off_sensor(sensor_pin):\n",
    "        GPIO.output(sensor_pin, GPIO.LOW)\n",
    "        time.sleep(0.1)  # Sensörün kapanması için bekleyin\n",
    "\n",
    "    def write_register(reg, value):\n",
    "        i2c.write_byte_data(TCS34725_ADDRESS, TCS34725_COMMAND_BIT | reg, value)\n",
    "\n",
    "    def read_register_16(reg):\n",
    "        data = i2c.read_i2c_block_data(TCS34725_ADDRESS, TCS34725_COMMAND_BIT | reg, 2)\n",
    "        return data[1] << 8 | data[0]\n",
    "\n",
    "    def initialize_sensor():\n",
    "        write_register(TCS34725_ENABLE, 0x01)\n",
    "        time.sleep(0.01)\n",
    "        write_register(TCS34725_ENABLE, 0x03)\n",
    "        write_register(TCS34725_ATIME, 0xFF)\n",
    "        write_register(TCS34725_CONTROL, 0x00)\n",
    "        time.sleep(0.7)  # Entegrasyon zamanı\n",
    "\n",
    "    def read_color_ratio():\n",
    "        r = read_register_16(TCS34725_RDATAL)\n",
    "        g = read_register_16(TCS34725_GDATAL)\n",
    "        b = read_register_16(TCS34725_BDATAL)\n",
    "        c = read_register_16(TCS34725_CDATAL)\n",
    "        if c == 0:\n",
    "            return 0\n",
    "        else:\n",
    "            return r / c\n",
    "\n",
    "    # Kırmızı renk algılama eşiği\n",
    "    RED_THRESHOLD = 0.43\n",
    "    \n",
    "    # Başlangıç zamanını al\n",
    "    start_time = time.time()\n",
    "\n",
    "    try:\n",
    "        while hot == 0 and (time.time() - start_time) < 10:  # 10 saniye sınırı ekledik\n",
    "            # Sensör 1 için işlemler\n",
    "            power_on_sensor(VCC1_PIN)\n",
    "            initialize_sensor()\n",
    "            red_ratio_1 = read_color_ratio()\n",
    "            power_off_sensor(VCC1_PIN)\n",
    "\n",
    "            # Sensör 2 için işlemler\n",
    "            power_on_sensor(VCC2_PIN)\n",
    "            initialize_sensor()\n",
    "            red_ratio_2 = read_color_ratio()\n",
    "            power_off_sensor(VCC2_PIN)\n",
    "\n",
    "            print(f\"Red Ratio 1: {red_ratio_1}, Red Ratio 2: {red_ratio_2}\")\n",
    "\n",
    "            if red_ratio_1 > RED_THRESHOLD:\n",
    "                kirmizi1 += 1\n",
    "\n",
    "            if red_ratio_2 > RED_THRESHOLD:\n",
    "                kirmizi2 += 1\n",
    "\n",
    "            if red_ratio_1 < RED_THRESHOLD:\n",
    "                beyaz1 += 1\n",
    "\n",
    "            if red_ratio_2 < RED_THRESHOLD:\n",
    "                beyaz2 += 1\n",
    "\n",
    "            print(f\"Kirmizi1: {kirmizi1}, Kirmizi2: {kirmizi2}, Beyaz1: {beyaz1}, Beyaz2: {beyaz2}\")\n",
    "\n",
    "            if kirmizi1 + kirmizi2 > 4:\n",
    "                kirmizi_bas = 1\n",
    "\n",
    "            if beyaz1 + beyaz2 > 6 and kirmizi1 + kirmizi2 < 4:\n",
    "\n",
    "\n",
    "                time.sleep(1)\n",
    "\n",
    "        print(\"Döngü sona erdi.\")\n",
    "    finally:\n",
    "\n",
    "        GPIO.cleanup()  # GPIO pinlerini temizle\n"
   ]
  },
  {
   "cell_type": "code",
   "execution_count": null,
   "id": "disciplinary-scotland",
   "metadata": {},
   "outputs": [],
   "source": [
    "if gate==8:\n",
    "    parking_status=\"Park Islemi Bitti\"\n",
    "    plate_status=\"Found\"\n",
    "    #geri yollama kodu\n",
    "    @app.route('/get_status', methods=['GET'])\n",
    "    def get_status():\n",
    "        global user_input\n",
    "        response = {\n",
    "                \"plateStatus\": plate_status,\n",
    "                \"parkingStatus\": parking_status,\n",
    "                \"redLineCount\": kirmizi_bas,\n",
    "                \"score\": (-1)*kirmizi_bas          \n",
    "            }\n",
    "        return jsonify(response)"
   ]
  },
  {
   "cell_type": "code",
   "execution_count": 224,
   "id": "rising-medicine",
   "metadata": {},
   "outputs": [],
   "source": [
    "if gate==0:\n",
    "    #sağ\n",
    "    robot.set_motors(0.18,-0.18)\n",
    "    time.sleep(0.5)\n",
    "    robot.set_motors(-1,1)\n",
    "\n",
    "    robot.stop()"
   ]
  },
  {
   "cell_type": "code",
   "execution_count": 225,
   "id": "romantic-ability",
   "metadata": {},
   "outputs": [
    {
     "data": {
      "application/vnd.jupyter.widget-view+json": {
       "model_id": "627afca3f0c84363b012f1e2658f6bc1",
       "version_major": 2,
       "version_minor": 0
      },
      "text/plain": [
       "FloatSlider(value=0.12, description='speed gain', max=1.0, step=0.01)"
      ]
     },
     "metadata": {},
     "output_type": "display_data"
    },
    {
     "data": {
      "application/vnd.jupyter.widget-view+json": {
       "model_id": "4f2ae41434384d0a99222c14853febed",
       "version_major": 2,
       "version_minor": 0
      },
      "text/plain": [
       "FloatSlider(value=0.005, description='steering gain', max=1.0, step=0.005)"
      ]
     },
     "metadata": {},
     "output_type": "display_data"
    },
    {
     "data": {
      "application/vnd.jupyter.widget-view+json": {
       "model_id": "678ccc34471a4487a0523a8d94e45913",
       "version_major": 2,
       "version_minor": 0
      },
      "text/plain": [
       "FloatSlider(value=0.04, description='steering kd', max=0.5, step=0.001)"
      ]
     },
     "metadata": {},
     "output_type": "display_data"
    },
    {
     "data": {
      "application/vnd.jupyter.widget-view+json": {
       "model_id": "3dd3eba0c4ee4cc4a6d49ead035ca173",
       "version_major": 2,
       "version_minor": 0
      },
      "text/plain": [
       "FloatSlider(value=0.0, description='steering bias', max=0.3, min=-0.3, step=0.01)"
      ]
     },
     "metadata": {},
     "output_type": "display_data"
    }
   ],
   "source": [
    "if gate==0:\n",
    "    camera = Camera()\n",
    "    from jetbot import Robot\n",
    "\n",
    "    robot = Robot()\n",
    "    speed_gain_slider = ipywidgets.FloatSlider(min=0.0, max=1.0, step=0.01, value=0.12, description='speed gain')\n",
    "    steering_gain_slider = ipywidgets.FloatSlider(min=0.0, max=1.0, step=0.005, value=0.005, description='steering gain')\n",
    "    steering_dgain_slider = ipywidgets.FloatSlider(min=0.0, max=0.5, step=0.001, value=0.04, description='steering kd')\n",
    "    steering_bias_slider = ipywidgets.FloatSlider(min=-0.3, max=0.3, step=0.01, value=0.0, description='steering bias')\n",
    "\n",
    "    display(speed_gain_slider, steering_gain_slider, steering_dgain_slider, steering_bias_slider)"
   ]
  },
  {
   "cell_type": "code",
   "execution_count": 226,
   "id": "coral-sheriff",
   "metadata": {},
   "outputs": [],
   "source": [
    "if gate==0:\n",
    "    import time\n",
    "    import numpy as np\n",
    "\n",
    "\n",
    "    angle = 0.0\n",
    "    angle_last = 0.0\n",
    "\n",
    "    def execute(change):\n",
    "        global angle, angle_last, a\n",
    "        image = change['new']\n",
    "        xy = model_trt_1(preprocess(image)).detach().float().cpu().numpy().flatten()\n",
    "        x = xy[0]\n",
    "        y = (0.5 - xy[1]) / 2.0\n",
    "\n",
    "        x_slider.value = x\n",
    "        y_slider.value = y\n",
    "\n",
    "        speed_slider.value = speed_gain_slider.value\n",
    "\n",
    "        angle = np.arctan2(x, y)\n",
    "        pid = angle * steering_gain_slider.value + (angle - angle_last) * steering_dgain_slider.value\n",
    "        angle_last = angle\n",
    "\n",
    "        steering_slider.value = pid + steering_bias_slider.value\n",
    "\n",
    "        \n",
    "        \n",
    "        angle_threshold = 0.05  # Define a small threshold for the angle to consider the robot as centered\n",
    "        if abs(angle) < angle_threshold:\n",
    "                # Move straight if the angle is within the threshold\n",
    "            robot.left_motor.value = speed_slider.value\n",
    "            robot.right_motor.value = speed_slider.value\n",
    "        else:\n",
    "                # Adjust motor speeds based on the calculated PID value\n",
    "            robot.left_motor.value = 1.05*max(min(speed_slider.value + steering_slider.value, 1.0), 0.0)\n",
    "            robot.right_motor.value = max(min(speed_slider.value - steering_slider.value, 1.0), 0.0)\n",
    "    \n",
    "    execute({'new': camera.value})\n",
    "    camera.observe(execute, names='value')\n",
    "    import time \n",
    "    time.sleep(1.2)\n",
    "    camera.unobserve(execute,names='value')\n",
    "    time.sleep(0.1)\n",
    "    robot.stop()"
   ]
  },
  {
   "cell_type": "code",
   "execution_count": 228,
   "id": "ethical-clear",
   "metadata": {},
   "outputs": [],
   "source": [
    "if gate==0:\n",
    "    camera.stop()"
   ]
  },
  {
   "cell_type": "code",
   "execution_count": 229,
   "id": "announced-trading",
   "metadata": {},
   "outputs": [],
   "source": [
    "if gate==0:\n",
    "    #sol\n",
    "    robot.set_motors(-0.18,0.18)\n",
    "    time.sleep(0.5)\n",
    "    robot.set_motors(1,-1)\n",
    "\n",
    "    robot.stop()"
   ]
  },
  {
   "cell_type": "code",
   "execution_count": 230,
   "id": "after-frank",
   "metadata": {},
   "outputs": [
    {
     "data": {
      "application/vnd.jupyter.widget-view+json": {
       "model_id": "6a0ba8695f494252b7e3f166cfbf8730",
       "version_major": 2,
       "version_minor": 0
      },
      "text/plain": [
       "Image(value=b'', format='jpeg', height='480', width='640')"
      ]
     },
     "metadata": {},
     "output_type": "display_data"
    },
    {
     "name": "stdout",
     "output_type": "stream",
     "text": [
      "Bulunan sayı: 6\n",
      "Bulunan sayı: 6\n",
      "Bulunan sayı: 6\n",
      "sayi yok\n",
      "Bulunan sayı: 6\n",
      "Bulunan sayı: 6\n",
      "Bulunan sayı: 6\n"
     ]
    }
   ],
   "source": [
    "if gate==0:\n",
    "    #calısan kod\n",
    "    import time\n",
    "    import pytesseract\n",
    "    import cv2\n",
    "    import numpy as np\n",
    "    from jetbot import Camera,Robot\n",
    "    import ipywidgets.widgets as widgets\n",
    "    from IPython.display import display\n",
    "    a=0\n",
    "    robot=Robot()\n",
    "\n",
    "    # İleri gitmek için motorları belirli bir hızda çalıştırın\n",
    "\n",
    "    # JetBot kamerasını başlat\n",
    "    camera = Camera.instance(width=640, height=480)\n",
    "\n",
    "    # Görüntüyü IPython widget'ında göstermek için widget oluştur\n",
    "    image_widget = widgets.Image(format='jpeg', width=640, height=480)\n",
    "    display(image_widget)\n",
    "\n",
    "    # OCR ayarlarını tanımla\n",
    "    custom_config = r'--oem 3 --psm 6 outputbase digits'\n",
    "    start_time=time.time()\n",
    "    # Ana döngü\n",
    "    try:\n",
    "        while True:\n",
    "            if time.time()-start_time>4:\n",
    "                camera.stop()\n",
    "                break\n",
    "            frame = camera.value\n",
    "\n",
    "        # Sağdan ve soldan belirli bir genişlikte kısmı kırp\n",
    "            crop_width_right = 220 # Sağdan kırpılacak genişlik\n",
    "            crop_width_left = 240  # Soldan kırpılacak genişlik\n",
    "\n",
    "            frame = frame[:, crop_width_left:-crop_width_right]\n",
    "\n",
    "        # Görüntüyü gri tonlamaya çevir\n",
    "            gray = cv2.cvtColor(frame, cv2.COLOR_BGR2GRAY)\n",
    "        # Görüntüyü bulanıklaştır\n",
    "            gray = cv2.GaussianBlur(gray, (5, 5), 0)\n",
    "        # Görüntüyü binarize et\n",
    "            _, binary_image = cv2.threshold(gray, 0, 255, cv2.THRESH_BINARY + cv2.THRESH_OTSU)\n",
    "\n",
    "        # OCR ile metin çıkar\n",
    "            text = pytesseract.image_to_string(binary_image, config=custom_config)\n",
    "        # Sayıları filtrele\n",
    "            number = ''.join(filter(str.isdigit, text))\n",
    "            if number:  # Eğer sayı bulunduysa\n",
    "                digit_list = [int(digit) for digit in number] # number string'indeki her rakamı integer listesine dönüştür\n",
    "                if len(digit_list)==1:\n",
    "                    num=digit_list[0]\n",
    "                    print(\"Bulunan sayı:\", num)\n",
    "                else:\n",
    "                    num=digit_list[0]*10+digit_list[1]\n",
    "                    print(\"Bulunan sayi:\",num)\n",
    "            else:\n",
    "                print(\"sayi yok\")\n",
    "\n",
    "        # Widget güncellemesi için görüntüyü encode et\n",
    "            _, encoded_image = cv2.imencode('.jpg', frame)\n",
    "            image_widget.value = encoded_image.tobytes()\n",
    "\n",
    "\n",
    "\n",
    "\n",
    "    except KeyboardInterrupt:\n",
    "        # Kamera durdurulduğunda döngüyü kes\n",
    "        camera.stop()\n",
    "        print(\"Kamera durduruldu\")"
   ]
  },
  {
   "cell_type": "code",
   "execution_count": 231,
   "id": "macro-carbon",
   "metadata": {},
   "outputs": [],
   "source": [
    "if gate==0:\n",
    "    camera.stop()"
   ]
  },
  {
   "cell_type": "code",
   "execution_count": 232,
   "id": "strategic-dress",
   "metadata": {},
   "outputs": [
    {
     "data": {
      "application/vnd.jupyter.widget-view+json": {
       "model_id": "3b04dd2ecb994f9c92e956e785d0759b",
       "version_major": 2,
       "version_minor": 0
      },
      "text/plain": [
       "FloatSlider(value=0.12, description='speed gain', max=1.0, step=0.01)"
      ]
     },
     "metadata": {},
     "output_type": "display_data"
    },
    {
     "data": {
      "application/vnd.jupyter.widget-view+json": {
       "model_id": "c5135b345efd42f9b19ec37b485114a5",
       "version_major": 2,
       "version_minor": 0
      },
      "text/plain": [
       "FloatSlider(value=0.005, description='steering gain', max=1.0, step=0.005)"
      ]
     },
     "metadata": {},
     "output_type": "display_data"
    },
    {
     "data": {
      "application/vnd.jupyter.widget-view+json": {
       "model_id": "941683887fbf44d59dae768c022a2fbb",
       "version_major": 2,
       "version_minor": 0
      },
      "text/plain": [
       "FloatSlider(value=0.04, description='steering kd', max=0.5, step=0.001)"
      ]
     },
     "metadata": {},
     "output_type": "display_data"
    },
    {
     "data": {
      "application/vnd.jupyter.widget-view+json": {
       "model_id": "72e07b5d90714874a5bc62e4b3c64f7b",
       "version_major": 2,
       "version_minor": 0
      },
      "text/plain": [
       "FloatSlider(value=0.0, description='steering bias', max=0.3, min=-0.3, step=0.01)"
      ]
     },
     "metadata": {},
     "output_type": "display_data"
    }
   ],
   "source": [
    "if gate==0:\n",
    "    if num==plaka:\n",
    "        import torch\n",
    "        from torch2trt import TRTModule\n",
    "\n",
    "        model_trt = TRTModule()\n",
    "        model_trt.load_state_dict(torch.load('best_parking_model_xy_trt.pth'))\n",
    "        from IPython.display import display\n",
    "        import ipywidgets\n",
    "        import traitlets\n",
    "        from jetbot import Camera, bgr8_to_jpeg\n",
    "\n",
    "        camera = Camera()\n",
    "        speed_gain_slider = ipywidgets.FloatSlider(min=0.0, max=1.0, step=0.01, value=0.12, description='speed gain')\n",
    "        steering_gain_slider = ipywidgets.FloatSlider(min=0.0, max=1.0, step=0.005, value=0.005, description='steering gain')\n",
    "        steering_dgain_slider = ipywidgets.FloatSlider(min=0.0, max=0.5, step=0.001, value=0.04, description='steering kd')\n",
    "        steering_bias_slider = ipywidgets.FloatSlider(min=-0.3, max=0.3, step=0.01, value=0.0, description='steering bias')\n",
    "\n",
    "        display(speed_gain_slider, steering_gain_slider, steering_dgain_slider, steering_bias_slider)\n",
    "        import time\n",
    "        from jetbot import Robot\n",
    "        robot=Robot()\n",
    "        angle = 0.0\n",
    "        angle_last = 0.0\n",
    "        \n",
    "        def execute(change):\n",
    "            global angle, angle_last,b\n",
    "            image = change['new']\n",
    "            xy = model_trt(preprocess(image)).detach().float().cpu().numpy().flatten()\n",
    "            x = xy[0]\n",
    "            y = (0.5 - xy[1]) / 2.0\n",
    "\n",
    "            x_slider.value = x\n",
    "            y_slider.value = y\n",
    "\n",
    "            speed_slider.value = speed_gain_slider.value\n",
    "\n",
    "            angle = np.arctan2(x, y)\n",
    "            pid = angle * steering_gain_slider.value + (angle - angle_last) * steering_dgain_slider.value\n",
    "            angle_last = angle\n",
    "\n",
    "            steering_slider.value = pid + steering_bias_slider.value\n",
    "\n",
    "\n",
    "            \n",
    "            \n",
    "            robot.left_motor.value = 1.10*max(min(speed_slider.value + steering_slider.value, 1.0), 0.0)\n",
    "            robot.right_motor.value = max(min(speed_slider.value - steering_slider.value, 1.0), 0.0)\n",
    "        execute({'new': camera.value})\n",
    "        camera.observe(execute, names='value')\n",
    "        import time\n",
    "        gate=9\n",
    "        time.sleep(2.85)\n",
    "        \n",
    "        camera.unobserve(execute,names='value')\n",
    "        time.sleep(0.1)\n",
    "        robot.stop()\n",
    "        camera.stop()"
   ]
  },
  {
   "cell_type": "code",
   "execution_count": null,
   "id": "rental-garbage",
   "metadata": {},
   "outputs": [],
   "source": [
    "if gate==9:\n",
    "    import smbus2\n",
    "    import time\n",
    "    import RPi.GPIO as GPIO\n",
    "\n",
    "    kirmizi_bas = 0\n",
    "    kirmizi = 0\n",
    "    kirmizi1 = 0\n",
    "    kirmizi2 = 0\n",
    "    hot = 0\n",
    "    beyaz1 = 0\n",
    "    beyaz2 = 0\n",
    "\n",
    "    # TCS34725 I2C adresi ve komut bitleri\n",
    "    TCS34725_ADDRESS = 0x29\n",
    "    TCS34725_COMMAND_BIT = 0x80\n",
    "\n",
    "    # TCS34725 register adresleri\n",
    "    TCS34725_ENABLE = 0x00\n",
    "    TCS34725_ATIME = 0x01\n",
    "    TCS34725_CONTROL = 0x0F\n",
    "    TCS34725_CDATAL = 0x14\n",
    "    TCS34725_RDATAL = 0x16\n",
    "    TCS34725_GDATAL = 0x18\n",
    "    TCS34725_BDATAL = 0x1A\n",
    "\n",
    "    # I2C bus numarası (Jetson Nano'da genellikle I2C bus 0 kullanılır)\n",
    "    I2C_BUS = 0\n",
    "\n",
    "    # Sensör güç kontrol pinleri\n",
    "    VCC1_PIN = 17  # GPIO 17\n",
    "    VCC2_PIN = 27  # GPIO 27\n",
    "\n",
    "    # I2C bus nesnesini oluştur\n",
    "    i2c = smbus2.SMBus(I2C_BUS)\n",
    "\n",
    "    # GPIO ayarları\n",
    "    GPIO.setmode(GPIO.BCM)\n",
    "    GPIO.setup(VCC1_PIN, GPIO.OUT)\n",
    "    GPIO.setup(VCC2_PIN, GPIO.OUT)\n",
    "\n",
    "    def power_on_sensor(sensor_pin):\n",
    "        GPIO.output(sensor_pin, GPIO.HIGH)\n",
    "        time.sleep(0.1)  # Sensörün güç alması için bekleyin\n",
    "\n",
    "    def power_off_sensor(sensor_pin):\n",
    "        GPIO.output(sensor_pin, GPIO.LOW)\n",
    "        time.sleep(0.1)  # Sensörün kapanması için bekleyin\n",
    "\n",
    "    def write_register(reg, value):\n",
    "        i2c.write_byte_data(TCS34725_ADDRESS, TCS34725_COMMAND_BIT | reg, value)\n",
    "\n",
    "    def read_register_16(reg):\n",
    "        data = i2c.read_i2c_block_data(TCS34725_ADDRESS, TCS34725_COMMAND_BIT | reg, 2)\n",
    "        return data[1] << 8 | data[0]\n",
    "\n",
    "    def initialize_sensor():\n",
    "        write_register(TCS34725_ENABLE, 0x01)\n",
    "        time.sleep(0.01)\n",
    "        write_register(TCS34725_ENABLE, 0x03)\n",
    "        write_register(TCS34725_ATIME, 0xFF)\n",
    "        write_register(TCS34725_CONTROL, 0x00)\n",
    "        time.sleep(0.7)  # Entegrasyon zamanı\n",
    "\n",
    "    def read_color_ratio():\n",
    "        r = read_register_16(TCS34725_RDATAL)\n",
    "        g = read_register_16(TCS34725_GDATAL)\n",
    "        b = read_register_16(TCS34725_BDATAL)\n",
    "        c = read_register_16(TCS34725_CDATAL)\n",
    "        if c == 0:\n",
    "            return 0\n",
    "        else:\n",
    "            return r / c\n",
    "\n",
    "    # Kırmızı renk algılama eşiği\n",
    "    RED_THRESHOLD = 0.43\n",
    "    \n",
    "    # Başlangıç zamanını al\n",
    "    start_time = time.time()\n",
    "\n",
    "    try:\n",
    "        while hot == 0 and (time.time() - start_time) < 10:  # 10 saniye sınırı ekledik\n",
    "            # Sensör 1 için işlemler\n",
    "            power_on_sensor(VCC1_PIN)\n",
    "            initialize_sensor()\n",
    "            red_ratio_1 = read_color_ratio()\n",
    "            power_off_sensor(VCC1_PIN)\n",
    "\n",
    "            # Sensör 2 için işlemler\n",
    "            power_on_sensor(VCC2_PIN)\n",
    "            initialize_sensor()\n",
    "            red_ratio_2 = read_color_ratio()\n",
    "            power_off_sensor(VCC2_PIN)\n",
    "\n",
    "            print(f\"Red Ratio 1: {red_ratio_1}, Red Ratio 2: {red_ratio_2}\")\n",
    "\n",
    "            if red_ratio_1 > RED_THRESHOLD:\n",
    "                kirmizi1 += 1\n",
    "\n",
    "            if red_ratio_2 > RED_THRESHOLD:\n",
    "                kirmizi2 += 1\n",
    "\n",
    "            if red_ratio_1 < RED_THRESHOLD:\n",
    "                beyaz1 += 1\n",
    "\n",
    "            if red_ratio_2 < RED_THRESHOLD:\n",
    "                beyaz2 += 1\n",
    "\n",
    "            print(f\"Kirmizi1: {kirmizi1}, Kirmizi2: {kirmizi2}, Beyaz1: {beyaz1}, Beyaz2: {beyaz2}\")\n",
    "\n",
    "            if kirmizi1 + kirmizi2 > 4:\n",
    "                kirmizi_bas = 1\n",
    "\n",
    "            if beyaz1 + beyaz2 > 6 and kirmizi1 + kirmizi2 < 4:\n",
    "\n",
    "\n",
    "                time.sleep(1)\n",
    "\n",
    "        print(\"Döngü sona erdi.\")\n",
    "    finally:\n",
    "\n",
    "        GPIO.cleanup()  # GPIO pinlerini temizle\n"
   ]
  },
  {
   "cell_type": "code",
   "execution_count": null,
   "id": "decreased-serum",
   "metadata": {},
   "outputs": [],
   "source": [
    "if gate==9:\n",
    "    parking_status=\"Park Islemi Bitti\"\n",
    "    plate_status=\"Found\"\n",
    "    #geri yollama kodu\n",
    "    @app.route('/get_status', methods=['GET'])\n",
    "    def get_status():\n",
    "        global user_input\n",
    "        response = {\n",
    "                \"plateStatus\": plate_status,\n",
    "                \"parkingStatus\": parking_status,\n",
    "                \"redLineCount\": kirmizi_bas,\n",
    "                \"score\": (-1)*kirmizi_bas          \n",
    "            }\n",
    "        return jsonify(response)"
   ]
  },
  {
   "cell_type": "code",
   "execution_count": 165,
   "id": "boring-emphasis",
   "metadata": {},
   "outputs": [],
   "source": [
    "if gate==0:\n",
    "    #sağ\n",
    "    robot.set_motors(0.18,-0.18)\n",
    "    time.sleep(0.5)\n",
    "    robot.set_motors(-1,1)\n",
    "\n",
    "    robot.stop()"
   ]
  },
  {
   "cell_type": "code",
   "execution_count": 166,
   "id": "genuine-princeton",
   "metadata": {},
   "outputs": [
    {
     "data": {
      "application/vnd.jupyter.widget-view+json": {
       "model_id": "b797de62d87d48f88964ec1a97c02186",
       "version_major": 2,
       "version_minor": 0
      },
      "text/plain": [
       "FloatSlider(value=0.12, description='speed gain', max=1.0, step=0.01)"
      ]
     },
     "metadata": {},
     "output_type": "display_data"
    },
    {
     "data": {
      "application/vnd.jupyter.widget-view+json": {
       "model_id": "d5911969b1db446787cdfb71ded25b54",
       "version_major": 2,
       "version_minor": 0
      },
      "text/plain": [
       "FloatSlider(value=0.005, description='steering gain', max=1.0, step=0.005)"
      ]
     },
     "metadata": {},
     "output_type": "display_data"
    },
    {
     "data": {
      "application/vnd.jupyter.widget-view+json": {
       "model_id": "483158003451482a891e14869948f844",
       "version_major": 2,
       "version_minor": 0
      },
      "text/plain": [
       "FloatSlider(value=0.04, description='steering kd', max=0.5, step=0.001)"
      ]
     },
     "metadata": {},
     "output_type": "display_data"
    },
    {
     "data": {
      "application/vnd.jupyter.widget-view+json": {
       "model_id": "8257c4af3c8d49eda4080a1c13b42507",
       "version_major": 2,
       "version_minor": 0
      },
      "text/plain": [
       "FloatSlider(value=0.0, description='steering bias', max=0.3, min=-0.3, step=0.01)"
      ]
     },
     "metadata": {},
     "output_type": "display_data"
    }
   ],
   "source": [
    "if gate==0:\n",
    "    camera = Camera()\n",
    "    from jetbot import Robot\n",
    "\n",
    "    robot = Robot()\n",
    "    speed_gain_slider = ipywidgets.FloatSlider(min=0.0, max=1.0, step=0.01, value=0.12, description='speed gain')\n",
    "    steering_gain_slider = ipywidgets.FloatSlider(min=0.0, max=1.0, step=0.005, value=0.005, description='steering gain')\n",
    "    steering_dgain_slider = ipywidgets.FloatSlider(min=0.0, max=0.5, step=0.001, value=0.04, description='steering kd')\n",
    "    steering_bias_slider = ipywidgets.FloatSlider(min=-0.3, max=0.3, step=0.01, value=0.0, description='steering bias')\n",
    "\n",
    "    display(speed_gain_slider, steering_gain_slider, steering_dgain_slider, steering_bias_slider)"
   ]
  },
  {
   "cell_type": "code",
   "execution_count": 167,
   "id": "employed-logistics",
   "metadata": {},
   "outputs": [],
   "source": [
    "if gate==0:\n",
    "    import time\n",
    "    import numpy as np\n",
    "\n",
    "\n",
    "    angle = 0.0\n",
    "    angle_last = 0.0\n",
    "\n",
    "    def execute(change):\n",
    "        global angle, angle_last, a\n",
    "        image = change['new']\n",
    "        xy = model_trt_1(preprocess(image)).detach().float().cpu().numpy().flatten()\n",
    "        x = xy[0]\n",
    "        y = (0.5 - xy[1]) / 2.0\n",
    "\n",
    "        x_slider.value = x\n",
    "        y_slider.value = y\n",
    "\n",
    "        speed_slider.value = speed_gain_slider.value\n",
    "\n",
    "        angle = np.arctan2(x, y)\n",
    "        pid = angle * steering_gain_slider.value + (angle - angle_last) * steering_dgain_slider.value\n",
    "        angle_last = angle\n",
    "\n",
    "        steering_slider.value = pid + steering_bias_slider.value\n",
    "\n",
    "        \n",
    "        \n",
    "        angle_threshold = 0.05  # Define a small threshold for the angle to consider the robot as centered\n",
    "        if abs(angle) < angle_threshold:\n",
    "                # Move straight if the angle is within the threshold\n",
    "            robot.left_motor.value = speed_slider.value\n",
    "            robot.right_motor.value = speed_slider.value\n",
    "        else:\n",
    "                # Adjust motor speeds based on the calculated PID value\n",
    "            robot.left_motor.value = 1.05*max(min(speed_slider.value + steering_slider.value, 1.0), 0.0)\n",
    "            robot.right_motor.value = max(min(speed_slider.value - steering_slider.value, 1.0), 0.0)\n",
    "   \n",
    "    execute({'new': camera.value})\n",
    "    camera.observe(execute, names='value')\n",
    "    import time\n",
    "    time.sleep(1.2)\n",
    "    camera.unobserve(execute,names='value')\n",
    "    time.sleep(0.1)\n",
    "    robot.stop()"
   ]
  },
  {
   "cell_type": "code",
   "execution_count": 169,
   "id": "charitable-reviewer",
   "metadata": {},
   "outputs": [],
   "source": [
    "if gate==0:\n",
    "    camera.stop()"
   ]
  },
  {
   "cell_type": "code",
   "execution_count": 170,
   "id": "artistic-imperial",
   "metadata": {},
   "outputs": [],
   "source": [
    "if gate==0:\n",
    "    #sol\n",
    "    robot.set_motors(-0.18,0.18)\n",
    "    time.sleep(0.5)\n",
    "    robot.set_motors(1,-1)\n",
    "\n",
    "    robot.stop()"
   ]
  },
  {
   "cell_type": "code",
   "execution_count": 1,
   "id": "concrete-malta",
   "metadata": {},
   "outputs": [
    {
     "data": {
      "application/vnd.jupyter.widget-view+json": {
       "model_id": "2ebb6981fe3548e9bb2270535a730cee",
       "version_major": 2,
       "version_minor": 0
      },
      "text/plain": [
       "Image(value=b'', format='jpeg', height='480', width='640')"
      ]
     },
     "metadata": {},
     "output_type": "display_data"
    },
    {
     "name": "stdout",
     "output_type": "stream",
     "text": [
      "sayi yok\n",
      "sayi yok\n",
      "sayi yok\n",
      "sayi yok\n",
      "sayi yok\n",
      "sayi yok\n",
      "sayi yok\n",
      "sayi yok\n"
     ]
    }
   ],
   "source": [
    "if gate==0:\n",
    "    #calısan kod\n",
    "    import time\n",
    "    import pytesseract\n",
    "    import cv2\n",
    "    import numpy as np\n",
    "    from jetbot import Camera,Robot\n",
    "    import ipywidgets.widgets as widgets\n",
    "    from IPython.display import display\n",
    "    a=0\n",
    "    robot=Robot()\n",
    "\n",
    "    # İleri gitmek için motorları belirli bir hızda çalıştırın\n",
    "\n",
    "    # JetBot kamerasını başlat\n",
    "    camera = Camera.instance(width=640, height=480)\n",
    "\n",
    "    # Görüntüyü IPython widget'ında göstermek için widget oluştur\n",
    "    image_widget = widgets.Image(format='jpeg', width=640, height=480)\n",
    "    display(image_widget)\n",
    "\n",
    "    # OCR ayarlarını tanımla\n",
    "    custom_config = r'--oem 3 --psm 6 outputbase digits'\n",
    "    start_time=time.time()\n",
    "    # Ana döngü\n",
    "    try:\n",
    "        while True:\n",
    "            if time.time()-start_time>4:\n",
    "                camera.stop()\n",
    "                break\n",
    "            frame = camera.value\n",
    "\n",
    "        # Sağdan ve soldan belirli bir genişlikte kısmı kırp\n",
    "            crop_width_right = 220 # Sağdan kırpılacak genişlik\n",
    "            crop_width_left = 240  # Soldan kırpılacak genişlik\n",
    "\n",
    "            frame = frame[:, crop_width_left:-crop_width_right]\n",
    "\n",
    "        # Görüntüyü gri tonlamaya çevir\n",
    "            gray = cv2.cvtColor(frame, cv2.COLOR_BGR2GRAY)\n",
    "        # Görüntüyü bulanıklaştır\n",
    "            gray = cv2.GaussianBlur(gray, (5, 5), 0)\n",
    "        # Görüntüyü binarize et\n",
    "            _, binary_image = cv2.threshold(gray, 0, 255, cv2.THRESH_BINARY + cv2.THRESH_OTSU)\n",
    "\n",
    "        # OCR ile metin çıkar\n",
    "            text = pytesseract.image_to_string(binary_image, config=custom_config)\n",
    "        # Sayıları filtrele\n",
    "            number = ''.join(filter(str.isdigit, text))\n",
    "            if number:  # Eğer sayı bulunduysa\n",
    "                digit_list = [int(digit) for digit in number] # number string'indeki her rakamı integer listesine dönüştür\n",
    "                if len(digit_list)==1:\n",
    "                    num=digit_list[0]\n",
    "                    print(\"Bulunan sayı:\", num)\n",
    "                else:\n",
    "                    num=digit_list[0]*10+digit_list[1]\n",
    "                    print(\"Bulunan sayi:\",num)\n",
    "            else:\n",
    "                print(\"sayi yok\")\n",
    "\n",
    "        # Widget güncellemesi için görüntüyü encode et\n",
    "            _, encoded_image = cv2.imencode('.jpg', frame)\n",
    "            image_widget.value = encoded_image.tobytes()\n",
    "\n",
    "\n",
    "\n",
    "\n",
    "    except KeyboardInterrupt:\n",
    "        # Kamera durdurulduğunda döngüyü kes\n",
    "        camera.stop()\n",
    "        print(\"Kamera durduruldu\")"
   ]
  },
  {
   "cell_type": "code",
   "execution_count": null,
   "id": "smooth-extraction",
   "metadata": {},
   "outputs": [],
   "source": [
    "if gate==0:\n",
    "    camera.stop()"
   ]
  },
  {
   "cell_type": "code",
   "execution_count": null,
   "id": "earlier-romantic",
   "metadata": {},
   "outputs": [],
   "source": [
    "if gate==0:\n",
    "    if num==plaka:\n",
    "        import torch\n",
    "        from torch2trt import TRTModule\n",
    "\n",
    "        model_trt = TRTModule()\n",
    "        model_trt.load_state_dict(torch.load('best_parking_model_xy_trt.pth'))\n",
    "        from IPython.display import display\n",
    "        import ipywidgets\n",
    "        import traitlets\n",
    "        from jetbot import Camera, bgr8_to_jpeg\n",
    "\n",
    "        camera = Camera()\n",
    "        speed_gain_slider = ipywidgets.FloatSlider(min=0.0, max=1.0, step=0.01, value=0.12, description='speed gain')\n",
    "        steering_gain_slider = ipywidgets.FloatSlider(min=0.0, max=1.0, step=0.005, value=0.005, description='steering gain')\n",
    "        steering_dgain_slider = ipywidgets.FloatSlider(min=0.0, max=0.5, step=0.001, value=0.04, description='steering kd')\n",
    "        steering_bias_slider = ipywidgets.FloatSlider(min=-0.3, max=0.3, step=0.01, value=0.0, description='steering bias')\n",
    "\n",
    "        display(speed_gain_slider, steering_gain_slider, steering_dgain_slider, steering_bias_slider)\n",
    "        import time\n",
    "        from jetbot import Robot\n",
    "        robot=Robot()\n",
    "        angle = 0.0\n",
    "        angle_last = 0.0\n",
    "        \n",
    "        def execute(change):\n",
    "            global angle, angle_last,b\n",
    "            image = change['new']\n",
    "            xy = model_trt(preprocess(image)).detach().float().cpu().numpy().flatten()\n",
    "            x = xy[0]\n",
    "            y = (0.5 - xy[1]) / 2.0\n",
    "\n",
    "            x_slider.value = x\n",
    "            y_slider.value = y\n",
    "\n",
    "            speed_slider.value = speed_gain_slider.value\n",
    "\n",
    "            angle = np.arctan2(x, y)\n",
    "            pid = angle * steering_gain_slider.value + (angle - angle_last) * steering_dgain_slider.value\n",
    "            angle_last = angle\n",
    "\n",
    "            steering_slider.value = pid + steering_bias_slider.value\n",
    "\n",
    "\n",
    "           \n",
    "            \n",
    "            robot.left_motor.value = 1.10*max(min(speed_slider.value + steering_slider.value, 1.0), 0.0)\n",
    "            robot.right_motor.value = max(min(speed_slider.value - steering_slider.value, 1.0), 0.0)\n",
    "        execute({'new': camera.value})\n",
    "        camera.observe(execute, names='value')\n",
    "        import time\n",
    "        gate=10\n",
    "        time.sleep(2.85)\n",
    "        camera.unobserve(execute,names='value')\n",
    "        \n",
    "        time.sleep(0.1)\n",
    "        robot.stop()\n",
    "        camera.stop()"
   ]
  },
  {
   "cell_type": "code",
   "execution_count": null,
   "id": "affected-actress",
   "metadata": {},
   "outputs": [],
   "source": [
    "if gate==10:\n",
    "    import smbus2\n",
    "    import time\n",
    "    import RPi.GPIO as GPIO\n",
    "\n",
    "    kirmizi_bas = 0\n",
    "    kirmizi = 0\n",
    "    kirmizi1 = 0\n",
    "    kirmizi2 = 0\n",
    "    hot = 0\n",
    "    beyaz1 = 0\n",
    "    beyaz2 = 0\n",
    "\n",
    "    # TCS34725 I2C adresi ve komut bitleri\n",
    "    TCS34725_ADDRESS = 0x29\n",
    "    TCS34725_COMMAND_BIT = 0x80\n",
    "\n",
    "    # TCS34725 register adresleri\n",
    "    TCS34725_ENABLE = 0x00\n",
    "    TCS34725_ATIME = 0x01\n",
    "    TCS34725_CONTROL = 0x0F\n",
    "    TCS34725_CDATAL = 0x14\n",
    "    TCS34725_RDATAL = 0x16\n",
    "    TCS34725_GDATAL = 0x18\n",
    "    TCS34725_BDATAL = 0x1A\n",
    "\n",
    "    # I2C bus numarası (Jetson Nano'da genellikle I2C bus 0 kullanılır)\n",
    "    I2C_BUS = 0\n",
    "\n",
    "    # Sensör güç kontrol pinleri\n",
    "    VCC1_PIN = 17  # GPIO 17\n",
    "    VCC2_PIN = 27  # GPIO 27\n",
    "\n",
    "    # I2C bus nesnesini oluştur\n",
    "    i2c = smbus2.SMBus(I2C_BUS)\n",
    "\n",
    "    # GPIO ayarları\n",
    "    GPIO.setmode(GPIO.BCM)\n",
    "    GPIO.setup(VCC1_PIN, GPIO.OUT)\n",
    "    GPIO.setup(VCC2_PIN, GPIO.OUT)\n",
    "\n",
    "    def power_on_sensor(sensor_pin):\n",
    "        GPIO.output(sensor_pin, GPIO.HIGH)\n",
    "        time.sleep(0.1)  # Sensörün güç alması için bekleyin\n",
    "\n",
    "    def power_off_sensor(sensor_pin):\n",
    "        GPIO.output(sensor_pin, GPIO.LOW)\n",
    "        time.sleep(0.1)  # Sensörün kapanması için bekleyin\n",
    "\n",
    "    def write_register(reg, value):\n",
    "        i2c.write_byte_data(TCS34725_ADDRESS, TCS34725_COMMAND_BIT | reg, value)\n",
    "\n",
    "    def read_register_16(reg):\n",
    "        data = i2c.read_i2c_block_data(TCS34725_ADDRESS, TCS34725_COMMAND_BIT | reg, 2)\n",
    "        return data[1] << 8 | data[0]\n",
    "\n",
    "    def initialize_sensor():\n",
    "        write_register(TCS34725_ENABLE, 0x01)\n",
    "        time.sleep(0.01)\n",
    "        write_register(TCS34725_ENABLE, 0x03)\n",
    "        write_register(TCS34725_ATIME, 0xFF)\n",
    "        write_register(TCS34725_CONTROL, 0x00)\n",
    "        time.sleep(0.7)  # Entegrasyon zamanı\n",
    "\n",
    "    def read_color_ratio():\n",
    "        r = read_register_16(TCS34725_RDATAL)\n",
    "        g = read_register_16(TCS34725_GDATAL)\n",
    "        b = read_register_16(TCS34725_BDATAL)\n",
    "        c = read_register_16(TCS34725_CDATAL)\n",
    "        if c == 0:\n",
    "            return 0\n",
    "        else:\n",
    "            return r / c\n",
    "\n",
    "    # Kırmızı renk algılama eşiği\n",
    "    RED_THRESHOLD = 0.43\n",
    "    \n",
    "    # Başlangıç zamanını al\n",
    "    start_time = time.time()\n",
    "\n",
    "    try:\n",
    "        while hot == 0 and (time.time() - start_time) < 10:  # 10 saniye sınırı ekledik\n",
    "            # Sensör 1 için işlemler\n",
    "            power_on_sensor(VCC1_PIN)\n",
    "            initialize_sensor()\n",
    "            red_ratio_1 = read_color_ratio()\n",
    "            power_off_sensor(VCC1_PIN)\n",
    "\n",
    "            # Sensör 2 için işlemler\n",
    "            power_on_sensor(VCC2_PIN)\n",
    "            initialize_sensor()\n",
    "            red_ratio_2 = read_color_ratio()\n",
    "            power_off_sensor(VCC2_PIN)\n",
    "\n",
    "            print(f\"Red Ratio 1: {red_ratio_1}, Red Ratio 2: {red_ratio_2}\")\n",
    "\n",
    "            if red_ratio_1 > RED_THRESHOLD:\n",
    "                kirmizi1 += 1\n",
    "\n",
    "            if red_ratio_2 > RED_THRESHOLD:\n",
    "                kirmizi2 += 1\n",
    "\n",
    "            if red_ratio_1 < RED_THRESHOLD:\n",
    "                beyaz1 += 1\n",
    "\n",
    "            if red_ratio_2 < RED_THRESHOLD:\n",
    "                beyaz2 += 1\n",
    "\n",
    "            print(f\"Kirmizi1: {kirmizi1}, Kirmizi2: {kirmizi2}, Beyaz1: {beyaz1}, Beyaz2: {beyaz2}\")\n",
    "\n",
    "            if kirmizi1 + kirmizi2 > 4:\n",
    "                kirmizi_bas = 1\n",
    "\n",
    "            if beyaz1 + beyaz2 > 6 and kirmizi1 + kirmizi2 < 4:\n",
    "\n",
    "\n",
    "                time.sleep(1)\n",
    "\n",
    "        print(\"Döngü sona erdi.\")\n",
    "    finally:\n",
    "\n",
    "        GPIO.cleanup()  # GPIO pinlerini temizle\n"
   ]
  },
  {
   "cell_type": "code",
   "execution_count": null,
   "id": "productive-adaptation",
   "metadata": {},
   "outputs": [],
   "source": [
    "if gate==10:\n",
    "    parking_status=\"Park Islemi Bitti\"\n",
    "    plate_status=\"Found\"\n",
    "    #geri yollama kodu\n",
    "    @app.route('/get_status', methods=['GET'])\n",
    "    def get_status():\n",
    "        global user_input\n",
    "        response = {\n",
    "                \"plateStatus\": plate_status,\n",
    "                \"parkingStatus\": parking_status,\n",
    "                \"redLineCount\": kirmizi_bas,\n",
    "                \"score\": (-1)*kirmizi_bas          \n",
    "            }\n",
    "        return jsonify(response)"
   ]
  },
  {
   "cell_type": "code",
   "execution_count": null,
   "id": "fatty-entrance",
   "metadata": {},
   "outputs": [],
   "source": [
    "if gate==0:\n",
    "    parking_status=\"Park Yapılamadı\"\n",
    "    plate_status=\"Not Found\"\n",
    "    #geri yollama kodu\n",
    "    @app.route('/get_status', methods=['GET'])\n",
    "    def get_status():\n",
    "        global user_input\n",
    "        response = {\n",
    "                \"plateStatus\": plate_status,\n",
    "                \"parkingStatus\": parking_status,\n",
    "                \"redLineCount\": kirmizi_bas,\n",
    "                \"score\": (-1)*kirmizi_bas          \n",
    "            }\n",
    "        return jsonify(response)"
   ]
  },
  {
   "cell_type": "code",
   "execution_count": null,
   "id": "elect-myanmar",
   "metadata": {},
   "outputs": [],
   "source": [
    "if gate==0:\n",
    "    robot.stop()\n",
    "    \n",
    "    time.sleep(0.1)\n",
    "    camera.stop()"
   ]
  }
 ],
 "metadata": {
  "kernelspec": {
   "display_name": "Python 3",
   "language": "python",
   "name": "python3"
  },
  "language_info": {
   "codemirror_mode": {
    "name": "ipython",
    "version": 3
   },
   "file_extension": ".py",
   "mimetype": "text/x-python",
   "name": "python",
   "nbconvert_exporter": "python",
   "pygments_lexer": "ipython3",
   "version": "3.6.9"
  }
 },
 "nbformat": 4,
 "nbformat_minor": 5
}
